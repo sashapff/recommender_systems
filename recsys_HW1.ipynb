{
  "nbformat": 4,
  "nbformat_minor": 0,
  "metadata": {
    "kernelspec": {
      "display_name": "Python 3",
      "language": "python",
      "name": "python3"
    },
    "language_info": {
      "codemirror_mode": {
        "name": "ipython",
        "version": 3
      },
      "file_extension": ".py",
      "mimetype": "text/x-python",
      "name": "python",
      "nbconvert_exporter": "python",
      "pygments_lexer": "ipython3",
      "version": "3.7.4"
    },
    "colab": {
      "name": "recsys-HW1.ipynb",
      "provenance": [],
      "include_colab_link": true
    },
    "widgets": {
      "application/vnd.jupyter.widget-state+json": {
        "8b324c80a432428c8714e09655c096b2": {
          "model_module": "@jupyter-widgets/controls",
          "model_name": "HBoxModel",
          "state": {
            "_view_name": "HBoxView",
            "_dom_classes": [],
            "_model_name": "HBoxModel",
            "_view_module": "@jupyter-widgets/controls",
            "_model_module_version": "1.5.0",
            "_view_count": null,
            "_view_module_version": "1.5.0",
            "box_style": "",
            "layout": "IPY_MODEL_8e11629e127c4f2a86bb0839fb9adf73",
            "_model_module": "@jupyter-widgets/controls",
            "children": [
              "IPY_MODEL_ef8be4025e764b03a18b6f604a8a99d3",
              "IPY_MODEL_03d36a3f53d14b02a6b076d45f7c6579"
            ]
          }
        },
        "8e11629e127c4f2a86bb0839fb9adf73": {
          "model_module": "@jupyter-widgets/base",
          "model_name": "LayoutModel",
          "state": {
            "_view_name": "LayoutView",
            "grid_template_rows": null,
            "right": null,
            "justify_content": null,
            "_view_module": "@jupyter-widgets/base",
            "overflow": null,
            "_model_module_version": "1.2.0",
            "_view_count": null,
            "flex_flow": null,
            "width": null,
            "min_width": null,
            "border": null,
            "align_items": null,
            "bottom": null,
            "_model_module": "@jupyter-widgets/base",
            "top": null,
            "grid_column": null,
            "overflow_y": null,
            "overflow_x": null,
            "grid_auto_flow": null,
            "grid_area": null,
            "grid_template_columns": null,
            "flex": null,
            "_model_name": "LayoutModel",
            "justify_items": null,
            "grid_row": null,
            "max_height": null,
            "align_content": null,
            "visibility": null,
            "align_self": null,
            "height": null,
            "min_height": null,
            "padding": null,
            "grid_auto_rows": null,
            "grid_gap": null,
            "max_width": null,
            "order": null,
            "_view_module_version": "1.2.0",
            "grid_template_areas": null,
            "object_position": null,
            "object_fit": null,
            "grid_auto_columns": null,
            "margin": null,
            "display": null,
            "left": null
          }
        },
        "ef8be4025e764b03a18b6f604a8a99d3": {
          "model_module": "@jupyter-widgets/controls",
          "model_name": "FloatProgressModel",
          "state": {
            "_view_name": "ProgressView",
            "style": "IPY_MODEL_d8b06963a80e418aa3998851363ef0fc",
            "_dom_classes": [],
            "description": "",
            "_model_name": "FloatProgressModel",
            "bar_style": "success",
            "max": 1,
            "_view_module": "@jupyter-widgets/controls",
            "_model_module_version": "1.5.0",
            "value": 1,
            "_view_count": null,
            "_view_module_version": "1.5.0",
            "orientation": "horizontal",
            "min": 0,
            "description_tooltip": null,
            "_model_module": "@jupyter-widgets/controls",
            "layout": "IPY_MODEL_bb254d7be5f943e1b7df5b3bfd983f08"
          }
        },
        "03d36a3f53d14b02a6b076d45f7c6579": {
          "model_module": "@jupyter-widgets/controls",
          "model_name": "HTMLModel",
          "state": {
            "_view_name": "HTMLView",
            "style": "IPY_MODEL_2c9cd44b93a9451a82025c89d9d8582c",
            "_dom_classes": [],
            "description": "",
            "_model_name": "HTMLModel",
            "placeholder": "​",
            "_view_module": "@jupyter-widgets/controls",
            "_model_module_version": "1.5.0",
            "value": " 575281/? [07:45&lt;00:00, 1235.70it/s]",
            "_view_count": null,
            "_view_module_version": "1.5.0",
            "description_tooltip": null,
            "_model_module": "@jupyter-widgets/controls",
            "layout": "IPY_MODEL_f6a612faf44a450a9cf69984ee356174"
          }
        },
        "d8b06963a80e418aa3998851363ef0fc": {
          "model_module": "@jupyter-widgets/controls",
          "model_name": "ProgressStyleModel",
          "state": {
            "_view_name": "StyleView",
            "_model_name": "ProgressStyleModel",
            "description_width": "initial",
            "_view_module": "@jupyter-widgets/base",
            "_model_module_version": "1.5.0",
            "_view_count": null,
            "_view_module_version": "1.2.0",
            "bar_color": null,
            "_model_module": "@jupyter-widgets/controls"
          }
        },
        "bb254d7be5f943e1b7df5b3bfd983f08": {
          "model_module": "@jupyter-widgets/base",
          "model_name": "LayoutModel",
          "state": {
            "_view_name": "LayoutView",
            "grid_template_rows": null,
            "right": null,
            "justify_content": null,
            "_view_module": "@jupyter-widgets/base",
            "overflow": null,
            "_model_module_version": "1.2.0",
            "_view_count": null,
            "flex_flow": null,
            "width": null,
            "min_width": null,
            "border": null,
            "align_items": null,
            "bottom": null,
            "_model_module": "@jupyter-widgets/base",
            "top": null,
            "grid_column": null,
            "overflow_y": null,
            "overflow_x": null,
            "grid_auto_flow": null,
            "grid_area": null,
            "grid_template_columns": null,
            "flex": null,
            "_model_name": "LayoutModel",
            "justify_items": null,
            "grid_row": null,
            "max_height": null,
            "align_content": null,
            "visibility": null,
            "align_self": null,
            "height": null,
            "min_height": null,
            "padding": null,
            "grid_auto_rows": null,
            "grid_gap": null,
            "max_width": null,
            "order": null,
            "_view_module_version": "1.2.0",
            "grid_template_areas": null,
            "object_position": null,
            "object_fit": null,
            "grid_auto_columns": null,
            "margin": null,
            "display": null,
            "left": null
          }
        },
        "2c9cd44b93a9451a82025c89d9d8582c": {
          "model_module": "@jupyter-widgets/controls",
          "model_name": "DescriptionStyleModel",
          "state": {
            "_view_name": "StyleView",
            "_model_name": "DescriptionStyleModel",
            "description_width": "",
            "_view_module": "@jupyter-widgets/base",
            "_model_module_version": "1.5.0",
            "_view_count": null,
            "_view_module_version": "1.2.0",
            "_model_module": "@jupyter-widgets/controls"
          }
        },
        "f6a612faf44a450a9cf69984ee356174": {
          "model_module": "@jupyter-widgets/base",
          "model_name": "LayoutModel",
          "state": {
            "_view_name": "LayoutView",
            "grid_template_rows": null,
            "right": null,
            "justify_content": null,
            "_view_module": "@jupyter-widgets/base",
            "overflow": null,
            "_model_module_version": "1.2.0",
            "_view_count": null,
            "flex_flow": null,
            "width": null,
            "min_width": null,
            "border": null,
            "align_items": null,
            "bottom": null,
            "_model_module": "@jupyter-widgets/base",
            "top": null,
            "grid_column": null,
            "overflow_y": null,
            "overflow_x": null,
            "grid_auto_flow": null,
            "grid_area": null,
            "grid_template_columns": null,
            "flex": null,
            "_model_name": "LayoutModel",
            "justify_items": null,
            "grid_row": null,
            "max_height": null,
            "align_content": null,
            "visibility": null,
            "align_self": null,
            "height": null,
            "min_height": null,
            "padding": null,
            "grid_auto_rows": null,
            "grid_gap": null,
            "max_width": null,
            "order": null,
            "_view_module_version": "1.2.0",
            "grid_template_areas": null,
            "object_position": null,
            "object_fit": null,
            "grid_auto_columns": null,
            "margin": null,
            "display": null,
            "left": null
          }
        },
        "04ffd9c8451548a4a30efee736c96d48": {
          "model_module": "@jupyter-widgets/controls",
          "model_name": "HBoxModel",
          "state": {
            "_view_name": "HBoxView",
            "_dom_classes": [],
            "_model_name": "HBoxModel",
            "_view_module": "@jupyter-widgets/controls",
            "_model_module_version": "1.5.0",
            "_view_count": null,
            "_view_module_version": "1.5.0",
            "box_style": "",
            "layout": "IPY_MODEL_d1a149113ff94cdc912d4e717aafe600",
            "_model_module": "@jupyter-widgets/controls",
            "children": [
              "IPY_MODEL_f90410e74dc8450f831c17a1909d6c72",
              "IPY_MODEL_35fd16b3b4bb449bacfd859a00fa8f0a"
            ]
          }
        },
        "d1a149113ff94cdc912d4e717aafe600": {
          "model_module": "@jupyter-widgets/base",
          "model_name": "LayoutModel",
          "state": {
            "_view_name": "LayoutView",
            "grid_template_rows": null,
            "right": null,
            "justify_content": null,
            "_view_module": "@jupyter-widgets/base",
            "overflow": null,
            "_model_module_version": "1.2.0",
            "_view_count": null,
            "flex_flow": null,
            "width": null,
            "min_width": null,
            "border": null,
            "align_items": null,
            "bottom": null,
            "_model_module": "@jupyter-widgets/base",
            "top": null,
            "grid_column": null,
            "overflow_y": null,
            "overflow_x": null,
            "grid_auto_flow": null,
            "grid_area": null,
            "grid_template_columns": null,
            "flex": null,
            "_model_name": "LayoutModel",
            "justify_items": null,
            "grid_row": null,
            "max_height": null,
            "align_content": null,
            "visibility": null,
            "align_self": null,
            "height": null,
            "min_height": null,
            "padding": null,
            "grid_auto_rows": null,
            "grid_gap": null,
            "max_width": null,
            "order": null,
            "_view_module_version": "1.2.0",
            "grid_template_areas": null,
            "object_position": null,
            "object_fit": null,
            "grid_auto_columns": null,
            "margin": null,
            "display": null,
            "left": null
          }
        },
        "f90410e74dc8450f831c17a1909d6c72": {
          "model_module": "@jupyter-widgets/controls",
          "model_name": "FloatProgressModel",
          "state": {
            "_view_name": "ProgressView",
            "style": "IPY_MODEL_4a3bcd717aa74f39b4e87beaf4dba65a",
            "_dom_classes": [],
            "description": "",
            "_model_name": "FloatProgressModel",
            "bar_style": "info",
            "max": 1,
            "_view_module": "@jupyter-widgets/controls",
            "_model_module_version": "1.5.0",
            "value": 1,
            "_view_count": null,
            "_view_module_version": "1.5.0",
            "orientation": "horizontal",
            "min": 0,
            "description_tooltip": null,
            "_model_module": "@jupyter-widgets/controls",
            "layout": "IPY_MODEL_b8f78bbd1cc24392827fe9cdaf87e695"
          }
        },
        "35fd16b3b4bb449bacfd859a00fa8f0a": {
          "model_module": "@jupyter-widgets/controls",
          "model_name": "HTMLModel",
          "state": {
            "_view_name": "HTMLView",
            "style": "IPY_MODEL_d11bc9a08f5d40e1b8f9ada6a59908c8",
            "_dom_classes": [],
            "description": "",
            "_model_name": "HTMLModel",
            "placeholder": "​",
            "_view_module": "@jupyter-widgets/controls",
            "_model_module_version": "1.5.0",
            "value": " 401954/? [05:18&lt;00:00, 1719.82it/s]",
            "_view_count": null,
            "_view_module_version": "1.5.0",
            "description_tooltip": null,
            "_model_module": "@jupyter-widgets/controls",
            "layout": "IPY_MODEL_46593478411b4383aaf0c67101c4bbec"
          }
        },
        "4a3bcd717aa74f39b4e87beaf4dba65a": {
          "model_module": "@jupyter-widgets/controls",
          "model_name": "ProgressStyleModel",
          "state": {
            "_view_name": "StyleView",
            "_model_name": "ProgressStyleModel",
            "description_width": "initial",
            "_view_module": "@jupyter-widgets/base",
            "_model_module_version": "1.5.0",
            "_view_count": null,
            "_view_module_version": "1.2.0",
            "bar_color": null,
            "_model_module": "@jupyter-widgets/controls"
          }
        },
        "b8f78bbd1cc24392827fe9cdaf87e695": {
          "model_module": "@jupyter-widgets/base",
          "model_name": "LayoutModel",
          "state": {
            "_view_name": "LayoutView",
            "grid_template_rows": null,
            "right": null,
            "justify_content": null,
            "_view_module": "@jupyter-widgets/base",
            "overflow": null,
            "_model_module_version": "1.2.0",
            "_view_count": null,
            "flex_flow": null,
            "width": null,
            "min_width": null,
            "border": null,
            "align_items": null,
            "bottom": null,
            "_model_module": "@jupyter-widgets/base",
            "top": null,
            "grid_column": null,
            "overflow_y": null,
            "overflow_x": null,
            "grid_auto_flow": null,
            "grid_area": null,
            "grid_template_columns": null,
            "flex": null,
            "_model_name": "LayoutModel",
            "justify_items": null,
            "grid_row": null,
            "max_height": null,
            "align_content": null,
            "visibility": null,
            "align_self": null,
            "height": null,
            "min_height": null,
            "padding": null,
            "grid_auto_rows": null,
            "grid_gap": null,
            "max_width": null,
            "order": null,
            "_view_module_version": "1.2.0",
            "grid_template_areas": null,
            "object_position": null,
            "object_fit": null,
            "grid_auto_columns": null,
            "margin": null,
            "display": null,
            "left": null
          }
        },
        "d11bc9a08f5d40e1b8f9ada6a59908c8": {
          "model_module": "@jupyter-widgets/controls",
          "model_name": "DescriptionStyleModel",
          "state": {
            "_view_name": "StyleView",
            "_model_name": "DescriptionStyleModel",
            "description_width": "",
            "_view_module": "@jupyter-widgets/base",
            "_model_module_version": "1.5.0",
            "_view_count": null,
            "_view_module_version": "1.2.0",
            "_model_module": "@jupyter-widgets/controls"
          }
        },
        "46593478411b4383aaf0c67101c4bbec": {
          "model_module": "@jupyter-widgets/base",
          "model_name": "LayoutModel",
          "state": {
            "_view_name": "LayoutView",
            "grid_template_rows": null,
            "right": null,
            "justify_content": null,
            "_view_module": "@jupyter-widgets/base",
            "overflow": null,
            "_model_module_version": "1.2.0",
            "_view_count": null,
            "flex_flow": null,
            "width": null,
            "min_width": null,
            "border": null,
            "align_items": null,
            "bottom": null,
            "_model_module": "@jupyter-widgets/base",
            "top": null,
            "grid_column": null,
            "overflow_y": null,
            "overflow_x": null,
            "grid_auto_flow": null,
            "grid_area": null,
            "grid_template_columns": null,
            "flex": null,
            "_model_name": "LayoutModel",
            "justify_items": null,
            "grid_row": null,
            "max_height": null,
            "align_content": null,
            "visibility": null,
            "align_self": null,
            "height": null,
            "min_height": null,
            "padding": null,
            "grid_auto_rows": null,
            "grid_gap": null,
            "max_width": null,
            "order": null,
            "_view_module_version": "1.2.0",
            "grid_template_areas": null,
            "object_position": null,
            "object_fit": null,
            "grid_auto_columns": null,
            "margin": null,
            "display": null,
            "left": null
          }
        }
      }
    }
  },
  "cells": [
    {
      "cell_type": "markdown",
      "metadata": {
        "id": "view-in-github",
        "colab_type": "text"
      },
      "source": [
        "<a href=\"https://colab.research.google.com/github/sashapff/recommender_systems/blob/main/recsys_HW1.ipynb\" target=\"_parent\"><img src=\"https://colab.research.google.com/assets/colab-badge.svg\" alt=\"Open In Colab\"/></a>"
      ]
    },
    {
      "cell_type": "markdown",
      "metadata": {
        "id": "7qBKjgEfckVp"
      },
      "source": [
        "### Матричные факторизации"
      ]
    },
    {
      "cell_type": "markdown",
      "metadata": {
        "id": "pIP6EivLckVz"
      },
      "source": [
        "В данной работе вам предстоит познакомиться с практической стороной матричных разложений.\n",
        "Работа поделена на 4 задания:\n",
        "1. Вам необходимо реализовать SVD разложения используя SGD на explicit данных\n",
        "2. Вам необходимо реализовать матричное разложения используя ALS на implicit данных\n",
        "3. Вам необходимо реализовать матричное разложения используя BPR(pair-wise loss) на implicit данных\n",
        "4. Вам необходимо реализовать матричное разложения используя WARP(list-wise loss) на implicit данных\n"
      ]
    },
    {
      "cell_type": "code",
      "metadata": {
        "colab": {
          "base_uri": "https://localhost:8080/"
        },
        "id": "Z2uhoAY-kxVC",
        "outputId": "3be61553-12e5-4919-fbb2-512cb6da7ae2"
      },
      "source": [
        "!pip install implicit\n",
        "!pip install lightfm"
      ],
      "execution_count": 1,
      "outputs": [
        {
          "output_type": "stream",
          "text": [
            "Requirement already satisfied: implicit in /usr/local/lib/python3.7/dist-packages (0.4.4)\n",
            "Requirement already satisfied: scipy>=0.16 in /usr/local/lib/python3.7/dist-packages (from implicit) (1.4.1)\n",
            "Requirement already satisfied: numpy in /usr/local/lib/python3.7/dist-packages (from implicit) (1.19.5)\n",
            "Requirement already satisfied: tqdm>=4.27 in /usr/local/lib/python3.7/dist-packages (from implicit) (4.41.1)\n",
            "Requirement already satisfied: lightfm in /usr/local/lib/python3.7/dist-packages (1.16)\n",
            "Requirement already satisfied: requests in /usr/local/lib/python3.7/dist-packages (from lightfm) (2.23.0)\n",
            "Requirement already satisfied: scipy>=0.17.0 in /usr/local/lib/python3.7/dist-packages (from lightfm) (1.4.1)\n",
            "Requirement already satisfied: scikit-learn in /usr/local/lib/python3.7/dist-packages (from lightfm) (0.22.2.post1)\n",
            "Requirement already satisfied: numpy in /usr/local/lib/python3.7/dist-packages (from lightfm) (1.19.5)\n",
            "Requirement already satisfied: chardet<4,>=3.0.2 in /usr/local/lib/python3.7/dist-packages (from requests->lightfm) (3.0.4)\n",
            "Requirement already satisfied: idna<3,>=2.5 in /usr/local/lib/python3.7/dist-packages (from requests->lightfm) (2.10)\n",
            "Requirement already satisfied: certifi>=2017.4.17 in /usr/local/lib/python3.7/dist-packages (from requests->lightfm) (2020.12.5)\n",
            "Requirement already satisfied: urllib3!=1.25.0,!=1.25.1,<1.26,>=1.21.1 in /usr/local/lib/python3.7/dist-packages (from requests->lightfm) (1.24.3)\n",
            "Requirement already satisfied: joblib>=0.11 in /usr/local/lib/python3.7/dist-packages (from scikit-learn->lightfm) (1.0.1)\n"
          ],
          "name": "stdout"
        }
      ]
    },
    {
      "cell_type": "code",
      "metadata": {
        "id": "BoSwLP7LckV0",
        "colab": {
          "base_uri": "https://localhost:8080/"
        },
        "outputId": "424cfea5-d7d9-4f41-8cf2-c32bbd186496"
      },
      "source": [
        "import implicit\n",
        "import pandas as pd\n",
        "import numpy as np\n",
        "import scipy.sparse as sp\n",
        "\n",
        "from lightfm.datasets import fetch_movielens\n",
        "\n",
        "from google.colab import drive\n",
        "drive.mount(\"/content/drive\", force_remount=True)"
      ],
      "execution_count": 2,
      "outputs": [
        {
          "output_type": "stream",
          "text": [
            "Mounted at /content/drive\n"
          ],
          "name": "stdout"
        }
      ]
    },
    {
      "cell_type": "markdown",
      "metadata": {
        "id": "S5yXq6sVckV0"
      },
      "source": [
        "В данной работе мы будем работать с explicit датасетом movieLens, в котором представленны пары user_id movie_id и rating выставленный пользователем фильму\n",
        "\n",
        "Скачать датасет можно по ссылке https://grouplens.org/datasets/movielens/1m/"
      ]
    },
    {
      "cell_type": "code",
      "metadata": {
        "id": "fOXiRXYWhx9z"
      },
      "source": [
        "prefix = '/content/drive/My Drive/recsys/ml-1m/'"
      ],
      "execution_count": 3,
      "outputs": []
    },
    {
      "cell_type": "code",
      "metadata": {
        "id": "IbsQayb2ckV1"
      },
      "source": [
        "ratings = pd.read_csv(prefix + 'ratings.dat', delimiter='::', header=None, \n",
        "        names=['user_id', 'movie_id', 'rating', 'timestamp'], \n",
        "        usecols=['user_id', 'movie_id', 'rating'], engine='python')"
      ],
      "execution_count": 4,
      "outputs": []
    },
    {
      "cell_type": "code",
      "metadata": {
        "id": "WjoIQxzsckV1"
      },
      "source": [
        "movie_info = pd.read_csv(prefix + 'movies.dat', delimiter='::', header=None, \n",
        "        names=['movie_id', 'name', 'category'], engine='python')"
      ],
      "execution_count": 5,
      "outputs": []
    },
    {
      "cell_type": "markdown",
      "metadata": {
        "id": "zAOlnIBEckV1"
      },
      "source": [
        "Explicit данные"
      ]
    },
    {
      "cell_type": "code",
      "metadata": {
        "id": "KC8XgVVyckV2",
        "colab": {
          "base_uri": "https://localhost:8080/",
          "height": 347
        },
        "outputId": "6ceb5d9c-e6ff-4123-9b83-0db9b1bf3a0c"
      },
      "source": [
        "ratings.head(10)"
      ],
      "execution_count": 6,
      "outputs": [
        {
          "output_type": "execute_result",
          "data": {
            "text/html": [
              "<div>\n",
              "<style scoped>\n",
              "    .dataframe tbody tr th:only-of-type {\n",
              "        vertical-align: middle;\n",
              "    }\n",
              "\n",
              "    .dataframe tbody tr th {\n",
              "        vertical-align: top;\n",
              "    }\n",
              "\n",
              "    .dataframe thead th {\n",
              "        text-align: right;\n",
              "    }\n",
              "</style>\n",
              "<table border=\"1\" class=\"dataframe\">\n",
              "  <thead>\n",
              "    <tr style=\"text-align: right;\">\n",
              "      <th></th>\n",
              "      <th>user_id</th>\n",
              "      <th>movie_id</th>\n",
              "      <th>rating</th>\n",
              "    </tr>\n",
              "  </thead>\n",
              "  <tbody>\n",
              "    <tr>\n",
              "      <th>0</th>\n",
              "      <td>1</td>\n",
              "      <td>1193</td>\n",
              "      <td>5</td>\n",
              "    </tr>\n",
              "    <tr>\n",
              "      <th>1</th>\n",
              "      <td>1</td>\n",
              "      <td>661</td>\n",
              "      <td>3</td>\n",
              "    </tr>\n",
              "    <tr>\n",
              "      <th>2</th>\n",
              "      <td>1</td>\n",
              "      <td>914</td>\n",
              "      <td>3</td>\n",
              "    </tr>\n",
              "    <tr>\n",
              "      <th>3</th>\n",
              "      <td>1</td>\n",
              "      <td>3408</td>\n",
              "      <td>4</td>\n",
              "    </tr>\n",
              "    <tr>\n",
              "      <th>4</th>\n",
              "      <td>1</td>\n",
              "      <td>2355</td>\n",
              "      <td>5</td>\n",
              "    </tr>\n",
              "    <tr>\n",
              "      <th>5</th>\n",
              "      <td>1</td>\n",
              "      <td>1197</td>\n",
              "      <td>3</td>\n",
              "    </tr>\n",
              "    <tr>\n",
              "      <th>6</th>\n",
              "      <td>1</td>\n",
              "      <td>1287</td>\n",
              "      <td>5</td>\n",
              "    </tr>\n",
              "    <tr>\n",
              "      <th>7</th>\n",
              "      <td>1</td>\n",
              "      <td>2804</td>\n",
              "      <td>5</td>\n",
              "    </tr>\n",
              "    <tr>\n",
              "      <th>8</th>\n",
              "      <td>1</td>\n",
              "      <td>594</td>\n",
              "      <td>4</td>\n",
              "    </tr>\n",
              "    <tr>\n",
              "      <th>9</th>\n",
              "      <td>1</td>\n",
              "      <td>919</td>\n",
              "      <td>4</td>\n",
              "    </tr>\n",
              "  </tbody>\n",
              "</table>\n",
              "</div>"
            ],
            "text/plain": [
              "   user_id  movie_id  rating\n",
              "0        1      1193       5\n",
              "1        1       661       3\n",
              "2        1       914       3\n",
              "3        1      3408       4\n",
              "4        1      2355       5\n",
              "5        1      1197       3\n",
              "6        1      1287       5\n",
              "7        1      2804       5\n",
              "8        1       594       4\n",
              "9        1       919       4"
            ]
          },
          "metadata": {
            "tags": []
          },
          "execution_count": 6
        }
      ]
    },
    {
      "cell_type": "markdown",
      "metadata": {
        "id": "ILAHfn4cckV3"
      },
      "source": [
        "Для того, чтобы преобразовать текущий датасет в Implicit, давайте считать что позитивная оценка это оценка >=4"
      ]
    },
    {
      "cell_type": "code",
      "metadata": {
        "id": "uvjjqusFckV4"
      },
      "source": [
        "implicit_ratings = ratings.loc[(ratings['rating'] >= 4)]"
      ],
      "execution_count": 6,
      "outputs": []
    },
    {
      "cell_type": "code",
      "metadata": {
        "id": "fmYde9fmckV4",
        "colab": {
          "base_uri": "https://localhost:8080/",
          "height": 347
        },
        "outputId": "e0c0d4b5-8eec-4af1-cea3-5586847b9ce9"
      },
      "source": [
        "implicit_ratings.head(10)"
      ],
      "execution_count": 38,
      "outputs": [
        {
          "output_type": "execute_result",
          "data": {
            "text/html": [
              "<div>\n",
              "<style scoped>\n",
              "    .dataframe tbody tr th:only-of-type {\n",
              "        vertical-align: middle;\n",
              "    }\n",
              "\n",
              "    .dataframe tbody tr th {\n",
              "        vertical-align: top;\n",
              "    }\n",
              "\n",
              "    .dataframe thead th {\n",
              "        text-align: right;\n",
              "    }\n",
              "</style>\n",
              "<table border=\"1\" class=\"dataframe\">\n",
              "  <thead>\n",
              "    <tr style=\"text-align: right;\">\n",
              "      <th></th>\n",
              "      <th>user_id</th>\n",
              "      <th>movie_id</th>\n",
              "      <th>rating</th>\n",
              "    </tr>\n",
              "  </thead>\n",
              "  <tbody>\n",
              "    <tr>\n",
              "      <th>0</th>\n",
              "      <td>1</td>\n",
              "      <td>1193</td>\n",
              "      <td>5</td>\n",
              "    </tr>\n",
              "    <tr>\n",
              "      <th>3</th>\n",
              "      <td>1</td>\n",
              "      <td>3408</td>\n",
              "      <td>4</td>\n",
              "    </tr>\n",
              "    <tr>\n",
              "      <th>4</th>\n",
              "      <td>1</td>\n",
              "      <td>2355</td>\n",
              "      <td>5</td>\n",
              "    </tr>\n",
              "    <tr>\n",
              "      <th>6</th>\n",
              "      <td>1</td>\n",
              "      <td>1287</td>\n",
              "      <td>5</td>\n",
              "    </tr>\n",
              "    <tr>\n",
              "      <th>7</th>\n",
              "      <td>1</td>\n",
              "      <td>2804</td>\n",
              "      <td>5</td>\n",
              "    </tr>\n",
              "    <tr>\n",
              "      <th>8</th>\n",
              "      <td>1</td>\n",
              "      <td>594</td>\n",
              "      <td>4</td>\n",
              "    </tr>\n",
              "    <tr>\n",
              "      <th>9</th>\n",
              "      <td>1</td>\n",
              "      <td>919</td>\n",
              "      <td>4</td>\n",
              "    </tr>\n",
              "    <tr>\n",
              "      <th>10</th>\n",
              "      <td>1</td>\n",
              "      <td>595</td>\n",
              "      <td>5</td>\n",
              "    </tr>\n",
              "    <tr>\n",
              "      <th>11</th>\n",
              "      <td>1</td>\n",
              "      <td>938</td>\n",
              "      <td>4</td>\n",
              "    </tr>\n",
              "    <tr>\n",
              "      <th>12</th>\n",
              "      <td>1</td>\n",
              "      <td>2398</td>\n",
              "      <td>4</td>\n",
              "    </tr>\n",
              "  </tbody>\n",
              "</table>\n",
              "</div>"
            ],
            "text/plain": [
              "    user_id  movie_id  rating\n",
              "0         1      1193       5\n",
              "3         1      3408       4\n",
              "4         1      2355       5\n",
              "6         1      1287       5\n",
              "7         1      2804       5\n",
              "8         1       594       4\n",
              "9         1       919       4\n",
              "10        1       595       5\n",
              "11        1       938       4\n",
              "12        1      2398       4"
            ]
          },
          "metadata": {
            "tags": []
          },
          "execution_count": 38
        }
      ]
    },
    {
      "cell_type": "markdown",
      "metadata": {
        "id": "gHvaI6vackV5"
      },
      "source": [
        "Удобнее работать с sparse матричками, давайте преобразуем DataFrame в CSR матрицы"
      ]
    },
    {
      "cell_type": "code",
      "metadata": {
        "id": "Hn8Imh1SckV5"
      },
      "source": [
        "users = implicit_ratings[\"user_id\"]\n",
        "movies = implicit_ratings[\"movie_id\"]\n",
        "user_item = sp.coo_matrix((np.ones_like(users), (users, movies)))\n",
        "user_item_t_csr = user_item.T.tocsr()\n",
        "user_item_csr = user_item.tocsr()"
      ],
      "execution_count": 7,
      "outputs": []
    },
    {
      "cell_type": "markdown",
      "metadata": {
        "id": "azA_7MSOckV6"
      },
      "source": [
        "В качестве примера воспользуемся ALS разложением из библиотеки implicit\n",
        "\n",
        "Зададим размерность латентного пространства равным 64, это же определяет размер user/item эмбедингов"
      ]
    },
    {
      "cell_type": "code",
      "metadata": {
        "id": "UMS47ZbJckV6",
        "colab": {
          "base_uri": "https://localhost:8080/"
        },
        "outputId": "9d766f41-0b28-40b8-9afb-e23f11127cd5"
      },
      "source": [
        "model = implicit.als.AlternatingLeastSquares(factors=64, iterations=100, calculate_training_loss=True)"
      ],
      "execution_count": 10,
      "outputs": [
        {
          "output_type": "stream",
          "text": [
            "WARNING:root:OpenBLAS detected. Its highly recommend to set the environment variable 'export OPENBLAS_NUM_THREADS=1' to disable its internal multithreading\n"
          ],
          "name": "stderr"
        }
      ]
    },
    {
      "cell_type": "markdown",
      "metadata": {
        "id": "xKNhC_0lckV7"
      },
      "source": [
        "В качестве loss здесь всеми любимый RMSE"
      ]
    },
    {
      "cell_type": "code",
      "metadata": {
        "id": "Q4Tx5lbEckV7"
      },
      "source": [
        "model.fit(user_item_t_csr)"
      ],
      "execution_count": null,
      "outputs": []
    },
    {
      "cell_type": "markdown",
      "metadata": {
        "id": "CEiK7lO_ckV8"
      },
      "source": [
        "Построим похожие фильмы по 1 movie_id = Истории игрушек"
      ]
    },
    {
      "cell_type": "code",
      "metadata": {
        "id": "dgxwUtWxckV9"
      },
      "source": [
        "movie_info.head(5)"
      ],
      "execution_count": null,
      "outputs": []
    },
    {
      "cell_type": "code",
      "metadata": {
        "id": "sigSPV9UckV-"
      },
      "source": [
        "get_similars = lambda item_id, model : [movie_info[movie_info[\"movie_id\"] == x[0]][\"name\"].to_string() \n",
        "                                        for x in model.similar_items(item_id)]"
      ],
      "execution_count": 8,
      "outputs": []
    },
    {
      "cell_type": "markdown",
      "metadata": {
        "id": "Z5Db8Ho7ckV-"
      },
      "source": [
        "Как мы видим, симилары действительно оказались симиларами.\n",
        "\n",
        "Качество симиларов часто является хорошим способом проверить качество алгоритмов.\n",
        "\n",
        "P.S. Если хочется поглубже разобраться в том как разные алгоритмы формируют разные латентные пространства, рекомендую загружать полученные вектора в tensorBoard и смотреть на сформированное пространство"
      ]
    },
    {
      "cell_type": "code",
      "metadata": {
        "id": "M2Mz9IneckV-"
      },
      "source": [
        "get_similars(1, model)"
      ],
      "execution_count": null,
      "outputs": []
    },
    {
      "cell_type": "markdown",
      "metadata": {
        "id": "MHO-qa7wckV_"
      },
      "source": [
        "Давайте теперь построим рекомендации для юзеров\n",
        "\n",
        "Как мы видим юзеру нравится фантастика, значит и в рекомендациях ожидаем увидеть фантастику"
      ]
    },
    {
      "cell_type": "code",
      "metadata": {
        "id": "sVft5bBBckV_"
      },
      "source": [
        "get_user_history = lambda user_id, implicit_ratings : [movie_info[movie_info[\"movie_id\"] == x][\"name\"].to_string() \n",
        "                                            for x in implicit_ratings[implicit_ratings[\"user_id\"] == user_id][\"movie_id\"]]"
      ],
      "execution_count": 9,
      "outputs": []
    },
    {
      "cell_type": "code",
      "metadata": {
        "id": "8yHxE3hQckV_"
      },
      "source": [
        "get_user_history(4, implicit_ratings)"
      ],
      "execution_count": null,
      "outputs": []
    },
    {
      "cell_type": "markdown",
      "metadata": {
        "id": "vlJanLYockWA"
      },
      "source": [
        "Получилось! \n",
        "\n",
        "Мы действительно порекомендовали пользователю фантастику и боевики, более того встречаются продолжения тех фильмов, которые он высоко оценил"
      ]
    },
    {
      "cell_type": "code",
      "metadata": {
        "id": "CfOFPDnjckWB"
      },
      "source": [
        "get_recommendations = lambda user_id, model : [movie_info[movie_info[\"movie_id\"] == x[0]][\"name\"].to_string() \n",
        "                                               for x in model.recommend(user_id, user_item_csr)]"
      ],
      "execution_count": 11,
      "outputs": []
    },
    {
      "cell_type": "code",
      "metadata": {
        "id": "UIgxezeeckWC"
      },
      "source": [
        "get_recommendations(4, model)"
      ],
      "execution_count": null,
      "outputs": []
    },
    {
      "cell_type": "markdown",
      "metadata": {
        "id": "Bdn7yXn3ckWC"
      },
      "source": [
        "Теперь ваша очередь реализовать самые популярные алгоритмы матричных разложений\n",
        "\n",
        "Что будет оцениваться:\n",
        "1. Корректность алгоритма\n",
        "2. Качество получившихся симиларов\n",
        "3. Качество итоговых рекомендаций для юзера"
      ]
    },
    {
      "cell_type": "code",
      "metadata": {
        "id": "e_fu6LqTsyvW"
      },
      "source": [
        "import random\n",
        "import matplotlib.pyplot as plt\n",
        "import math"
      ],
      "execution_count": 32,
      "outputs": []
    },
    {
      "cell_type": "code",
      "metadata": {
        "id": "qaFbNn66H42U"
      },
      "source": [
        "class MatrixFactorization():\n",
        "    def similar_items(self, item_id):\n",
        "        return sorted([(id, np.linalg.norm(self.H[:, id] - self.H[:, item_id])) for id in self.items], key=lambda x: x[1]) \n",
        "\n",
        "    def recommend(self, user_id, user_item_csr):\n",
        "        # не удаляем из рекоммендаций уже просмотренные фильмы, \n",
        "        # лучше это сделать уже после вызова функции get_recommendations\n",
        "        # потому что просмотренные фильмы в аутпуте реккомендаций говорят о том, что модель хорошо обучилась\n",
        "        return sorted(list(zip(self.items, (self.W @ self.H)[user_id][self.items])), key=lambda x: x[1], reverse=True)"
      ],
      "execution_count": 77,
      "outputs": []
    },
    {
      "cell_type": "markdown",
      "metadata": {
        "id": "owgf8PIrckWD"
      },
      "source": [
        "### Задание 1. Не использую готовые решения, реализовать SVD разложение используя SGD на explicit данных"
      ]
    },
    {
      "cell_type": "code",
      "metadata": {
        "id": "nOmbN8otckWD"
      },
      "source": [
        "class SVD(MatrixFactorization):\n",
        "    def fit(self, ratings, k=64, regularization_lambda=1e-2, learning_rate=1e-2, steps=5000000):\n",
        "        self.users = ratings['user_id'].unique()\n",
        "        self.items = ratings['movie_id'].unique()\n",
        "        users_number = max(self.users) + 1\n",
        "        items_number = max(self.items) + 1\n",
        "        W = np.random.random((users_number, k)) / (k ** 0.5)\n",
        "        H = np.random.random((k, items_number)) / (k ** 0.5)\n",
        "        rmse = []\n",
        "        rmse_steps = []\n",
        "        for step in range(steps):\n",
        "            rating_index = random.randint(0, ratings.shape[0] - 1)\n",
        "            row = ratings.iloc[[rating_index]]\n",
        "            i = row['user_id']\n",
        "            j = row['movie_id']\n",
        "            error = W[i] @ H[:, j] - row['rating'].to_numpy()[0]\n",
        "            W[i] -= learning_rate * (error * H[:, j].T + regularization_lambda * W[i])\n",
        "            H[:, j] -= learning_rate * (error * W[i].T + regularization_lambda * H[:, j])\n",
        "            if step % (steps // 100) == 0:\n",
        "                rmse_value = np.linalg.norm((W @ H)[ratings['user_id'], ratings['movie_id']] - ratings['rating']) / (ratings.shape[0] ** 0.5)\n",
        "                rmse_steps.append(step)\n",
        "                rmse.append(rmse_value)\n",
        "            if step % (steps // 100) == 0:\n",
        "                print(f\"RMSE: {rmse_value}, step number: {step}\")\n",
        "        self.W = W\n",
        "        self.H = H\n",
        "        return W, H, rmse, rmse_steps"
      ],
      "execution_count": 16,
      "outputs": []
    },
    {
      "cell_type": "code",
      "metadata": {
        "id": "VEI3HWnJq8gn"
      },
      "source": [
        "svd = SVD()\n",
        "W, H, rmse, rmse_steps = svd.fit(ratings)"
      ],
      "execution_count": null,
      "outputs": []
    },
    {
      "cell_type": "code",
      "metadata": {
        "colab": {
          "base_uri": "https://localhost:8080/",
          "height": 295
        },
        "id": "eNEBK0NWllqg",
        "outputId": "4d18a38b-2317-42b5-b475-d4fc868946b2"
      },
      "source": [
        "plt.plot(rmse_steps, rmse) # RMSE"
      ],
      "execution_count": 158,
      "outputs": [
        {
          "output_type": "execute_result",
          "data": {
            "text/plain": [
              "[<matplotlib.lines.Line2D at 0x7fe53f629950>]"
            ]
          },
          "metadata": {
            "tags": []
          },
          "execution_count": 158
        },
        {
          "output_type": "display_data",
          "data": {
            "image/png": "[encoded data removed]",
            "text/plain": [
              "<Figure size 432x288 with 1 Axes>"
            ]
          },
          "metadata": {
            "tags": [],
            "needs_background": "light"
          }
        }
      ]
    },
    {
      "cell_type": "code",
      "metadata": {
        "colab": {
          "base_uri": "https://localhost:8080/"
        },
        "id": "fqMF_wNSC_sF",
        "outputId": "0b914c2c-6f20-4823-bf67-0857202fe519"
      },
      "source": [
        "get_similars(1, svd)[:15]"
      ],
      "execution_count": 159,
      "outputs": [
        {
          "output_type": "execute_result",
          "data": {
            "text/plain": [
              "['0    Toy Story (1995)',\n",
              " '3045    Toy Story 2 (1999)',\n",
              " '591    Beauty and the Beast (1991)',\n",
              " '2011    Lady and the Tramp (1955)',\n",
              " '2012    Little Mermaid, The (1989)',\n",
              " \"2286    Bug's Life, A (1998)\",\n",
              " '360    Lion King, The (1994)',\n",
              " '1009    Cinderella (1950)',\n",
              " '584    Aladdin (1992)',\n",
              " '2728    Big (1988)',\n",
              " \"941    It's a Wonderful Life (1946)\",\n",
              " '1628    Witness (1985)',\n",
              " '1015    Mary Poppins (1964)',\n",
              " '2571    Superman (1978)',\n",
              " '1878    West Side Story (1961)']"
            ]
          },
          "metadata": {
            "tags": []
          },
          "execution_count": 159
        }
      ]
    },
    {
      "cell_type": "code",
      "metadata": {
        "colab": {
          "base_uri": "https://localhost:8080/"
        },
        "id": "iCxZ8uJlDvho",
        "outputId": "f99efb89-fa98-4e0a-d216-c6370b4930f4"
      },
      "source": [
        "get_user_history(4, implicit_ratings)"
      ],
      "execution_count": 160,
      "outputs": [
        {
          "output_type": "execute_result",
          "data": {
            "text/plain": [
              "['3399    Hustler, The (1961)',\n",
              " '2882    Fistful of Dollars, A (1964)',\n",
              " '1196    Alien (1979)',\n",
              " '1023    Die Hard (1988)',\n",
              " '257    Star Wars: Episode IV - A New Hope (1977)',\n",
              " '1959    Saving Private Ryan (1998)',\n",
              " '476    Jurassic Park (1993)',\n",
              " '1180    Raiders of the Lost Ark (1981)',\n",
              " '1885    Rocky (1976)',\n",
              " '1081    E.T. the Extra-Terrestrial (1982)',\n",
              " '3349    Thelma & Louise (1991)',\n",
              " '3633    Mad Max (1979)',\n",
              " '2297    King Kong (1933)',\n",
              " '1366    Jaws (1975)',\n",
              " '1183    Good, The Bad and The Ugly, The (1966)',\n",
              " '2623    Run Lola Run (Lola rennt) (1998)',\n",
              " '2878    Goldfinger (1964)',\n",
              " '1220    Terminator, The (1984)']"
            ]
          },
          "metadata": {
            "tags": []
          },
          "execution_count": 160
        }
      ]
    },
    {
      "cell_type": "code",
      "metadata": {
        "colab": {
          "base_uri": "https://localhost:8080/"
        },
        "id": "qiUoofKkV26H",
        "outputId": "c77ebb4c-b653-469a-faad-ba12c3e869ae"
      },
      "source": [
        "get_recommendations(4, svd)[:15]"
      ],
      "execution_count": 163,
      "outputs": [
        {
          "output_type": "execute_result",
          "data": {
            "text/plain": [
              "['2836    Sanjuro (1962)',\n",
              " '1132    Wrong Trousers, The (1993)',\n",
              " '910    Sunset Blvd. (a.k.a. Sunset Boulevard) (1950)',\n",
              " '2961    Yojimbo (1961)',\n",
              " '1950    Seven Samurai (The Magnificent Seven) (Shichin...',\n",
              " '315    Shawshank Redemption, The (1994)',\n",
              " '2953    General, The (1927)',\n",
              " '735    Close Shave, A (1995)',\n",
              " '3238    City Lights (1931)',\n",
              " '1185    12 Angry Men (1957)',\n",
              " '847    Godfather, The (1972)',\n",
              " '2693    Sixth Sense, The (1999)',\n",
              " '711    Wallace & Gromit: The Best of Aardman Animatio...',\n",
              " \"523    Schindler's List (1993)\",\n",
              " '740    Dr. Strangelove or: How I Learned to Stop Worr...']"
            ]
          },
          "metadata": {
            "tags": []
          },
          "execution_count": 163
        }
      ]
    },
    {
      "cell_type": "markdown",
      "metadata": {
        "id": "uT3IxkYOckWD"
      },
      "source": [
        "### Задание 2. Не использую готовые решения, реализовать матричное разложение используя ALS на implicit данных"
      ]
    },
    {
      "cell_type": "code",
      "metadata": {
        "id": "pVBuNFOYckWD"
      },
      "source": [
        "class ALS(MatrixFactorization):\n",
        "    def fit(self, user_item_csr, k=64, regularization_lambda=1e-2, learning_rate=1e-2, steps=100, alpha=2):\n",
        "        self.users = np.unique(sp.coo_matrix(user_item_csr).row)\n",
        "        self.items = np.unique(sp.coo_matrix(user_item_csr).col)\n",
        "        users_number = max(self.users) + 1\n",
        "        items_number = max(self.items) + 1\n",
        "        W = np.random.random((users_number, k)) / (k ** 0.5)\n",
        "        H = np.random.random((k, items_number)) / (k ** 0.5)\n",
        "        rmse = []\n",
        "        rmse_steps = []\n",
        "        I_u = np.eye(users_number)\n",
        "        I_i = np.eye(items_number)\n",
        "        implicit_ratings = np.array(user_item_csr.toarray())\n",
        "        for step in range(steps):\n",
        "            if step % 2 == 1:\n",
        "                H = (np.linalg.inv(W @ W.T + regularization_lambda * I_u) @ W).T @ implicit_ratings\n",
        "            else:\n",
        "                W = implicit_ratings @ (np.linalg.inv(H.T @ H + regularization_lambda * I_i) @ H.T)\n",
        "            rmse_value = np.linalg.norm((W @ H) - user_item_csr) / ((user_item_csr.shape[0] * user_item_csr.shape[1]) ** 0.5)\n",
        "            rmse_steps.append(step)\n",
        "            rmse.append(rmse_value)\n",
        "            print(f\"RMSE: {rmse_value}, step number: {step}\")\n",
        "        self.W = W\n",
        "        self.H = H\n",
        "        return W, H, rmse, rmse_steps"
      ],
      "execution_count": 34,
      "outputs": []
    },
    {
      "cell_type": "code",
      "metadata": {
        "id": "vNFkENJevEB3"
      },
      "source": [
        "als = ALS()\n",
        "W, H, rmse, rmse_steps = als.fit(user_item_csr, steps=20)"
      ],
      "execution_count": null,
      "outputs": []
    },
    {
      "cell_type": "code",
      "metadata": {
        "colab": {
          "base_uri": "https://localhost:8080/",
          "height": 282
        },
        "id": "V7e92kNovIof",
        "outputId": "4082693d-2644-46a8-a37c-9086ffa8d244"
      },
      "source": [
        "plt.plot(rmse_steps, rmse) # RMSE"
      ],
      "execution_count": 20,
      "outputs": [
        {
          "output_type": "execute_result",
          "data": {
            "text/plain": [
              "[<matplotlib.lines.Line2D at 0x7fa79e94d3d0>]"
            ]
          },
          "metadata": {
            "tags": []
          },
          "execution_count": 20
        },
        {
          "output_type": "display_data",
          "data": {
            "image/png": "[encoded data removed]",
            "text/plain": [
              "<Figure size 432x288 with 1 Axes>"
            ]
          },
          "metadata": {
            "tags": [],
            "needs_background": "light"
          }
        }
      ]
    },
    {
      "cell_type": "code",
      "metadata": {
        "colab": {
          "base_uri": "https://localhost:8080/"
        },
        "id": "SL6oAmECX9az",
        "outputId": "70d5d5ec-af45-4c0a-b64c-a92731186bb0"
      },
      "source": [
        "get_similars(1, als)[:15]"
      ],
      "execution_count": 329,
      "outputs": [
        {
          "output_type": "execute_result",
          "data": {
            "text/plain": [
              "['0    Toy Story (1995)',\n",
              " '3045    Toy Story 2 (1999)',\n",
              " \"2286    Bug's Life, A (1998)\",\n",
              " '584    Aladdin (1992)',\n",
              " '360    Lion King, The (1994)',\n",
              " '2252    Pleasantville (1998)',\n",
              " '591    Beauty and the Beast (1991)',\n",
              " '2225    Antz (1998)',\n",
              " '1838    Mulan (1998)',\n",
              " '33    Babe (1995)',\n",
              " '1720    Wedding Singer, The (1998)',\n",
              " '2692    Iron Giant, The (1999)',\n",
              " '2618    Tarzan (1999)',\n",
              " '1468    Grosse Pointe Blank (1997)',\n",
              " '1029    That Thing You Do! (1996)']"
            ]
          },
          "metadata": {
            "tags": []
          },
          "execution_count": 329
        }
      ]
    },
    {
      "cell_type": "code",
      "metadata": {
        "colab": {
          "base_uri": "https://localhost:8080/"
        },
        "id": "heYrYSSSf9Ej",
        "outputId": "bdd5dd68-2968-48b3-a654-5967b2a86b08"
      },
      "source": [
        "get_user_history(4, implicit_ratings)"
      ],
      "execution_count": 330,
      "outputs": [
        {
          "output_type": "execute_result",
          "data": {
            "text/plain": [
              "['3399    Hustler, The (1961)',\n",
              " '2882    Fistful of Dollars, A (1964)',\n",
              " '1196    Alien (1979)',\n",
              " '1023    Die Hard (1988)',\n",
              " '257    Star Wars: Episode IV - A New Hope (1977)',\n",
              " '1959    Saving Private Ryan (1998)',\n",
              " '476    Jurassic Park (1993)',\n",
              " '1180    Raiders of the Lost Ark (1981)',\n",
              " '1885    Rocky (1976)',\n",
              " '1081    E.T. the Extra-Terrestrial (1982)',\n",
              " '3349    Thelma & Louise (1991)',\n",
              " '3633    Mad Max (1979)',\n",
              " '2297    King Kong (1933)',\n",
              " '1366    Jaws (1975)',\n",
              " '1183    Good, The Bad and The Ugly, The (1966)',\n",
              " '2623    Run Lola Run (Lola rennt) (1998)',\n",
              " '2878    Goldfinger (1964)',\n",
              " '1220    Terminator, The (1984)']"
            ]
          },
          "metadata": {
            "tags": []
          },
          "execution_count": 330
        }
      ]
    },
    {
      "cell_type": "code",
      "metadata": {
        "colab": {
          "base_uri": "https://localhost:8080/"
        },
        "id": "wRwixnpAf_q5",
        "outputId": "d7877757-637f-4fc9-b267-99fd5a6a78a6"
      },
      "source": [
        "get_recommendations(4, als)[:20]"
      ],
      "execution_count": 332,
      "outputs": [
        {
          "output_type": "execute_result",
          "data": {
            "text/plain": [
              "['1180    Raiders of the Lost Ark (1981)',\n",
              " '1366    Jaws (1975)',\n",
              " '257    Star Wars: Episode IV - A New Hope (1977)',\n",
              " '1196    Alien (1979)',\n",
              " '1220    Terminator, The (1984)',\n",
              " '1959    Saving Private Ryan (1998)',\n",
              " '1081    E.T. the Extra-Terrestrial (1982)',\n",
              " '585    Terminator 2: Judgment Day (1991)',\n",
              " '1023    Die Hard (1988)',\n",
              " '1271    Indiana Jones and the Last Crusade (1989)',\n",
              " '2878    Goldfinger (1964)',\n",
              " '1885    Rocky (1976)',\n",
              " '1284    Butch Cassidy and the Sundance Kid (1969)',\n",
              " '2502    Matrix, The (1999)',\n",
              " '1183    Good, The Bad and The Ugly, The (1966)',\n",
              " '1182    Aliens (1986)',\n",
              " '1178    Star Wars: Episode V - The Empire Strikes Back...',\n",
              " '476    Jurassic Park (1993)',\n",
              " '3402    Close Encounters of the Third Kind (1977)',\n",
              " '453    Fugitive, The (1993)']"
            ]
          },
          "metadata": {
            "tags": []
          },
          "execution_count": 332
        }
      ]
    },
    {
      "cell_type": "markdown",
      "metadata": {
        "id": "xfWeG40DckWE"
      },
      "source": [
        "### Задание 3. Не использую готовые решения, реализовать матричное разложение BPR на implicit данных"
      ]
    },
    {
      "cell_type": "code",
      "metadata": {
        "id": "g1bmm45Y12nf"
      },
      "source": [
        "from tqdm.notebook import tqdm"
      ],
      "execution_count": 49,
      "outputs": []
    },
    {
      "cell_type": "code",
      "metadata": {
        "id": "9NG0NHAHckWE"
      },
      "source": [
        "class BPR(MatrixFactorization):\n",
        "    def fit(self, user_item_csr, implicit_ratings, k=64, regularization_lambda=1e-4, learning_rate=1e-2, steps=10):\n",
        "        self.users = np.unique(sp.coo_matrix(user_item_csr).row)\n",
        "        self.items = np.unique(sp.coo_matrix(user_item_csr).col)\n",
        "        users_number = max(self.users) + 1\n",
        "        items_number = max(self.items) + 1\n",
        "        W = np.random.random((users_number, k)) / (k ** 0.5)\n",
        "        H = np.random.random((k, items_number)) / (k ** 0.5)\n",
        "        auc = []\n",
        "        auc_steps = []\n",
        "\n",
        "        def sigma(x):\n",
        "            return (math.e ** (-x)) / (1 + math.e ** (-x))\n",
        "\n",
        "        for step in range(steps):\n",
        "            auc_sum = 0\n",
        "            for index, row in tqdm(implicit_ratings.iterrows()):\n",
        "                u = row['user_id']\n",
        "                i = row['movie_id']\n",
        "                while True:\n",
        "                    j = random.randint(1, items_number - 1)\n",
        "                    if user_item_csr[u, j] == 0:\n",
        "                        break\n",
        "                dx = W[u] @ H[:, i] - W[u] @ H[:, j]\n",
        "                sigma_dx = sigma(dx)\n",
        "                W[u] += learning_rate * (sigma_dx * (H[:, i] - H[:, j]) + regularization_lambda * W[u])\n",
        "                H[:, i] += learning_rate * (sigma_dx * W[u] + regularization_lambda * H[:, i]) \n",
        "                H[:, j] += learning_rate * (sigma_dx * (-W[u]) + regularization_lambda * H[:, j]) \n",
        "                if W[u] @ H[:, i] > W[u] @ H[:, j]:\n",
        "                    auc_sum += 1\n",
        "            auc_value = auc_sum / implicit_ratings.shape[0]\n",
        "            auc.append(auc_value)\n",
        "            auc_steps.append(step)\n",
        "            print(f\"AUC: {auc_value}, step number: {step}\")\n",
        "        self.W = W\n",
        "        self.H = H\n",
        "        return W, H, auc, auc_steps\n"
      ],
      "execution_count": 78,
      "outputs": []
    },
    {
      "cell_type": "code",
      "metadata": {
        "id": "Y_HW-ABob5E5"
      },
      "source": [
        "bpr = BPR()\n",
        "W, H, auc, auc_steps = bpr.fit(user_item_csr, implicit_ratings)"
      ],
      "execution_count": null,
      "outputs": []
    },
    {
      "cell_type": "code",
      "metadata": {
        "colab": {
          "base_uri": "https://localhost:8080/",
          "height": 282
        },
        "id": "LRwcLEdEuKr-",
        "outputId": "0bf2f7c7-df29-45a5-8ecb-fb4230673138"
      },
      "source": [
        "plt.plot(auc_steps, auc) # AUC"
      ],
      "execution_count": 60,
      "outputs": [
        {
          "output_type": "execute_result",
          "data": {
            "text/plain": [
              "[<matplotlib.lines.Line2D at 0x7f0c70e20f90>]"
            ]
          },
          "metadata": {
            "tags": []
          },
          "execution_count": 60
        },
        {
          "output_type": "display_data",
          "data": {
            "image/png": "[encoded data removed]",
            "text/plain": [
              "<Figure size 432x288 with 1 Axes>"
            ]
          },
          "metadata": {
            "tags": [],
            "needs_background": "light"
          }
        }
      ]
    },
    {
      "cell_type": "code",
      "metadata": {
        "colab": {
          "base_uri": "https://localhost:8080/"
        },
        "id": "VehJhGZXud_O",
        "outputId": "39a734dc-ed38-4d21-ba60-06de04702ce0"
      },
      "source": [
        "get_similars(1, bpr)[:15]"
      ],
      "execution_count": 61,
      "outputs": [
        {
          "output_type": "execute_result",
          "data": {
            "text/plain": [
              "['0    Toy Story (1995)',\n",
              " \"2286    Bug's Life, A (1998)\",\n",
              " '3045    Toy Story 2 (1999)',\n",
              " '1179    Princess Bride, The (1987)',\n",
              " '1250    Back to the Future (1985)',\n",
              " '1245    Groundhog Day (1993)',\n",
              " '584    Aladdin (1992)',\n",
              " '2918    Who Framed Roger Rabbit? (1988)',\n",
              " '2647    Ghostbusters (1984)',\n",
              " '1058    Willy Wonka and the Chocolate Factory (1971)',\n",
              " \"2849    Ferris Bueller's Day Off (1986)\",\n",
              " '1899    Breakfast Club, The (1985)',\n",
              " '1192    Star Wars: Episode VI - Return of the Jedi (1983)',\n",
              " '1271    Indiana Jones and the Last Crusade (1989)',\n",
              " '2728    Big (1988)']"
            ]
          },
          "metadata": {
            "tags": []
          },
          "execution_count": 61
        }
      ]
    },
    {
      "cell_type": "code",
      "metadata": {
        "colab": {
          "base_uri": "https://localhost:8080/"
        },
        "id": "TmfunnPqufsX",
        "outputId": "89522598-7621-470d-9b39-7cc9a3738999"
      },
      "source": [
        "get_user_history(4, implicit_ratings)"
      ],
      "execution_count": 62,
      "outputs": [
        {
          "output_type": "execute_result",
          "data": {
            "text/plain": [
              "['3399    Hustler, The (1961)',\n",
              " '2882    Fistful of Dollars, A (1964)',\n",
              " '1196    Alien (1979)',\n",
              " '1023    Die Hard (1988)',\n",
              " '257    Star Wars: Episode IV - A New Hope (1977)',\n",
              " '1959    Saving Private Ryan (1998)',\n",
              " '476    Jurassic Park (1993)',\n",
              " '1180    Raiders of the Lost Ark (1981)',\n",
              " '1885    Rocky (1976)',\n",
              " '1081    E.T. the Extra-Terrestrial (1982)',\n",
              " '3349    Thelma & Louise (1991)',\n",
              " '3633    Mad Max (1979)',\n",
              " '2297    King Kong (1933)',\n",
              " '1366    Jaws (1975)',\n",
              " '1183    Good, The Bad and The Ugly, The (1966)',\n",
              " '2623    Run Lola Run (Lola rennt) (1998)',\n",
              " '2878    Goldfinger (1964)',\n",
              " '1220    Terminator, The (1984)']"
            ]
          },
          "metadata": {
            "tags": []
          },
          "execution_count": 62
        }
      ]
    },
    {
      "cell_type": "code",
      "metadata": {
        "colab": {
          "base_uri": "https://localhost:8080/"
        },
        "id": "TOTeAnTZuhSd",
        "outputId": "ed8a9e3b-2378-4dcb-bb82-32a09a4c959f"
      },
      "source": [
        "get_recommendations(4, bpr)[:20]"
      ],
      "execution_count": 80,
      "outputs": [
        {
          "output_type": "execute_result",
          "data": {
            "text/plain": [
              "['2789    American Beauty (1999)',\n",
              " '257    Star Wars: Episode IV - A New Hope (1977)',\n",
              " '1178    Star Wars: Episode V - The Empire Strikes Back...',\n",
              " '589    Silence of the Lambs, The (1991)',\n",
              " '1180    Raiders of the Lost Ark (1981)',\n",
              " '1959    Saving Private Ryan (1998)',\n",
              " '2693    Sixth Sense, The (1999)',\n",
              " '2502    Matrix, The (1999)',\n",
              " '1250    Back to the Future (1985)',\n",
              " '1192    Star Wars: Episode VI - Return of the Jedi (1983)',\n",
              " \"523    Schindler's List (1993)\",\n",
              " '604    Fargo (1996)',\n",
              " '585    Terminator 2: Judgment Day (1991)',\n",
              " '847    Godfather, The (1972)',\n",
              " '315    Shawshank Redemption, The (1994)',\n",
              " '1575    L.A. Confidential (1997)',\n",
              " '2327    Shakespeare in Love (1998)',\n",
              " '293    Pulp Fiction (1994)',\n",
              " '108    Braveheart (1995)',\n",
              " '2928    Being John Malkovich (1999)']"
            ]
          },
          "metadata": {
            "tags": []
          },
          "execution_count": 80
        }
      ]
    },
    {
      "cell_type": "markdown",
      "metadata": {
        "id": "sQVWF3iSckWE"
      },
      "source": [
        "### Задание 4. Не использую готовые решения, реализовать матричное разложение WARP на implicit данных"
      ]
    },
    {
      "cell_type": "code",
      "metadata": {
        "id": "JMzh9-bNckWE"
      },
      "source": [
        "class WARP(MatrixFactorization):\n",
        "    def fit(self, user_item_csr, implicit_ratings, k=64, regularization_lambda=1e-2, learning_rate=1e-2, steps=5, sampling_size=10):\n",
        "        self.users = np.unique(sp.coo_matrix(user_item_csr).row)\n",
        "        self.items = np.unique(sp.coo_matrix(user_item_csr).col)\n",
        "        users_number = max(self.users) + 1\n",
        "        items_number = max(self.items) + 1\n",
        "        W = np.random.random((users_number, k)) / (k ** 0.5)\n",
        "        H = np.random.random((k, items_number)) / (k ** 0.5)\n",
        "        auc = []\n",
        "        auc_steps = []\n",
        "\n",
        "        def sigma(x):\n",
        "            return (math.e ** (-x)) / (1 + math.e ** (-x))\n",
        "\n",
        "        for step in range(steps):\n",
        "            auc_sum = 0\n",
        "            for index, row in tqdm(implicit_ratings.iterrows()):\n",
        "                u = row['user_id']\n",
        "                i = row['movie_id']\n",
        "                for _ in range(sampling_size):\n",
        "                    while True:\n",
        "                        j = random.randint(1, items_number - 1)\n",
        "                        if user_item_csr[u, j] == 0:\n",
        "                            break\n",
        "                    dx = W[u] @ H[:, i] - W[u] @ H[:, j]\n",
        "                    if dx < 0:\n",
        "                        sigma_dx = sigma(dx)\n",
        "                        W[u] += learning_rate * (sigma_dx * (H[:, i] - H[:, j]) + regularization_lambda * W[u])\n",
        "                        H[:, i] += learning_rate * (sigma_dx * W[u] + regularization_lambda * H[:, i]) \n",
        "                        H[:, j] += learning_rate * (sigma_dx * (-W[u]) + regularization_lambda * H[:, j]) \n",
        "                    if W[u] @ H[:, i] > W[u] @ H[:, j]:\n",
        "                        auc_sum += 1\n",
        "            auc_value = auc_sum / (implicit_ratings.shape[0] * sampling_size)\n",
        "            auc.append(auc_value)\n",
        "            auc_steps.append(step)\n",
        "            print(f\"AUC: {auc_value}, step number: {step}\")\n",
        "        self.W = W\n",
        "        self.H = H\n",
        "        return W, H, auc, auc_steps\n"
      ],
      "execution_count": 81,
      "outputs": []
    },
    {
      "cell_type": "code",
      "metadata": {
        "colab": {
          "base_uri": "https://localhost:8080/",
          "height": 116,
          "referenced_widgets": [
            "8b324c80a432428c8714e09655c096b2",
            "8e11629e127c4f2a86bb0839fb9adf73",
            "ef8be4025e764b03a18b6f604a8a99d3",
            "03d36a3f53d14b02a6b076d45f7c6579",
            "d8b06963a80e418aa3998851363ef0fc",
            "bb254d7be5f943e1b7df5b3bfd983f08",
            "2c9cd44b93a9451a82025c89d9d8582c",
            "f6a612faf44a450a9cf69984ee356174",
            "04ffd9c8451548a4a30efee736c96d48",
            "d1a149113ff94cdc912d4e717aafe600",
            "f90410e74dc8450f831c17a1909d6c72",
            "35fd16b3b4bb449bacfd859a00fa8f0a",
            "4a3bcd717aa74f39b4e87beaf4dba65a",
            "b8f78bbd1cc24392827fe9cdaf87e695",
            "d11bc9a08f5d40e1b8f9ada6a59908c8",
            "46593478411b4383aaf0c67101c4bbec"
          ]
        },
        "id": "3cr-6A141eJk",
        "outputId": "6ec957d0-64eb-4fc3-8011-9c5142aa34c2"
      },
      "source": [
        "warp = WARP()\n",
        "W, H, auc, auc_steps = warp.fit(user_item_csr, implicit_ratings, steps=5)"
      ],
      "execution_count": null,
      "outputs": [
        {
          "output_type": "display_data",
          "data": {
            "application/vnd.jupyter.widget-view+json": {
              "model_id": "8b324c80a432428c8714e09655c096b2",
              "version_minor": 0,
              "version_major": 2
            },
            "text/plain": [
              "HBox(children=(FloatProgress(value=1.0, bar_style='info', max=1.0), HTML(value='')))"
            ]
          },
          "metadata": {
            "tags": []
          }
        },
        {
          "output_type": "stream",
          "text": [
            "\n",
            "AUC: 0.8902611071806648, step number: 0\n"
          ],
          "name": "stdout"
        },
        {
          "output_type": "display_data",
          "data": {
            "application/vnd.jupyter.widget-view+json": {
              "model_id": "04ffd9c8451548a4a30efee736c96d48",
              "version_minor": 0,
              "version_major": 2
            },
            "text/plain": [
              "HBox(children=(FloatProgress(value=1.0, bar_style='info', max=1.0), HTML(value='')))"
            ]
          },
          "metadata": {
            "tags": []
          }
        }
      ]
    },
    {
      "cell_type": "code",
      "metadata": {
        "id": "Zm4oVnPfPGSz"
      },
      "source": [
        "plt.plot(auc_steps, auc) # AUC"
      ],
      "execution_count": null,
      "outputs": []
    },
    {
      "cell_type": "code",
      "metadata": {
        "id": "zhjbSbxwPNwu"
      },
      "source": [
        "get_similars(1, warp)[:15]"
      ],
      "execution_count": null,
      "outputs": []
    },
    {
      "cell_type": "code",
      "metadata": {
        "id": "8WC3rHoDPIoq"
      },
      "source": [
        "get_user_history(4, implicit_ratings)"
      ],
      "execution_count": null,
      "outputs": []
    },
    {
      "cell_type": "code",
      "metadata": {
        "id": "4PGK8zoSPLBr"
      },
      "source": [
        "get_recommendations(4, warp)[:20]"
      ],
      "execution_count": null,
      "outputs": []
    }
  ]
}