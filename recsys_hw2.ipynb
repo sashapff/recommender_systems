{
  "nbformat": 4,
  "nbformat_minor": 0,
  "metadata": {
    "colab": {
      "name": "recsys-hw2.ipynb",
      "provenance": [],
      "collapsed_sections": [
        "LR6QRdFMJ7UH",
        "rALFEMBqKtUV",
        "HIbJYDkBKxxX",
        "EKdhTefRMK_q",
        "8VOjl6VS1XL1",
        "l89ej15Bwn2N"
      ],
      "include_colab_link": true
    },
    "kernelspec": {
      "name": "python3",
      "display_name": "Python 3"
    },
    "language_info": {
      "name": "python"
    },
    "accelerator": "GPU"
  },
  "cells": [
    {
      "cell_type": "markdown",
      "metadata": {
        "id": "view-in-github",
        "colab_type": "text"
      },
      "source": [
        "<a href=\"https://colab.research.google.com/github/sashapff/recommender_systems/blob/main/recsys_hw2.ipynb\" target=\"_parent\"><img src=\"https://colab.research.google.com/assets/colab-badge.svg\" alt=\"Open In Colab\"/></a>"
      ]
    },
    {
      "cell_type": "markdown",
      "metadata": {
        "id": "LR6QRdFMJ7UH"
      },
      "source": [
        "## Download data"
      ]
    },
    {
      "cell_type": "code",
      "metadata": {
        "colab": {
          "base_uri": "https://localhost:8080/"
        },
        "id": "XGDQ4KKn9Mzq",
        "outputId": "b9636d2b-c661-49a0-ce16-57bec81f2494"
      },
      "source": [
        "!pip install kaggle"
      ],
      "execution_count": 100,
      "outputs": [
        {
          "output_type": "stream",
          "text": [
            "Requirement already satisfied: kaggle in /usr/local/lib/python3.7/dist-packages (1.5.12)\n",
            "Requirement already satisfied: six>=1.10 in /usr/local/lib/python3.7/dist-packages (from kaggle) (1.15.0)\n",
            "Requirement already satisfied: urllib3 in /usr/local/lib/python3.7/dist-packages (from kaggle) (1.24.3)\n",
            "Requirement already satisfied: python-slugify in /usr/local/lib/python3.7/dist-packages (from kaggle) (4.0.1)\n",
            "Requirement already satisfied: python-dateutil in /usr/local/lib/python3.7/dist-packages (from kaggle) (2.8.1)\n",
            "Requirement already satisfied: tqdm in /usr/local/lib/python3.7/dist-packages (from kaggle) (4.41.1)\n",
            "Requirement already satisfied: certifi in /usr/local/lib/python3.7/dist-packages (from kaggle) (2020.12.5)\n",
            "Requirement already satisfied: requests in /usr/local/lib/python3.7/dist-packages (from kaggle) (2.23.0)\n",
            "Requirement already satisfied: text-unidecode>=1.3 in /usr/local/lib/python3.7/dist-packages (from python-slugify->kaggle) (1.3)\n",
            "Requirement already satisfied: idna<3,>=2.5 in /usr/local/lib/python3.7/dist-packages (from requests->kaggle) (2.10)\n",
            "Requirement already satisfied: chardet<4,>=3.0.2 in /usr/local/lib/python3.7/dist-packages (from requests->kaggle) (3.0.4)\n"
          ],
          "name": "stdout"
        }
      ]
    },
    {
      "cell_type": "code",
      "metadata": {
        "colab": {
          "resources": {
            "http://localhost:8080/nbextensions/google.colab/files.js": {
              "data": "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",
              "ok": true,
              "headers": [
                [
                  "content-type",
                  "application/javascript"
                ]
              ],
              "status": 200,
              "status_text": ""
            }
          },
          "base_uri": "https://localhost:8080/",
          "height": 89
        },
        "id": "oHm3cY-PfsVs",
        "outputId": "1865431e-fecc-4e64-f11c-2c1b9d7fac4a"
      },
      "source": [
        "from google.colab import files\n",
        "files.upload()"
      ],
      "execution_count": 101,
      "outputs": [
        {
          "output_type": "display_data",
          "data": {
            "text/html": [
              "\n",
              "     <input type=\"file\" id=\"files-7257ebb5-9a97-4765-a31b-2d57947fd7ea\" name=\"files[]\" multiple disabled\n",
              "        style=\"border:none\" />\n",
              "     <output id=\"result-7257ebb5-9a97-4765-a31b-2d57947fd7ea\">\n",
              "      Upload widget is only available when the cell has been executed in the\n",
              "      current browser session. Please rerun this cell to enable.\n",
              "      </output>\n",
              "      <script src=\"/nbextensions/google.colab/files.js\"></script> "
            ],
            "text/plain": [
              "<IPython.core.display.HTML object>"
            ]
          },
          "metadata": {
            "tags": []
          }
        },
        {
          "output_type": "stream",
          "text": [
            "Saving kaggle.json to kaggle (1).json\n"
          ],
          "name": "stdout"
        },
        {
          "output_type": "execute_result",
          "data": {
            "text/plain": [
              "{'kaggle.json': b'{\"username\":\"sashapff\",\"key\":\"262d5a2d6c417f7875aefdf6948939d5\"}'}"
            ]
          },
          "metadata": {
            "tags": []
          },
          "execution_count": 101
        }
      ]
    },
    {
      "cell_type": "code",
      "metadata": {
        "id": "gjlwz97Xfp5G"
      },
      "source": [
        "!mkdir -p ~/.kaggle\n",
        "!cp kaggle.json ~/.kaggle/\n",
        "!chmod 600 ~/.kaggle/kaggle.json"
      ],
      "execution_count": 102,
      "outputs": []
    },
    {
      "cell_type": "code",
      "metadata": {
        "id": "2ss0rehr8BUx",
        "colab": {
          "base_uri": "https://localhost:8080/"
        },
        "outputId": "aff3949f-45ee-485b-cf76-6e0f0b7371e5"
      },
      "source": [
        "!kaggle competitions download -c kkbox-music-recommendation-challenge"
      ],
      "execution_count": 103,
      "outputs": [
        {
          "output_type": "stream",
          "text": [
            "Warning: Looks like you're using an outdated API Version, please consider updating (server 1.5.12 / client 1.5.4)\n",
            "song_extra_info.csv.7z: Skipping, found more recently modified local copy (use --force to force download)\n",
            "train.csv.7z: Skipping, found more recently modified local copy (use --force to force download)\n",
            "test.csv.7z: Skipping, found more recently modified local copy (use --force to force download)\n",
            "members.csv.7z: Skipping, found more recently modified local copy (use --force to force download)\n",
            "sample_submission.csv.7z: Skipping, found more recently modified local copy (use --force to force download)\n",
            "songs.csv.7z: Skipping, found more recently modified local copy (use --force to force download)\n"
          ],
          "name": "stdout"
        }
      ]
    },
    {
      "cell_type": "code",
      "metadata": {
        "id": "VM1oW_Vt-xV1",
        "colab": {
          "base_uri": "https://localhost:8080/"
        },
        "outputId": "e7dc5ab2-d681-4eb4-f530-d68cde599906"
      },
      "source": [
        "!7z e train.csv.7z\n",
        "!7z e songs.csv.7z\n",
        "!7z e song_extra_info.csv.7z\n",
        "!7z e members.csv.7z"
      ],
      "execution_count": 104,
      "outputs": [
        {
          "output_type": "stream",
          "text": [
            "\n",
            "7-Zip [64] 16.02 : Copyright (c) 1999-2016 Igor Pavlov : 2016-05-21\n",
            "p7zip Version 16.02 (locale=en_US.UTF-8,Utf16=on,HugeFiles=on,64 bits,2 CPUs Intel(R) Xeon(R) CPU @ 2.20GHz (406F0),ASM,AES-NI)\n",
            "\n",
            "Scanning the drive for archives:\n",
            "  0M Scan\b\b\b\b\b\b\b\b\b         \b\b\b\b\b\b\b\b\b1 file, 106420688 bytes (102 MiB)\n",
            "\n",
            "Extracting archive: train.csv.7z\n",
            "--\n",
            "Path = train.csv.7z\n",
            "Type = 7z\n",
            "Physical Size = 106420688\n",
            "Headers Size = 122\n",
            "Method = LZMA2:24\n",
            "Solid = -\n",
            "Blocks = 1\n",
            "\n",
            "  0%\b\b\b\b    \b\b\b\b\n",
            "Would you like to replace the existing file:\n",
            "  Path:     ./train.csv\n",
            "  Size:     971675848 bytes (927 MiB)\n",
            "  Modified: 2017-09-22 00:08:34\n",
            "with the file from archive:\n",
            "  Path:     train.csv\n",
            "  Size:     971675848 bytes (927 MiB)\n",
            "  Modified: 2017-09-22 00:08:34\n",
            "? (Y)es / (N)o / (A)lways / (S)kip all / A(u)to rename all / (Q)uit? N\n",
            "\n",
            "  0% . train.csv\b\b\b\b\b\b\b\b\b\b\b\b\b\b\b\b                \b\b\b\b\b\b\b\b\b\b\b\b\b\b\b\b  3% . train.csv\b\b\b\b\b\b\b\b\b\b\b\b\b\b\b\b                \b\b\b\b\b\b\b\b\b\b\b\b\b\b\b\b  6% . train.csv\b\b\b\b\b\b\b\b\b\b\b\b\b\b\b\b                \b\b\b\b\b\b\b\b\b\b\b\b\b\b\b\b  9% . train.csv\b\b\b\b\b\b\b\b\b\b\b\b\b\b\b\b                \b\b\b\b\b\b\b\b\b\b\b\b\b\b\b\b 13% . train.csv\b\b\b\b\b\b\b\b\b\b\b\b\b\b\b\b                \b\b\b\b\b\b\b\b\b\b\b\b\b\b\b\b 15% . train.csv\b\b\b\b\b\b\b\b\b\b\b\b\b\b\b\b                \b\b\b\b\b\b\b\b\b\b\b\b\b\b\b\b 18% . train.csv\b\b\b\b\b\b\b\b\b\b\b\b\b\b\b\b                \b\b\b\b\b\b\b\b\b\b\b\b\b\b\b\b 21% . train.csv\b\b\b\b\b\b\b\b\b\b\b\b\b\b\b\b                \b\b\b\b\b\b\b\b\b\b\b\b\b\b\b\b 24% . train.csv\b\b\b\b\b\b\b\b\b\b\b\b\b\b\b\b                \b\b\b\b\b\b\b\b\b\b\b\b\b\b\b\b 27% . train.csv\b\b\b\b\b\b\b\b\b\b\b\b\b\b\b\b                \b\b\b\b\b\b\b\b\b\b\b\b\b\b\b\b 30% . train.csv\b\b\b\b\b\b\b\b\b\b\b\b\b\b\b\b                \b\b\b\b\b\b\b\b\b\b\b\b\b\b\b\b 33% . train.csv\b\b\b\b\b\b\b\b\b\b\b\b\b\b\b\b                \b\b\b\b\b\b\b\b\b\b\b\b\b\b\b\b 35% . train.csv\b\b\b\b\b\b\b\b\b\b\b\b\b\b\b\b                \b\b\b\b\b\b\b\b\b\b\b\b\b\b\b\b 38% . train.csv\b\b\b\b\b\b\b\b\b\b\b\b\b\b\b\b                \b\b\b\b\b\b\b\b\b\b\b\b\b\b\b\b 41% . train.csv\b\b\b\b\b\b\b\b\b\b\b\b\b\b\b\b                \b\b\b\b\b\b\b\b\b\b\b\b\b\b\b\b 44% . train.csv\b\b\b\b\b\b\b\b\b\b\b\b\b\b\b\b                \b\b\b\b\b\b\b\b\b\b\b\b\b\b\b\b 47% . train.csv\b\b\b\b\b\b\b\b\b\b\b\b\b\b\b\b                \b\b\b\b\b\b\b\b\b\b\b\b\b\b\b\b 50% . train.csv\b\b\b\b\b\b\b\b\b\b\b\b\b\b\b\b                \b\b\b\b\b\b\b\b\b\b\b\b\b\b\b\b 53% . train.csv\b\b\b\b\b\b\b\b\b\b\b\b\b\b\b\b                \b\b\b\b\b\b\b\b\b\b\b\b\b\b\b\b 55% . train.csv\b\b\b\b\b\b\b\b\b\b\b\b\b\b\b\b                \b\b\b\b\b\b\b\b\b\b\b\b\b\b\b\b 58% . train.csv\b\b\b\b\b\b\b\b\b\b\b\b\b\b\b\b                \b\b\b\b\b\b\b\b\b\b\b\b\b\b\b\b 61% . train.csv\b\b\b\b\b\b\b\b\b\b\b\b\b\b\b\b                \b\b\b\b\b\b\b\b\b\b\b\b\b\b\b\b 63% . train.csv\b\b\b\b\b\b\b\b\b\b\b\b\b\b\b\b                \b\b\b\b\b\b\b\b\b\b\b\b\b\b\b\b 66% . train.csv\b\b\b\b\b\b\b\b\b\b\b\b\b\b\b\b                \b\b\b\b\b\b\b\b\b\b\b\b\b\b\b\b 69% . train.csv\b\b\b\b\b\b\b\b\b\b\b\b\b\b\b\b                \b\b\b\b\b\b\b\b\b\b\b\b\b\b\b\b 72% . train.csv\b\b\b\b\b\b\b\b\b\b\b\b\b\b\b\b                \b\b\b\b\b\b\b\b\b\b\b\b\b\b\b\b 75% . train.csv\b\b\b\b\b\b\b\b\b\b\b\b\b\b\b\b                \b\b\b\b\b\b\b\b\b\b\b\b\b\b\b\b 77% . train.csv\b\b\b\b\b\b\b\b\b\b\b\b\b\b\b\b                \b\b\b\b\b\b\b\b\b\b\b\b\b\b\b\b 80% . train.csv\b\b\b\b\b\b\b\b\b\b\b\b\b\b\b\b                \b\b\b\b\b\b\b\b\b\b\b\b\b\b\b\b 83% . train.csv\b\b\b\b\b\b\b\b\b\b\b\b\b\b\b\b                \b\b\b\b\b\b\b\b\b\b\b\b\b\b\b\b 85% . train.csv\b\b\b\b\b\b\b\b\b\b\b\b\b\b\b\b                \b\b\b\b\b\b\b\b\b\b\b\b\b\b\b\b 88% . train.csv\b\b\b\b\b\b\b\b\b\b\b\b\b\b\b\b                \b\b\b\b\b\b\b\b\b\b\b\b\b\b\b\b 91% . train.csv\b\b\b\b\b\b\b\b\b\b\b\b\b\b\b\b                \b\b\b\b\b\b\b\b\b\b\b\b\b\b\b\b 94% . train.csv\b\b\b\b\b\b\b\b\b\b\b\b\b\b\b\b                \b\b\b\b\b\b\b\b\b\b\b\b\b\b\b\b 97% . train.csv\b\b\b\b\b\b\b\b\b\b\b\b\b\b\b\b                \b\b\b\b\b\b\b\b\b\b\b\b\b\b\b\b100% 1\b\b\b\b\b\b      \b\b\b\b\b\bEverything is Ok\n",
            "\n",
            "Size:       971675848\n",
            "Compressed: 106420688\n",
            "\n",
            "7-Zip [64] 16.02 : Copyright (c) 1999-2016 Igor Pavlov : 2016-05-21\n",
            "p7zip Version 16.02 (locale=en_US.UTF-8,Utf16=on,HugeFiles=on,64 bits,2 CPUs Intel(R) Xeon(R) CPU @ 2.20GHz (406F0),ASM,AES-NI)\n",
            "\n",
            "Scanning the drive for archives:\n",
            "  0M Scan\b\b\b\b\b\b\b\b\b         \b\b\b\b\b\b\b\b\b1 file, 105809525 bytes (101 MiB)\n",
            "\n",
            "Extracting archive: songs.csv.7z\n",
            "--\n",
            "Path = songs.csv.7z\n",
            "Type = 7z\n",
            "Physical Size = 105809525\n",
            "Headers Size = 122\n",
            "Method = LZMA2:24\n",
            "Solid = -\n",
            "Blocks = 1\n",
            "\n",
            "  0%\b\b\b\b    \b\b\b\b\n",
            "Would you like to replace the existing file:\n",
            "  Path:     ./songs.csv\n",
            "  Size:     221828666 bytes (212 MiB)\n",
            "  Modified: 2017-09-22 00:08:59\n",
            "with the file from archive:\n",
            "  Path:     songs.csv\n",
            "  Size:     221828666 bytes (212 MiB)\n",
            "  Modified: 2017-09-22 00:08:59\n",
            "? (Y)es / (N)o / (A)lways / (S)kip all / A(u)to rename all / (Q)uit? N\n",
            "\n",
            "  1% . songs.csv\b\b\b\b\b\b\b\b\b\b\b\b\b\b\b\b                \b\b\b\b\b\b\b\b\b\b\b\b\b\b\b\b  4% . songs.csv\b\b\b\b\b\b\b\b\b\b\b\b\b\b\b\b                \b\b\b\b\b\b\b\b\b\b\b\b\b\b\b\b  8% . songs.csv\b\b\b\b\b\b\b\b\b\b\b\b\b\b\b\b                \b\b\b\b\b\b\b\b\b\b\b\b\b\b\b\b 11% . songs.csv\b\b\b\b\b\b\b\b\b\b\b\b\b\b\b\b                \b\b\b\b\b\b\b\b\b\b\b\b\b\b\b\b 15% . songs.csv\b\b\b\b\b\b\b\b\b\b\b\b\b\b\b\b                \b\b\b\b\b\b\b\b\b\b\b\b\b\b\b\b 18% . songs.csv\b\b\b\b\b\b\b\b\b\b\b\b\b\b\b\b                \b\b\b\b\b\b\b\b\b\b\b\b\b\b\b\b 21% . songs.csv\b\b\b\b\b\b\b\b\b\b\b\b\b\b\b\b                \b\b\b\b\b\b\b\b\b\b\b\b\b\b\b\b 24% . songs.csv\b\b\b\b\b\b\b\b\b\b\b\b\b\b\b\b                \b\b\b\b\b\b\b\b\b\b\b\b\b\b\b\b 28% . songs.csv\b\b\b\b\b\b\b\b\b\b\b\b\b\b\b\b                \b\b\b\b\b\b\b\b\b\b\b\b\b\b\b\b 31% . songs.csv\b\b\b\b\b\b\b\b\b\b\b\b\b\b\b\b                \b\b\b\b\b\b\b\b\b\b\b\b\b\b\b\b 34% . songs.csv\b\b\b\b\b\b\b\b\b\b\b\b\b\b\b\b                \b\b\b\b\b\b\b\b\b\b\b\b\b\b\b\b 37% . songs.csv\b\b\b\b\b\b\b\b\b\b\b\b\b\b\b\b                \b\b\b\b\b\b\b\b\b\b\b\b\b\b\b\b 40% . songs.csv\b\b\b\b\b\b\b\b\b\b\b\b\b\b\b\b                \b\b\b\b\b\b\b\b\b\b\b\b\b\b\b\b 43% . songs.csv\b\b\b\b\b\b\b\b\b\b\b\b\b\b\b\b                \b\b\b\b\b\b\b\b\b\b\b\b\b\b\b\b 46% . songs.csv\b\b\b\b\b\b\b\b\b\b\b\b\b\b\b\b                \b\b\b\b\b\b\b\b\b\b\b\b\b\b\b\b 49% . songs.csv\b\b\b\b\b\b\b\b\b\b\b\b\b\b\b\b                \b\b\b\b\b\b\b\b\b\b\b\b\b\b\b\b 51% . songs.csv\b\b\b\b\b\b\b\b\b\b\b\b\b\b\b\b                \b\b\b\b\b\b\b\b\b\b\b\b\b\b\b\b 54% . songs.csv\b\b\b\b\b\b\b\b\b\b\b\b\b\b\b\b                \b\b\b\b\b\b\b\b\b\b\b\b\b\b\b\b 57% . songs.csv\b\b\b\b\b\b\b\b\b\b\b\b\b\b\b\b                \b\b\b\b\b\b\b\b\b\b\b\b\b\b\b\b 60% . songs.csv\b\b\b\b\b\b\b\b\b\b\b\b\b\b\b\b                \b\b\b\b\b\b\b\b\b\b\b\b\b\b\b\b 64% . songs.csv\b\b\b\b\b\b\b\b\b\b\b\b\b\b\b\b                \b\b\b\b\b\b\b\b\b\b\b\b\b\b\b\b 67% . songs.csv\b\b\b\b\b\b\b\b\b\b\b\b\b\b\b\b                \b\b\b\b\b\b\b\b\b\b\b\b\b\b\b\b 70% . songs.csv\b\b\b\b\b\b\b\b\b\b\b\b\b\b\b\b                \b\b\b\b\b\b\b\b\b\b\b\b\b\b\b\b 73% . songs.csv\b\b\b\b\b\b\b\b\b\b\b\b\b\b\b\b                \b\b\b\b\b\b\b\b\b\b\b\b\b\b\b\b 76% . songs.csv\b\b\b\b\b\b\b\b\b\b\b\b\b\b\b\b                \b\b\b\b\b\b\b\b\b\b\b\b\b\b\b\b 79% . songs.csv\b\b\b\b\b\b\b\b\b\b\b\b\b\b\b\b                \b\b\b\b\b\b\b\b\b\b\b\b\b\b\b\b 82% . songs.csv\b\b\b\b\b\b\b\b\b\b\b\b\b\b\b\b                \b\b\b\b\b\b\b\b\b\b\b\b\b\b\b\b 85% . songs.csv\b\b\b\b\b\b\b\b\b\b\b\b\b\b\b\b                \b\b\b\b\b\b\b\b\b\b\b\b\b\b\b\b 88% . songs.csv\b\b\b\b\b\b\b\b\b\b\b\b\b\b\b\b                \b\b\b\b\b\b\b\b\b\b\b\b\b\b\b\b 91% . songs.csv\b\b\b\b\b\b\b\b\b\b\b\b\b\b\b\b                \b\b\b\b\b\b\b\b\b\b\b\b\b\b\b\b 94% . songs.csv\b\b\b\b\b\b\b\b\b\b\b\b\b\b\b\b                \b\b\b\b\b\b\b\b\b\b\b\b\b\b\b\b 98% . songs.csv\b\b\b\b\b\b\b\b\b\b\b\b\b\b\b\b                \b\b\b\b\b\b\b\b\b\b\b\b\b\b\b\bEverything is Ok\n",
            "\n",
            "Size:       221828666\n",
            "Compressed: 105809525\n",
            "\n",
            "7-Zip [64] 16.02 : Copyright (c) 1999-2016 Igor Pavlov : 2016-05-21\n",
            "p7zip Version 16.02 (locale=en_US.UTF-8,Utf16=on,HugeFiles=on,64 bits,2 CPUs Intel(R) Xeon(R) CPU @ 2.20GHz (406F0),ASM,AES-NI)\n",
            "\n",
            "Scanning the drive for archives:\n",
            "  0M Scan\b\b\b\b\b\b\b\b\b         \b\b\b\b\b\b\b\b\b1 file, 103608205 bytes (99 MiB)\n",
            "\n",
            "Extracting archive: song_extra_info.csv.7z\n",
            "--\n",
            "Path = song_extra_info.csv.7z\n",
            "Type = 7z\n",
            "Physical Size = 103608205\n",
            "Headers Size = 140\n",
            "Method = LZMA:25\n",
            "Solid = -\n",
            "Blocks = 1\n",
            "\n",
            "  0%\b\b\b\b    \b\b\b\b\n",
            "Would you like to replace the existing file:\n",
            "  Path:     ./song_extra_info.csv\n",
            "  Size:     181010294 bytes (173 MiB)\n",
            "  Modified: 2017-09-29 13:46:44\n",
            "with the file from archive:\n",
            "  Path:     song_extra_info.csv\n",
            "  Size:     181010294 bytes (173 MiB)\n",
            "  Modified: 2017-09-29 13:46:44\n",
            "? (Y)es / (N)o / (A)lways / (S)kip all / A(u)to rename all / (Q)uit? N\n",
            "\n",
            "  1% . song_extra_info.csv\b\b\b\b\b\b\b\b\b\b\b\b\b\b\b\b\b\b\b\b\b\b\b\b\b\b                          \b\b\b\b\b\b\b\b\b\b\b\b\b\b\b\b\b\b\b\b\b\b\b\b\b\b  5% . song_extra_info.csv\b\b\b\b\b\b\b\b\b\b\b\b\b\b\b\b\b\b\b\b\b\b\b\b\b\b                          \b\b\b\b\b\b\b\b\b\b\b\b\b\b\b\b\b\b\b\b\b\b\b\b\b\b  8% . song_extra_info.csv\b\b\b\b\b\b\b\b\b\b\b\b\b\b\b\b\b\b\b\b\b\b\b\b\b\b                          \b\b\b\b\b\b\b\b\b\b\b\b\b\b\b\b\b\b\b\b\b\b\b\b\b\b 11% . song_extra_info.csv\b\b\b\b\b\b\b\b\b\b\b\b\b\b\b\b\b\b\b\b\b\b\b\b\b\b                          \b\b\b\b\b\b\b\b\b\b\b\b\b\b\b\b\b\b\b\b\b\b\b\b\b\b 14% . song_extra_info.csv\b\b\b\b\b\b\b\b\b\b\b\b\b\b\b\b\b\b\b\b\b\b\b\b\b\b                          \b\b\b\b\b\b\b\b\b\b\b\b\b\b\b\b\b\b\b\b\b\b\b\b\b\b 17% . song_extra_info.csv\b\b\b\b\b\b\b\b\b\b\b\b\b\b\b\b\b\b\b\b\b\b\b\b\b\b                          \b\b\b\b\b\b\b\b\b\b\b\b\b\b\b\b\b\b\b\b\b\b\b\b\b\b 20% . song_extra_info.csv\b\b\b\b\b\b\b\b\b\b\b\b\b\b\b\b\b\b\b\b\b\b\b\b\b\b                          \b\b\b\b\b\b\b\b\b\b\b\b\b\b\b\b\b\b\b\b\b\b\b\b\b\b 23% . song_extra_info.csv\b\b\b\b\b\b\b\b\b\b\b\b\b\b\b\b\b\b\b\b\b\b\b\b\b\b                          \b\b\b\b\b\b\b\b\b\b\b\b\b\b\b\b\b\b\b\b\b\b\b\b\b\b 26% . song_extra_info.csv\b\b\b\b\b\b\b\b\b\b\b\b\b\b\b\b\b\b\b\b\b\b\b\b\b\b                          \b\b\b\b\b\b\b\b\b\b\b\b\b\b\b\b\b\b\b\b\b\b\b\b\b\b 29% . song_extra_info.csv\b\b\b\b\b\b\b\b\b\b\b\b\b\b\b\b\b\b\b\b\b\b\b\b\b\b                          \b\b\b\b\b\b\b\b\b\b\b\b\b\b\b\b\b\b\b\b\b\b\b\b\b\b 32% . song_extra_info.csv\b\b\b\b\b\b\b\b\b\b\b\b\b\b\b\b\b\b\b\b\b\b\b\b\b\b                          \b\b\b\b\b\b\b\b\b\b\b\b\b\b\b\b\b\b\b\b\b\b\b\b\b\b 35% . song_extra_info.csv\b\b\b\b\b\b\b\b\b\b\b\b\b\b\b\b\b\b\b\b\b\b\b\b\b\b                          \b\b\b\b\b\b\b\b\b\b\b\b\b\b\b\b\b\b\b\b\b\b\b\b\b\b 39% . song_extra_info.csv\b\b\b\b\b\b\b\b\b\b\b\b\b\b\b\b\b\b\b\b\b\b\b\b\b\b                          \b\b\b\b\b\b\b\b\b\b\b\b\b\b\b\b\b\b\b\b\b\b\b\b\b\b 42% . song_extra_info.csv\b\b\b\b\b\b\b\b\b\b\b\b\b\b\b\b\b\b\b\b\b\b\b\b\b\b                          \b\b\b\b\b\b\b\b\b\b\b\b\b\b\b\b\b\b\b\b\b\b\b\b\b\b 45% . song_extra_info.csv\b\b\b\b\b\b\b\b\b\b\b\b\b\b\b\b\b\b\b\b\b\b\b\b\b\b                          \b\b\b\b\b\b\b\b\b\b\b\b\b\b\b\b\b\b\b\b\b\b\b\b\b\b 48% . song_extra_info.csv\b\b\b\b\b\b\b\b\b\b\b\b\b\b\b\b\b\b\b\b\b\b\b\b\b\b                          \b\b\b\b\b\b\b\b\b\b\b\b\b\b\b\b\b\b\b\b\b\b\b\b\b\b 51% . song_extra_info.csv\b\b\b\b\b\b\b\b\b\b\b\b\b\b\b\b\b\b\b\b\b\b\b\b\b\b                          \b\b\b\b\b\b\b\b\b\b\b\b\b\b\b\b\b\b\b\b\b\b\b\b\b\b 54% . song_extra_info.csv\b\b\b\b\b\b\b\b\b\b\b\b\b\b\b\b\b\b\b\b\b\b\b\b\b\b                          \b\b\b\b\b\b\b\b\b\b\b\b\b\b\b\b\b\b\b\b\b\b\b\b\b\b 57% . song_extra_info.csv\b\b\b\b\b\b\b\b\b\b\b\b\b\b\b\b\b\b\b\b\b\b\b\b\b\b                          \b\b\b\b\b\b\b\b\b\b\b\b\b\b\b\b\b\b\b\b\b\b\b\b\b\b 60% . song_extra_info.csv\b\b\b\b\b\b\b\b\b\b\b\b\b\b\b\b\b\b\b\b\b\b\b\b\b\b                          \b\b\b\b\b\b\b\b\b\b\b\b\b\b\b\b\b\b\b\b\b\b\b\b\b\b 63% . song_extra_info.csv\b\b\b\b\b\b\b\b\b\b\b\b\b\b\b\b\b\b\b\b\b\b\b\b\b\b                          \b\b\b\b\b\b\b\b\b\b\b\b\b\b\b\b\b\b\b\b\b\b\b\b\b\b 66% . song_extra_info.csv\b\b\b\b\b\b\b\b\b\b\b\b\b\b\b\b\b\b\b\b\b\b\b\b\b\b                          \b\b\b\b\b\b\b\b\b\b\b\b\b\b\b\b\b\b\b\b\b\b\b\b\b\b 69% . song_extra_info.csv\b\b\b\b\b\b\b\b\b\b\b\b\b\b\b\b\b\b\b\b\b\b\b\b\b\b                          \b\b\b\b\b\b\b\b\b\b\b\b\b\b\b\b\b\b\b\b\b\b\b\b\b\b 72% . song_extra_info.csv\b\b\b\b\b\b\b\b\b\b\b\b\b\b\b\b\b\b\b\b\b\b\b\b\b\b                          \b\b\b\b\b\b\b\b\b\b\b\b\b\b\b\b\b\b\b\b\b\b\b\b\b\b 75% . song_extra_info.csv\b\b\b\b\b\b\b\b\b\b\b\b\b\b\b\b\b\b\b\b\b\b\b\b\b\b                          \b\b\b\b\b\b\b\b\b\b\b\b\b\b\b\b\b\b\b\b\b\b\b\b\b\b 78% . song_extra_info.csv\b\b\b\b\b\b\b\b\b\b\b\b\b\b\b\b\b\b\b\b\b\b\b\b\b\b                          \b\b\b\b\b\b\b\b\b\b\b\b\b\b\b\b\b\b\b\b\b\b\b\b\b\b 81% . song_extra_info.csv\b\b\b\b\b\b\b\b\b\b\b\b\b\b\b\b\b\b\b\b\b\b\b\b\b\b                          \b\b\b\b\b\b\b\b\b\b\b\b\b\b\b\b\b\b\b\b\b\b\b\b\b\b 84% . song_extra_info.csv\b\b\b\b\b\b\b\b\b\b\b\b\b\b\b\b\b\b\b\b\b\b\b\b\b\b                          \b\b\b\b\b\b\b\b\b\b\b\b\b\b\b\b\b\b\b\b\b\b\b\b\b\b 87% . song_extra_info.csv\b\b\b\b\b\b\b\b\b\b\b\b\b\b\b\b\b\b\b\b\b\b\b\b\b\b                          \b\b\b\b\b\b\b\b\b\b\b\b\b\b\b\b\b\b\b\b\b\b\b\b\b\b 90% . song_extra_info.csv\b\b\b\b\b\b\b\b\b\b\b\b\b\b\b\b\b\b\b\b\b\b\b\b\b\b                          \b\b\b\b\b\b\b\b\b\b\b\b\b\b\b\b\b\b\b\b\b\b\b\b\b\b 94% . song_extra_info.csv\b\b\b\b\b\b\b\b\b\b\b\b\b\b\b\b\b\b\b\b\b\b\b\b\b\b                          \b\b\b\b\b\b\b\b\b\b\b\b\b\b\b\b\b\b\b\b\b\b\b\b\b\b 97% . song_extra_info.csv\b\b\b\b\b\b\b\b\b\b\b\b\b\b\b\b\b\b\b\b\b\b\b\b\b\b                          \b\b\b\b\b\b\b\b\b\b\b\b\b\b\b\b\b\b\b\b\b\b\b\b\b\b100% 1\b\b\b\b\b\b      \b\b\b\b\b\bEverything is Ok\n",
            "\n",
            "Size:       181010294\n",
            "Compressed: 103608205\n",
            "\n",
            "7-Zip [64] 16.02 : Copyright (c) 1999-2016 Igor Pavlov : 2016-05-21\n",
            "p7zip Version 16.02 (locale=en_US.UTF-8,Utf16=on,HugeFiles=on,64 bits,2 CPUs Intel(R) Xeon(R) CPU @ 2.20GHz (406F0),ASM,AES-NI)\n",
            "\n",
            "Scanning the drive for archives:\n",
            "  0M Scan\b\b\b\b\b\b\b\b\b         \b\b\b\b\b\b\b\b\b1 file, 1349856 bytes (1319 KiB)\n",
            "\n",
            "Extracting archive: members.csv.7z\n",
            "--\n",
            "Path = members.csv.7z\n",
            "Type = 7z\n",
            "Physical Size = 1349856\n",
            "Headers Size = 130\n",
            "Method = LZMA2:3m\n",
            "Solid = -\n",
            "Blocks = 1\n",
            "\n",
            "  0%\b\b\b\b    \b\b\b\b\n",
            "Would you like to replace the existing file:\n",
            "  Path:     ./members.csv\n",
            "  Size:     2503827 bytes (2446 KiB)\n",
            "  Modified: 2017-09-22 00:09:55\n",
            "with the file from archive:\n",
            "  Path:     members.csv\n",
            "  Size:     2503827 bytes (2446 KiB)\n",
            "  Modified: 2017-09-22 00:09:55\n",
            "? (Y)es / (N)o / (A)lways / (S)kip all / A(u)to rename all / (Q)uit? N\n",
            "\n",
            " 77% . members.csv\b\b\b\b\b\b\b\b\b\b\b\b\b\b\b\b\b\b                  \b\b\b\b\b\b\b\b\b\b\b\b\b\b\b\b\b\bEverything is Ok\n",
            "\n",
            "Size:       2503827\n",
            "Compressed: 1349856\n"
          ],
          "name": "stdout"
        }
      ]
    },
    {
      "cell_type": "markdown",
      "metadata": {
        "id": "oPBky5FLJ_vW"
      },
      "source": [
        "## Preprocess data"
      ]
    },
    {
      "cell_type": "code",
      "metadata": {
        "id": "RmcOSd2p-NI_"
      },
      "source": [
        "import pandas as pd\n",
        "import numpy as np\n",
        "import seaborn as sns\n",
        "import matplotlib.pyplot as plt"
      ],
      "execution_count": 105,
      "outputs": []
    },
    {
      "cell_type": "markdown",
      "metadata": {
        "id": "rALFEMBqKtUV"
      },
      "source": [
        "### Download and preprocess train dataset"
      ]
    },
    {
      "cell_type": "code",
      "metadata": {
        "id": "1LjqTyLOAVL8"
      },
      "source": [
        "train_types = {'msno': 'category',\n",
        "               'song_id': 'category',\n",
        "               'source_system_tab': 'category',\n",
        "               'source_screen_name': 'category',\n",
        "               'source_type': 'category',\n",
        "               'target': np.uint8}"
      ],
      "execution_count": 106,
      "outputs": []
    },
    {
      "cell_type": "code",
      "metadata": {
        "id": "m4kwr7V28uxV"
      },
      "source": [
        "train = pd.read_csv('/content/train.csv', dtype=train_types)"
      ],
      "execution_count": 107,
      "outputs": []
    },
    {
      "cell_type": "code",
      "metadata": {
        "id": "5hmUm_cr-6ys",
        "colab": {
          "base_uri": "https://localhost:8080/",
          "height": 0
        },
        "outputId": "d5eed502-a242-426b-d3d7-c1e9c3c60848"
      },
      "source": [
        "train.head()"
      ],
      "execution_count": 108,
      "outputs": [
        {
          "output_type": "execute_result",
          "data": {
            "text/html": [
              "<div>\n",
              "<style scoped>\n",
              "    .dataframe tbody tr th:only-of-type {\n",
              "        vertical-align: middle;\n",
              "    }\n",
              "\n",
              "    .dataframe tbody tr th {\n",
              "        vertical-align: top;\n",
              "    }\n",
              "\n",
              "    .dataframe thead th {\n",
              "        text-align: right;\n",
              "    }\n",
              "</style>\n",
              "<table border=\"1\" class=\"dataframe\">\n",
              "  <thead>\n",
              "    <tr style=\"text-align: right;\">\n",
              "      <th></th>\n",
              "      <th>msno</th>\n",
              "      <th>song_id</th>\n",
              "      <th>source_system_tab</th>\n",
              "      <th>source_screen_name</th>\n",
              "      <th>source_type</th>\n",
              "      <th>target</th>\n",
              "    </tr>\n",
              "  </thead>\n",
              "  <tbody>\n",
              "    <tr>\n",
              "      <th>0</th>\n",
              "      <td>FGtllVqz18RPiwJj/edr2gV78zirAiY/9SmYvia+kCg=</td>\n",
              "      <td>BBzumQNXUHKdEBOB7mAJuzok+IJA1c2Ryg/yzTF6tik=</td>\n",
              "      <td>explore</td>\n",
              "      <td>Explore</td>\n",
              "      <td>online-playlist</td>\n",
              "      <td>1</td>\n",
              "    </tr>\n",
              "    <tr>\n",
              "      <th>1</th>\n",
              "      <td>Xumu+NIjS6QYVxDS4/t3SawvJ7viT9hPKXmf0RtLNx8=</td>\n",
              "      <td>bhp/MpSNoqoxOIB+/l8WPqu6jldth4DIpCm3ayXnJqM=</td>\n",
              "      <td>my library</td>\n",
              "      <td>Local playlist more</td>\n",
              "      <td>local-playlist</td>\n",
              "      <td>1</td>\n",
              "    </tr>\n",
              "    <tr>\n",
              "      <th>2</th>\n",
              "      <td>Xumu+NIjS6QYVxDS4/t3SawvJ7viT9hPKXmf0RtLNx8=</td>\n",
              "      <td>JNWfrrC7zNN7BdMpsISKa4Mw+xVJYNnxXh3/Epw7QgY=</td>\n",
              "      <td>my library</td>\n",
              "      <td>Local playlist more</td>\n",
              "      <td>local-playlist</td>\n",
              "      <td>1</td>\n",
              "    </tr>\n",
              "    <tr>\n",
              "      <th>3</th>\n",
              "      <td>Xumu+NIjS6QYVxDS4/t3SawvJ7viT9hPKXmf0RtLNx8=</td>\n",
              "      <td>2A87tzfnJTSWqD7gIZHisolhe4DMdzkbd6LzO1KHjNs=</td>\n",
              "      <td>my library</td>\n",
              "      <td>Local playlist more</td>\n",
              "      <td>local-playlist</td>\n",
              "      <td>1</td>\n",
              "    </tr>\n",
              "    <tr>\n",
              "      <th>4</th>\n",
              "      <td>FGtllVqz18RPiwJj/edr2gV78zirAiY/9SmYvia+kCg=</td>\n",
              "      <td>3qm6XTZ6MOCU11x8FIVbAGH5l5uMkT3/ZalWG1oo2Gc=</td>\n",
              "      <td>explore</td>\n",
              "      <td>Explore</td>\n",
              "      <td>online-playlist</td>\n",
              "      <td>1</td>\n",
              "    </tr>\n",
              "  </tbody>\n",
              "</table>\n",
              "</div>"
            ],
            "text/plain": [
              "                                           msno  ... target\n",
              "0  FGtllVqz18RPiwJj/edr2gV78zirAiY/9SmYvia+kCg=  ...      1\n",
              "1  Xumu+NIjS6QYVxDS4/t3SawvJ7viT9hPKXmf0RtLNx8=  ...      1\n",
              "2  Xumu+NIjS6QYVxDS4/t3SawvJ7viT9hPKXmf0RtLNx8=  ...      1\n",
              "3  Xumu+NIjS6QYVxDS4/t3SawvJ7viT9hPKXmf0RtLNx8=  ...      1\n",
              "4  FGtllVqz18RPiwJj/edr2gV78zirAiY/9SmYvia+kCg=  ...      1\n",
              "\n",
              "[5 rows x 6 columns]"
            ]
          },
          "metadata": {
            "tags": []
          },
          "execution_count": 108
        }
      ]
    },
    {
      "cell_type": "code",
      "metadata": {
        "id": "H6jJPMfJAP_N",
        "colab": {
          "base_uri": "https://localhost:8080/"
        },
        "outputId": "a8ba2e35-9381-499e-c13d-885453668951"
      },
      "source": [
        "train.info(verbose=True, null_counts=True)"
      ],
      "execution_count": 109,
      "outputs": [
        {
          "output_type": "stream",
          "text": [
            "<class 'pandas.core.frame.DataFrame'>\n",
            "RangeIndex: 7377418 entries, 0 to 7377417\n",
            "Data columns (total 6 columns):\n",
            " #   Column              Non-Null Count    Dtype   \n",
            "---  ------              --------------    -----   \n",
            " 0   msno                7377418 non-null  category\n",
            " 1   song_id             7377418 non-null  category\n",
            " 2   source_system_tab   7352569 non-null  category\n",
            " 3   source_screen_name  6962614 non-null  category\n",
            " 4   source_type         7355879 non-null  category\n",
            " 5   target              7377418 non-null  uint8   \n",
            "dtypes: category(5), uint8(1)\n",
            "memory usage: 84.6 MB\n"
          ],
          "name": "stdout"
        }
      ]
    },
    {
      "cell_type": "markdown",
      "metadata": {
        "id": "EeEjllbFKZ7v"
      },
      "source": [
        "Features `source_system_tab`, `source_screen_name` and `source_type` have some NaNs, so drop rows with NaNs."
      ]
    },
    {
      "cell_type": "code",
      "metadata": {
        "id": "O0g16rsmBUO-",
        "colab": {
          "base_uri": "https://localhost:8080/"
        },
        "outputId": "9f138806-4913-402a-cefa-18fb3475e8a6"
      },
      "source": [
        "print('Train length before drop nans', train.shape)\n",
        "train = train.dropna()\n",
        "print('Train length after drop nans', train.shape)"
      ],
      "execution_count": 110,
      "outputs": [
        {
          "output_type": "stream",
          "text": [
            "Train length before drop nans (7377418, 6)\n",
            "Train length after drop nans (6959297, 6)\n"
          ],
          "name": "stdout"
        }
      ]
    },
    {
      "cell_type": "markdown",
      "metadata": {
        "id": "CKgYj4ArOjBG"
      },
      "source": [
        "The size of the dataset doesn't change significant."
      ]
    },
    {
      "cell_type": "markdown",
      "metadata": {
        "id": "HIbJYDkBKxxX"
      },
      "source": [
        "### Download and preprocess songs dataset"
      ]
    },
    {
      "cell_type": "code",
      "metadata": {
        "id": "ttexP5ofEQeK"
      },
      "source": [
        "songs_types = {'song_id': 'category',\n",
        "               'song_length': np.uint64,\n",
        "               'artist_name': 'category',\n",
        "               'language': np.float64}"
      ],
      "execution_count": 111,
      "outputs": []
    },
    {
      "cell_type": "code",
      "metadata": {
        "id": "nG0nu6VnEq7r"
      },
      "source": [
        "songs = pd.read_csv('/content/songs.csv', dtype=songs_types)"
      ],
      "execution_count": 112,
      "outputs": []
    },
    {
      "cell_type": "code",
      "metadata": {
        "id": "eqtO2JhlFiLG",
        "colab": {
          "base_uri": "https://localhost:8080/",
          "height": 0
        },
        "outputId": "a6fe5207-2fc2-4729-869c-b2c9b8d88add"
      },
      "source": [
        "songs.head()"
      ],
      "execution_count": 113,
      "outputs": [
        {
          "output_type": "execute_result",
          "data": {
            "text/html": [
              "<div>\n",
              "<style scoped>\n",
              "    .dataframe tbody tr th:only-of-type {\n",
              "        vertical-align: middle;\n",
              "    }\n",
              "\n",
              "    .dataframe tbody tr th {\n",
              "        vertical-align: top;\n",
              "    }\n",
              "\n",
              "    .dataframe thead th {\n",
              "        text-align: right;\n",
              "    }\n",
              "</style>\n",
              "<table border=\"1\" class=\"dataframe\">\n",
              "  <thead>\n",
              "    <tr style=\"text-align: right;\">\n",
              "      <th></th>\n",
              "      <th>song_id</th>\n",
              "      <th>song_length</th>\n",
              "      <th>genre_ids</th>\n",
              "      <th>artist_name</th>\n",
              "      <th>composer</th>\n",
              "      <th>lyricist</th>\n",
              "      <th>language</th>\n",
              "    </tr>\n",
              "  </thead>\n",
              "  <tbody>\n",
              "    <tr>\n",
              "      <th>0</th>\n",
              "      <td>CXoTN1eb7AI+DntdU1vbcwGRV4SCIDxZu+YD8JP8r4E=</td>\n",
              "      <td>247640</td>\n",
              "      <td>465</td>\n",
              "      <td>張信哲 (Jeff Chang)</td>\n",
              "      <td>董貞</td>\n",
              "      <td>何啟弘</td>\n",
              "      <td>3.0</td>\n",
              "    </tr>\n",
              "    <tr>\n",
              "      <th>1</th>\n",
              "      <td>o0kFgae9QtnYgRkVPqLJwa05zIhRlUjfF7O1tDw0ZDU=</td>\n",
              "      <td>197328</td>\n",
              "      <td>444</td>\n",
              "      <td>BLACKPINK</td>\n",
              "      <td>TEDDY|  FUTURE BOUNCE|  Bekuh BOOM</td>\n",
              "      <td>TEDDY</td>\n",
              "      <td>31.0</td>\n",
              "    </tr>\n",
              "    <tr>\n",
              "      <th>2</th>\n",
              "      <td>DwVvVurfpuz+XPuFvucclVQEyPqcpUkHR0ne1RQzPs0=</td>\n",
              "      <td>231781</td>\n",
              "      <td>465</td>\n",
              "      <td>SUPER JUNIOR</td>\n",
              "      <td>NaN</td>\n",
              "      <td>NaN</td>\n",
              "      <td>31.0</td>\n",
              "    </tr>\n",
              "    <tr>\n",
              "      <th>3</th>\n",
              "      <td>dKMBWoZyScdxSkihKG+Vf47nc18N9q4m58+b4e7dSSE=</td>\n",
              "      <td>273554</td>\n",
              "      <td>465</td>\n",
              "      <td>S.H.E</td>\n",
              "      <td>湯小康</td>\n",
              "      <td>徐世珍</td>\n",
              "      <td>3.0</td>\n",
              "    </tr>\n",
              "    <tr>\n",
              "      <th>4</th>\n",
              "      <td>W3bqWd3T+VeHFzHAUfARgW9AvVRaF4N5Yzm4Mr6Eo/o=</td>\n",
              "      <td>140329</td>\n",
              "      <td>726</td>\n",
              "      <td>貴族精選</td>\n",
              "      <td>Traditional</td>\n",
              "      <td>Traditional</td>\n",
              "      <td>52.0</td>\n",
              "    </tr>\n",
              "  </tbody>\n",
              "</table>\n",
              "</div>"
            ],
            "text/plain": [
              "                                        song_id  ...  language\n",
              "0  CXoTN1eb7AI+DntdU1vbcwGRV4SCIDxZu+YD8JP8r4E=  ...       3.0\n",
              "1  o0kFgae9QtnYgRkVPqLJwa05zIhRlUjfF7O1tDw0ZDU=  ...      31.0\n",
              "2  DwVvVurfpuz+XPuFvucclVQEyPqcpUkHR0ne1RQzPs0=  ...      31.0\n",
              "3  dKMBWoZyScdxSkihKG+Vf47nc18N9q4m58+b4e7dSSE=  ...       3.0\n",
              "4  W3bqWd3T+VeHFzHAUfARgW9AvVRaF4N5Yzm4Mr6Eo/o=  ...      52.0\n",
              "\n",
              "[5 rows x 7 columns]"
            ]
          },
          "metadata": {
            "tags": []
          },
          "execution_count": 113
        }
      ]
    },
    {
      "cell_type": "code",
      "metadata": {
        "id": "oPTjCC98Hr2S",
        "colab": {
          "base_uri": "https://localhost:8080/"
        },
        "outputId": "1ef8288e-37c5-4207-c53c-a9b5560263df"
      },
      "source": [
        "songs.info(verbose=True, null_counts=True)"
      ],
      "execution_count": 114,
      "outputs": [
        {
          "output_type": "stream",
          "text": [
            "<class 'pandas.core.frame.DataFrame'>\n",
            "RangeIndex: 2296320 entries, 0 to 2296319\n",
            "Data columns (total 7 columns):\n",
            " #   Column       Non-Null Count    Dtype   \n",
            "---  ------       --------------    -----   \n",
            " 0   song_id      2296320 non-null  category\n",
            " 1   song_length  2296320 non-null  uint64  \n",
            " 2   genre_ids    2202204 non-null  object  \n",
            " 3   artist_name  2296320 non-null  category\n",
            " 4   composer     1224966 non-null  object  \n",
            " 5   lyricist     351052 non-null   object  \n",
            " 6   language     2296319 non-null  float64 \n",
            "dtypes: category(2), float64(1), object(3), uint64(1)\n",
            "memory usage: 214.3+ MB\n"
          ],
          "name": "stdout"
        }
      ]
    },
    {
      "cell_type": "markdown",
      "metadata": {
        "id": "erRsHU9lK_YX"
      },
      "source": [
        "Features `composer` and `lyricist` have a lot Nans, so we can drop these columns at all. Features `genre_ids` and `language` has some NaNs, but we won't drop rows with NaNs and fill NaNs with the default value."
      ]
    },
    {
      "cell_type": "code",
      "metadata": {
        "id": "WLegsqGdLazS"
      },
      "source": [
        "songs['lyricist'] = songs['lyricist'].fillna('Other')\n",
        "songs['composer'] = songs['composer'].fillna('Other')"
      ],
      "execution_count": 115,
      "outputs": []
    },
    {
      "cell_type": "markdown",
      "metadata": {
        "id": "YWGji-rZO-Ha"
      },
      "source": [
        "Look at unique values and the histogram of `language` feature."
      ]
    },
    {
      "cell_type": "code",
      "metadata": {
        "id": "rxGi5elXPDi2",
        "colab": {
          "base_uri": "https://localhost:8080/"
        },
        "outputId": "e58b60be-e72e-491a-e6b5-55930f1794bd"
      },
      "source": [
        "songs['language'].unique()"
      ],
      "execution_count": 116,
      "outputs": [
        {
          "output_type": "execute_result",
          "data": {
            "text/plain": [
              "array([ 3., 31., 52., 17., 10., -1., 24., 59., 45., 38., nan])"
            ]
          },
          "metadata": {
            "tags": []
          },
          "execution_count": 116
        }
      ]
    },
    {
      "cell_type": "code",
      "metadata": {
        "id": "kCcemVW-POZi",
        "colab": {
          "base_uri": "https://localhost:8080/",
          "height": 0
        },
        "outputId": "7809e139-9eb0-4389-8b6f-77aed2049435"
      },
      "source": [
        "plt.hist(songs['language'])"
      ],
      "execution_count": 117,
      "outputs": [
        {
          "output_type": "execute_result",
          "data": {
            "text/plain": [
              "(array([ 745762.,   15482.,       0.,   92518.,   41744.,   39201.,\n",
              "           2385.,   14435., 1336694.,    8098.]),\n",
              " array([-1.,  5., 11., 17., 23., 29., 35., 41., 47., 53., 59.]),\n",
              " <a list of 10 Patch objects>)"
            ]
          },
          "metadata": {
            "tags": []
          },
          "execution_count": 117
        },
        {
          "output_type": "display_data",
          "data": {
            "image/png": "[encoded data removed]",
            "text/plain": [
              "<Figure size 432x288 with 1 Axes>"
            ]
          },
          "metadata": {
            "tags": [],
            "needs_background": "light"
          }
        }
      ]
    },
    {
      "cell_type": "markdown",
      "metadata": {
        "id": "ysDcTI2WPKc_"
      },
      "source": [
        "I think we can change NaN to the most popular `language` (value 53)."
      ]
    },
    {
      "cell_type": "code",
      "metadata": {
        "id": "a2xsL8ZtP0D0"
      },
      "source": [
        "songs['language'] = songs['language'].fillna(53)"
      ],
      "execution_count": 118,
      "outputs": []
    },
    {
      "cell_type": "markdown",
      "metadata": {
        "id": "8PGTRJH-N1l_"
      },
      "source": [
        "Then I will change NaN in the `genre_ids` feature to the new genre with is 239239 value."
      ]
    },
    {
      "cell_type": "code",
      "metadata": {
        "id": "-TDlbZB6SaVZ"
      },
      "source": [
        "songs['genre_ids'] = songs['genre_ids'].fillna('239239')"
      ],
      "execution_count": 119,
      "outputs": []
    },
    {
      "cell_type": "code",
      "metadata": {
        "id": "XvAuCtm7P7Ch",
        "colab": {
          "base_uri": "https://localhost:8080/"
        },
        "outputId": "e07b9c2a-4b4c-4fbb-d8c0-e6606637a0a1"
      },
      "source": [
        "songs.info(verbose=True, null_counts=True)"
      ],
      "execution_count": null,
      "outputs": [
        {
          "output_type": "stream",
          "text": [
            "<class 'pandas.core.frame.DataFrame'>\n",
            "RangeIndex: 2296320 entries, 0 to 2296319\n",
            "Data columns (total 7 columns):\n",
            " #   Column       Non-Null Count    Dtype   \n",
            "---  ------       --------------    -----   \n",
            " 0   song_id      2296320 non-null  category\n",
            " 1   song_length  2296320 non-null  uint64  \n",
            " 2   genre_ids    2296320 non-null  object  \n",
            " 3   artist_name  2296320 non-null  category\n",
            " 4   composer     2296320 non-null  object  \n",
            " 5   lyricist     2296320 non-null  object  \n",
            " 6   language     2296320 non-null  float64 \n",
            "dtypes: category(2), float64(1), object(3), uint64(1)\n",
            "memory usage: 214.3+ MB\n"
          ],
          "name": "stdout"
        }
      ]
    },
    {
      "cell_type": "markdown",
      "metadata": {
        "id": "EKdhTefRMK_q"
      },
      "source": [
        "### Download and preprocess members dataset"
      ]
    },
    {
      "cell_type": "code",
      "metadata": {
        "id": "3m-njhhcFADu"
      },
      "source": [
        "members_types = {'msno': 'category',\n",
        "                 'city': np.uint64,\n",
        "                 'bd': np.uint64,\n",
        "                 'registered_via': np.uint64}"
      ],
      "execution_count": null,
      "outputs": []
    },
    {
      "cell_type": "code",
      "metadata": {
        "id": "cX6j3dnKH6wE"
      },
      "source": [
        "members = pd.read_csv('/content/members.csv', dtype=members_types, parse_dates=['registration_init_time', 'expiration_date'])"
      ],
      "execution_count": null,
      "outputs": []
    },
    {
      "cell_type": "code",
      "metadata": {
        "id": "qx06nETgH_29"
      },
      "source": [
        "members.head()"
      ],
      "execution_count": null,
      "outputs": []
    },
    {
      "cell_type": "code",
      "metadata": {
        "id": "lubni2OHISF9"
      },
      "source": [
        "members.info(verbose=True, null_counts=True)"
      ],
      "execution_count": null,
      "outputs": []
    },
    {
      "cell_type": "markdown",
      "metadata": {
        "id": "IQ5mX6EbMdh5"
      },
      "source": [
        "Features `gender` have a lot Nans, so drop fill NaNs with new category `other`."
      ]
    },
    {
      "cell_type": "code",
      "metadata": {
        "id": "eS8UMfQ4Mj7Q"
      },
      "source": [
        "members['gender'] = members['gender'].fillna('other')"
      ],
      "execution_count": null,
      "outputs": []
    },
    {
      "cell_type": "code",
      "metadata": {
        "id": "qDjH0CBlUfJG"
      },
      "source": [
        "members.info(verbose=True, null_counts=True)"
      ],
      "execution_count": null,
      "outputs": []
    },
    {
      "cell_type": "markdown",
      "metadata": {
        "id": "woLOet6CUuhj"
      },
      "source": [
        "Now all tables are filled."
      ]
    },
    {
      "cell_type": "markdown",
      "metadata": {
        "id": "8VOjl6VS1XL1"
      },
      "source": [
        "### Download and preprocess songs extra info dataset"
      ]
    },
    {
      "cell_type": "code",
      "metadata": {
        "id": "KOIs2xQW1dAj"
      },
      "source": [
        "songs_extra = pd.read_csv('/content/song_extra_info.csv')"
      ],
      "execution_count": null,
      "outputs": []
    },
    {
      "cell_type": "code",
      "metadata": {
        "id": "C1HDHfE_2bYU"
      },
      "source": [
        "songs_extra.head()"
      ],
      "execution_count": null,
      "outputs": []
    },
    {
      "cell_type": "code",
      "metadata": {
        "id": "HPFB_Mjp2mWP"
      },
      "source": [
        "songs_extra.info(verbose=True, null_counts=True)"
      ],
      "execution_count": null,
      "outputs": []
    },
    {
      "cell_type": "code",
      "metadata": {
        "id": "0wtg1C2n26tT"
      },
      "source": [
        "# Fill NaNs\n",
        "songs_extra['name'] = songs_extra['name'].fillna('!!!!!!!!!!!!!!!!!!')\n",
        "songs_extra['isrc'] = songs_extra['isrc'].fillna('OTHER')"
      ],
      "execution_count": null,
      "outputs": []
    },
    {
      "cell_type": "code",
      "metadata": {
        "id": "d04e04II3Sjy"
      },
      "source": [
        "songs_extra.info(verbose=True, null_counts=True)"
      ],
      "execution_count": null,
      "outputs": []
    },
    {
      "cell_type": "markdown",
      "metadata": {
        "id": "l89ej15Bwn2N"
      },
      "source": [
        "### Check target distribution"
      ]
    },
    {
      "cell_type": "code",
      "metadata": {
        "id": "3NOjlOvtakns"
      },
      "source": [
        "plt.hist(train['target'])"
      ],
      "execution_count": null,
      "outputs": []
    },
    {
      "cell_type": "markdown",
      "metadata": {
        "id": "vGjdMOxyat-M"
      },
      "source": [
        "The targets are balanced."
      ]
    },
    {
      "cell_type": "markdown",
      "metadata": {
        "id": "LISWSnKfV6zq"
      },
      "source": [
        "## Feature engineering"
      ]
    },
    {
      "cell_type": "code",
      "metadata": {
        "id": "7sdfKIDZzgDl"
      },
      "source": [
        "!pip install category_encoders"
      ],
      "execution_count": null,
      "outputs": []
    },
    {
      "cell_type": "code",
      "metadata": {
        "id": "hSY-qoE1pJqp"
      },
      "source": [
        "from sklearn.preprocessing import LabelEncoder\n",
        "from category_encoders import TargetEncoder\n",
        "from sklearn.preprocessing import minmax_scale"
      ],
      "execution_count": null,
      "outputs": []
    },
    {
      "cell_type": "code",
      "metadata": {
        "id": "xfDvrIITz3Ej"
      },
      "source": [
        "data = train.copy()"
      ],
      "execution_count": 39,
      "outputs": []
    },
    {
      "cell_type": "code",
      "metadata": {
        "id": "qDVFutDmWDqW"
      },
      "source": [
        "data = data.merge(songs, on='song_id')\n",
        "data = data.merge(members, on='msno')"
      ],
      "execution_count": 40,
      "outputs": []
    },
    {
      "cell_type": "code",
      "metadata": {
        "id": "GpqnPWw5oe3l"
      },
      "source": [
        "def encode(dataset, feature):\n",
        "    encoder = TargetEncoder()\n",
        "    encoder.fit(dataset[feature], dataset.target)\n",
        "    dataset[feature] = encoder.transform(dataset[feature].astype('category'))"
      ],
      "execution_count": 41,
      "outputs": []
    },
    {
      "cell_type": "markdown",
      "metadata": {
        "id": "9kC60Rw8VfRL"
      },
      "source": [
        "Add some new features."
      ]
    },
    {
      "cell_type": "code",
      "metadata": {
        "id": "opcl_AViSnda",
        "colab": {
          "base_uri": "https://localhost:8080/"
        },
        "outputId": "86c81e36-3259-4402-9035-a373061716d3"
      },
      "source": [
        "data['first_genre'] = [int(str(i).split('|')[0]) for i in data['genre_ids']]\n",
        "encode(data, 'first_genre')"
      ],
      "execution_count": 42,
      "outputs": [
        {
          "output_type": "stream",
          "text": [
            "/usr/local/lib/python3.7/dist-packages/category_encoders/utils.py:21: FutureWarning: is_categorical is deprecated and will be removed in a future version.  Use is_categorical_dtype instead\n",
            "  elif pd.api.types.is_categorical(cols):\n"
          ],
          "name": "stderr"
        }
      ]
    },
    {
      "cell_type": "code",
      "metadata": {
        "id": "haG5ybidGBOU",
        "colab": {
          "base_uri": "https://localhost:8080/"
        },
        "outputId": "f5447535-4c2e-4a73-9bd9-c849e8d25261"
      },
      "source": [
        "data['second_genre'] = [int(str(i).split('|')[1]) if len(str(i).split('|')) > 1 else 239239 for i in data['genre_ids']]\n",
        "encode(data, 'second_genre')"
      ],
      "execution_count": 43,
      "outputs": [
        {
          "output_type": "stream",
          "text": [
            "/usr/local/lib/python3.7/dist-packages/category_encoders/utils.py:21: FutureWarning: is_categorical is deprecated and will be removed in a future version.  Use is_categorical_dtype instead\n",
            "  elif pd.api.types.is_categorical(cols):\n"
          ],
          "name": "stderr"
        }
      ]
    },
    {
      "cell_type": "code",
      "metadata": {
        "id": "Q6MZJ0KcGMAm",
        "colab": {
          "base_uri": "https://localhost:8080/"
        },
        "outputId": "bfc1e6d6-941b-4e5d-e7cc-a0146caeb0b4"
      },
      "source": [
        "data['third_genre'] = [int(str(i).split('|')[2]) if len(str(i).split('|')) > 2 else 239239 for i in data['genre_ids']]\n",
        "encode(data, 'third_genre')"
      ],
      "execution_count": 44,
      "outputs": [
        {
          "output_type": "stream",
          "text": [
            "/usr/local/lib/python3.7/dist-packages/category_encoders/utils.py:21: FutureWarning: is_categorical is deprecated and will be removed in a future version.  Use is_categorical_dtype instead\n",
            "  elif pd.api.types.is_categorical(cols):\n"
          ],
          "name": "stderr"
        }
      ]
    },
    {
      "cell_type": "code",
      "metadata": {
        "id": "nAeWNkl7ptx3",
        "colab": {
          "base_uri": "https://localhost:8080/"
        },
        "outputId": "30670998-4b0c-43e4-8a4c-0dd24e35e65f"
      },
      "source": [
        "# One hot encode for other features\n",
        "feature_onehot = pd.get_dummies(data.gender)\n",
        "for name in feature_onehot.columns:\n",
        "    data['gender_' + name] = feature_onehot[name]\n",
        "encode(data, 'gender')\n",
        "\n",
        "# feature_onehot = pd.get_dummies(data.registered_via)\n",
        "# for name in feature_onehot.columns:\n",
        "#     data['registered_via_' + str(name)] = feature_onehot[name]\n",
        "encode(data, 'registered_via')\n",
        "\n",
        "feature_onehot = pd.get_dummies(data.city)\n",
        "for name in feature_onehot.columns:\n",
        "    data['city_' + str(name)] = feature_onehot[name]\n",
        "encode(data, 'city')\n",
        "\n",
        "# feature_onehot = pd.get_dummies(data.source_type)\n",
        "# for name in feature_onehot.columns:\n",
        "#     data['source_type_' + name] = feature_onehot[name]\n",
        "encode(data, 'source_type')\n",
        "\n",
        "# feature_onehot = pd.get_dummies(data.source_system_tab)\n",
        "# for name in feature_onehot.columns:\n",
        "#     data['source_system_tab_' + name] = feature_onehot[name]\n",
        "encode(data, 'source_system_tab')\n",
        "\n",
        "feature_onehot = pd.get_dummies(data.language)\n",
        "for name in feature_onehot.columns:\n",
        "      data['language_' + str(name)] = feature_onehot[name]\n",
        "encode(data, 'language')\n",
        "\n",
        "# feature_onehot = pd.get_dummies(data.source_screen_name)\n",
        "# for name in feature_onehot.columns:\n",
        "#       data['source_screen_name_' + str(name)] = feature_onehot[name]\n",
        "encode(data, 'source_screen_name')\n",
        "\n",
        "# Split registration_init_time to 3 features\n",
        "data['registration_year'] = data.registration_init_time.dt.year\n",
        "data['registration_month'] = data.registration_init_time.dt.month\n",
        "data['registration_day'] = data.registration_init_time.dt.day\n",
        "data['registration_init_time_sec'] = data.registration_init_time.dt.year * 365 + data.registration_init_time.dt.month * 30 + data.registration_init_time.dt.day\n",
        "# encode(data, 'registration_init_time')\n",
        "\n",
        "\n",
        "# Split expiration_date to 3 features\n",
        "data['expiration_year'] = data.expiration_date.dt.year\n",
        "data['expiration_month'] = data.expiration_date.dt.month\n",
        "data['expiration_day'] = data.expiration_date.dt.day\n",
        "data['expiration_date_sec'] = data.expiration_date.dt.year * 365 + data.expiration_date.dt.month * 30 + data.expiration_date.dt.day\n",
        "# encode(data, 'expiration_date')\n",
        "\n",
        "# Add a new feature\n",
        "data['time_on_service'] = data['expiration_date_sec'] - data['registration_init_time_sec']"
      ],
      "execution_count": 45,
      "outputs": [
        {
          "output_type": "stream",
          "text": [
            "/usr/local/lib/python3.7/dist-packages/category_encoders/utils.py:21: FutureWarning: is_categorical is deprecated and will be removed in a future version.  Use is_categorical_dtype instead\n",
            "  elif pd.api.types.is_categorical(cols):\n",
            "/usr/local/lib/python3.7/dist-packages/category_encoders/utils.py:21: FutureWarning: is_categorical is deprecated and will be removed in a future version.  Use is_categorical_dtype instead\n",
            "  elif pd.api.types.is_categorical(cols):\n",
            "/usr/local/lib/python3.7/dist-packages/category_encoders/utils.py:21: FutureWarning: is_categorical is deprecated and will be removed in a future version.  Use is_categorical_dtype instead\n",
            "  elif pd.api.types.is_categorical(cols):\n",
            "/usr/local/lib/python3.7/dist-packages/category_encoders/utils.py:21: FutureWarning: is_categorical is deprecated and will be removed in a future version.  Use is_categorical_dtype instead\n",
            "  elif pd.api.types.is_categorical(cols):\n"
          ],
          "name": "stderr"
        }
      ]
    },
    {
      "cell_type": "code",
      "metadata": {
        "id": "yf-TJgr4ppaR",
        "colab": {
          "base_uri": "https://localhost:8080/"
        },
        "outputId": "383f5a58-21a9-4376-cd62-2dbadb2ae1f8"
      },
      "source": [
        "encode(data, 'artist_name')\n",
        "encode(data, 'msno')\n",
        "encode(data, 'song_id')\n",
        "encode(data, 'genre_ids')\n",
        "encode(data, 'lyricist')\n",
        "encode(data, 'composer')\n",
        "\n",
        "data = data.drop(columns=['bd'])"
      ],
      "execution_count": 46,
      "outputs": [
        {
          "output_type": "stream",
          "text": [
            "/usr/local/lib/python3.7/dist-packages/category_encoders/utils.py:21: FutureWarning: is_categorical is deprecated and will be removed in a future version.  Use is_categorical_dtype instead\n",
            "  elif pd.api.types.is_categorical(cols):\n",
            "/usr/local/lib/python3.7/dist-packages/category_encoders/utils.py:21: FutureWarning: is_categorical is deprecated and will be removed in a future version.  Use is_categorical_dtype instead\n",
            "  elif pd.api.types.is_categorical(cols):\n",
            "/usr/local/lib/python3.7/dist-packages/category_encoders/utils.py:21: FutureWarning: is_categorical is deprecated and will be removed in a future version.  Use is_categorical_dtype instead\n",
            "  elif pd.api.types.is_categorical(cols):\n",
            "/usr/local/lib/python3.7/dist-packages/category_encoders/utils.py:21: FutureWarning: is_categorical is deprecated and will be removed in a future version.  Use is_categorical_dtype instead\n",
            "  elif pd.api.types.is_categorical(cols):\n",
            "/usr/local/lib/python3.7/dist-packages/category_encoders/utils.py:21: FutureWarning: is_categorical is deprecated and will be removed in a future version.  Use is_categorical_dtype instead\n",
            "  elif pd.api.types.is_categorical(cols):\n",
            "/usr/local/lib/python3.7/dist-packages/category_encoders/utils.py:21: FutureWarning: is_categorical is deprecated and will be removed in a future version.  Use is_categorical_dtype instead\n",
            "  elif pd.api.types.is_categorical(cols):\n"
          ],
          "name": "stderr"
        }
      ]
    },
    {
      "cell_type": "code",
      "metadata": {
        "id": "RqOzpYkB_ZNw"
      },
      "source": [
        "# data.head()"
      ],
      "execution_count": 47,
      "outputs": []
    },
    {
      "cell_type": "code",
      "metadata": {
        "id": "i2LzO07KJybT"
      },
      "source": [
        "# for feature in data.columns:\n",
        "#     print(feature, data[feature].unique())"
      ],
      "execution_count": 48,
      "outputs": []
    },
    {
      "cell_type": "markdown",
      "metadata": {
        "id": "38Eh0tkMUw9_"
      },
      "source": [
        "## GBDT"
      ]
    },
    {
      "cell_type": "code",
      "metadata": {
        "id": "baWsk8HvVnDE"
      },
      "source": [
        "from sklearn.model_selection import StratifiedKFold, GridSearchCV, cross_validate\n",
        "from xgboost import XGBClassifier\n",
        "from sklearn.metrics import roc_auc_score"
      ],
      "execution_count": 49,
      "outputs": []
    },
    {
      "cell_type": "code",
      "metadata": {
        "colab": {
          "base_uri": "https://localhost:8080/",
          "height": 224
        },
        "id": "86q-2oNLy6CD",
        "outputId": "cd8fb28d-6060-4472-d38b-b43bae53009d"
      },
      "source": [
        "data.head()"
      ],
      "execution_count": 50,
      "outputs": [
        {
          "output_type": "execute_result",
          "data": {
            "text/html": [
              "<div>\n",
              "<style scoped>\n",
              "    .dataframe tbody tr th:only-of-type {\n",
              "        vertical-align: middle;\n",
              "    }\n",
              "\n",
              "    .dataframe tbody tr th {\n",
              "        vertical-align: top;\n",
              "    }\n",
              "\n",
              "    .dataframe thead th {\n",
              "        text-align: right;\n",
              "    }\n",
              "</style>\n",
              "<table border=\"1\" class=\"dataframe\">\n",
              "  <thead>\n",
              "    <tr style=\"text-align: right;\">\n",
              "      <th></th>\n",
              "      <th>msno</th>\n",
              "      <th>song_id</th>\n",
              "      <th>source_system_tab</th>\n",
              "      <th>source_screen_name</th>\n",
              "      <th>source_type</th>\n",
              "      <th>target</th>\n",
              "      <th>song_length</th>\n",
              "      <th>genre_ids</th>\n",
              "      <th>artist_name</th>\n",
              "      <th>composer</th>\n",
              "      <th>lyricist</th>\n",
              "      <th>language</th>\n",
              "      <th>city</th>\n",
              "      <th>gender</th>\n",
              "      <th>registered_via</th>\n",
              "      <th>registration_init_time</th>\n",
              "      <th>expiration_date</th>\n",
              "      <th>first_genre</th>\n",
              "      <th>second_genre</th>\n",
              "      <th>third_genre</th>\n",
              "      <th>gender_female</th>\n",
              "      <th>gender_male</th>\n",
              "      <th>gender_other</th>\n",
              "      <th>city_1</th>\n",
              "      <th>city_3</th>\n",
              "      <th>city_4</th>\n",
              "      <th>city_5</th>\n",
              "      <th>city_6</th>\n",
              "      <th>city_7</th>\n",
              "      <th>city_8</th>\n",
              "      <th>city_9</th>\n",
              "      <th>city_10</th>\n",
              "      <th>city_11</th>\n",
              "      <th>city_12</th>\n",
              "      <th>city_13</th>\n",
              "      <th>city_14</th>\n",
              "      <th>city_15</th>\n",
              "      <th>city_16</th>\n",
              "      <th>city_17</th>\n",
              "      <th>city_18</th>\n",
              "      <th>city_19</th>\n",
              "      <th>city_20</th>\n",
              "      <th>city_21</th>\n",
              "      <th>city_22</th>\n",
              "      <th>language_-1.0</th>\n",
              "      <th>language_3.0</th>\n",
              "      <th>language_10.0</th>\n",
              "      <th>language_17.0</th>\n",
              "      <th>language_24.0</th>\n",
              "      <th>language_31.0</th>\n",
              "      <th>language_45.0</th>\n",
              "      <th>language_52.0</th>\n",
              "      <th>language_59.0</th>\n",
              "      <th>registration_year</th>\n",
              "      <th>registration_month</th>\n",
              "      <th>registration_day</th>\n",
              "      <th>registration_init_time_sec</th>\n",
              "      <th>expiration_year</th>\n",
              "      <th>expiration_month</th>\n",
              "      <th>expiration_day</th>\n",
              "      <th>expiration_date_sec</th>\n",
              "      <th>time_on_service</th>\n",
              "    </tr>\n",
              "  </thead>\n",
              "  <tbody>\n",
              "    <tr>\n",
              "      <th>0</th>\n",
              "      <td>0.500200</td>\n",
              "      <td>0.500200</td>\n",
              "      <td>0.610112</td>\n",
              "      <td>0.627051</td>\n",
              "      <td>0.636732</td>\n",
              "      <td>1</td>\n",
              "      <td>269061</td>\n",
              "      <td>0.512583</td>\n",
              "      <td>0.791667</td>\n",
              "      <td>0.459964</td>\n",
              "      <td>0.469683</td>\n",
              "      <td>3.0</td>\n",
              "      <td>1</td>\n",
              "      <td>0.495191</td>\n",
              "      <td>7</td>\n",
              "      <td>2016-08-26</td>\n",
              "      <td>2017-09-30</td>\n",
              "      <td>465</td>\n",
              "      <td>239239</td>\n",
              "      <td>239239</td>\n",
              "      <td>0</td>\n",
              "      <td>0</td>\n",
              "      <td>1</td>\n",
              "      <td>1</td>\n",
              "      <td>0</td>\n",
              "      <td>0</td>\n",
              "      <td>0</td>\n",
              "      <td>0</td>\n",
              "      <td>0</td>\n",
              "      <td>0</td>\n",
              "      <td>0</td>\n",
              "      <td>0</td>\n",
              "      <td>0</td>\n",
              "      <td>0</td>\n",
              "      <td>0</td>\n",
              "      <td>0</td>\n",
              "      <td>0</td>\n",
              "      <td>0</td>\n",
              "      <td>0</td>\n",
              "      <td>0</td>\n",
              "      <td>0</td>\n",
              "      <td>0</td>\n",
              "      <td>0</td>\n",
              "      <td>0</td>\n",
              "      <td>0</td>\n",
              "      <td>1</td>\n",
              "      <td>0</td>\n",
              "      <td>0</td>\n",
              "      <td>0</td>\n",
              "      <td>0</td>\n",
              "      <td>0</td>\n",
              "      <td>0</td>\n",
              "      <td>0</td>\n",
              "      <td>2016</td>\n",
              "      <td>8</td>\n",
              "      <td>26</td>\n",
              "      <td>736106</td>\n",
              "      <td>2017</td>\n",
              "      <td>9</td>\n",
              "      <td>30</td>\n",
              "      <td>736505</td>\n",
              "      <td>399</td>\n",
              "    </tr>\n",
              "    <tr>\n",
              "      <th>1</th>\n",
              "      <td>0.500200</td>\n",
              "      <td>0.134524</td>\n",
              "      <td>0.610112</td>\n",
              "      <td>0.627051</td>\n",
              "      <td>0.636732</td>\n",
              "      <td>0</td>\n",
              "      <td>256940</td>\n",
              "      <td>0.512583</td>\n",
              "      <td>0.375000</td>\n",
              "      <td>0.444463</td>\n",
              "      <td>0.449275</td>\n",
              "      <td>3.0</td>\n",
              "      <td>13</td>\n",
              "      <td>0.511056</td>\n",
              "      <td>9</td>\n",
              "      <td>2010-05-14</td>\n",
              "      <td>2017-10-21</td>\n",
              "      <td>465</td>\n",
              "      <td>239239</td>\n",
              "      <td>239239</td>\n",
              "      <td>1</td>\n",
              "      <td>0</td>\n",
              "      <td>0</td>\n",
              "      <td>0</td>\n",
              "      <td>0</td>\n",
              "      <td>0</td>\n",
              "      <td>0</td>\n",
              "      <td>0</td>\n",
              "      <td>0</td>\n",
              "      <td>0</td>\n",
              "      <td>0</td>\n",
              "      <td>0</td>\n",
              "      <td>0</td>\n",
              "      <td>0</td>\n",
              "      <td>1</td>\n",
              "      <td>0</td>\n",
              "      <td>0</td>\n",
              "      <td>0</td>\n",
              "      <td>0</td>\n",
              "      <td>0</td>\n",
              "      <td>0</td>\n",
              "      <td>0</td>\n",
              "      <td>0</td>\n",
              "      <td>0</td>\n",
              "      <td>0</td>\n",
              "      <td>1</td>\n",
              "      <td>0</td>\n",
              "      <td>0</td>\n",
              "      <td>0</td>\n",
              "      <td>0</td>\n",
              "      <td>0</td>\n",
              "      <td>0</td>\n",
              "      <td>0</td>\n",
              "      <td>2010</td>\n",
              "      <td>5</td>\n",
              "      <td>14</td>\n",
              "      <td>733814</td>\n",
              "      <td>2017</td>\n",
              "      <td>10</td>\n",
              "      <td>21</td>\n",
              "      <td>736526</td>\n",
              "      <td>2712</td>\n",
              "    </tr>\n",
              "    <tr>\n",
              "      <th>2</th>\n",
              "      <td>0.261866</td>\n",
              "      <td>0.134524</td>\n",
              "      <td>0.610112</td>\n",
              "      <td>0.627051</td>\n",
              "      <td>0.636732</td>\n",
              "      <td>0</td>\n",
              "      <td>256940</td>\n",
              "      <td>0.512583</td>\n",
              "      <td>0.375000</td>\n",
              "      <td>0.444463</td>\n",
              "      <td>0.449275</td>\n",
              "      <td>3.0</td>\n",
              "      <td>13</td>\n",
              "      <td>0.496975</td>\n",
              "      <td>3</td>\n",
              "      <td>2013-03-24</td>\n",
              "      <td>2017-09-21</td>\n",
              "      <td>465</td>\n",
              "      <td>239239</td>\n",
              "      <td>239239</td>\n",
              "      <td>0</td>\n",
              "      <td>1</td>\n",
              "      <td>0</td>\n",
              "      <td>0</td>\n",
              "      <td>0</td>\n",
              "      <td>0</td>\n",
              "      <td>0</td>\n",
              "      <td>0</td>\n",
              "      <td>0</td>\n",
              "      <td>0</td>\n",
              "      <td>0</td>\n",
              "      <td>0</td>\n",
              "      <td>0</td>\n",
              "      <td>0</td>\n",
              "      <td>1</td>\n",
              "      <td>0</td>\n",
              "      <td>0</td>\n",
              "      <td>0</td>\n",
              "      <td>0</td>\n",
              "      <td>0</td>\n",
              "      <td>0</td>\n",
              "      <td>0</td>\n",
              "      <td>0</td>\n",
              "      <td>0</td>\n",
              "      <td>0</td>\n",
              "      <td>1</td>\n",
              "      <td>0</td>\n",
              "      <td>0</td>\n",
              "      <td>0</td>\n",
              "      <td>0</td>\n",
              "      <td>0</td>\n",
              "      <td>0</td>\n",
              "      <td>0</td>\n",
              "      <td>2013</td>\n",
              "      <td>3</td>\n",
              "      <td>24</td>\n",
              "      <td>734859</td>\n",
              "      <td>2017</td>\n",
              "      <td>9</td>\n",
              "      <td>21</td>\n",
              "      <td>736496</td>\n",
              "      <td>1637</td>\n",
              "    </tr>\n",
              "    <tr>\n",
              "      <th>3</th>\n",
              "      <td>0.261866</td>\n",
              "      <td>0.500009</td>\n",
              "      <td>0.415804</td>\n",
              "      <td>0.627051</td>\n",
              "      <td>0.636732</td>\n",
              "      <td>1</td>\n",
              "      <td>203406</td>\n",
              "      <td>0.512583</td>\n",
              "      <td>0.550000</td>\n",
              "      <td>0.500009</td>\n",
              "      <td>0.469683</td>\n",
              "      <td>52.0</td>\n",
              "      <td>13</td>\n",
              "      <td>0.496975</td>\n",
              "      <td>3</td>\n",
              "      <td>2013-03-24</td>\n",
              "      <td>2017-09-21</td>\n",
              "      <td>465</td>\n",
              "      <td>239239</td>\n",
              "      <td>239239</td>\n",
              "      <td>0</td>\n",
              "      <td>1</td>\n",
              "      <td>0</td>\n",
              "      <td>0</td>\n",
              "      <td>0</td>\n",
              "      <td>0</td>\n",
              "      <td>0</td>\n",
              "      <td>0</td>\n",
              "      <td>0</td>\n",
              "      <td>0</td>\n",
              "      <td>0</td>\n",
              "      <td>0</td>\n",
              "      <td>0</td>\n",
              "      <td>0</td>\n",
              "      <td>1</td>\n",
              "      <td>0</td>\n",
              "      <td>0</td>\n",
              "      <td>0</td>\n",
              "      <td>0</td>\n",
              "      <td>0</td>\n",
              "      <td>0</td>\n",
              "      <td>0</td>\n",
              "      <td>0</td>\n",
              "      <td>0</td>\n",
              "      <td>0</td>\n",
              "      <td>0</td>\n",
              "      <td>0</td>\n",
              "      <td>0</td>\n",
              "      <td>0</td>\n",
              "      <td>0</td>\n",
              "      <td>0</td>\n",
              "      <td>1</td>\n",
              "      <td>0</td>\n",
              "      <td>2013</td>\n",
              "      <td>3</td>\n",
              "      <td>24</td>\n",
              "      <td>734859</td>\n",
              "      <td>2017</td>\n",
              "      <td>9</td>\n",
              "      <td>21</td>\n",
              "      <td>736496</td>\n",
              "      <td>1637</td>\n",
              "    </tr>\n",
              "    <tr>\n",
              "      <th>4</th>\n",
              "      <td>0.261866</td>\n",
              "      <td>0.500200</td>\n",
              "      <td>0.610112</td>\n",
              "      <td>0.627051</td>\n",
              "      <td>0.636732</td>\n",
              "      <td>0</td>\n",
              "      <td>258484</td>\n",
              "      <td>0.512583</td>\n",
              "      <td>0.444444</td>\n",
              "      <td>0.738153</td>\n",
              "      <td>0.500009</td>\n",
              "      <td>3.0</td>\n",
              "      <td>13</td>\n",
              "      <td>0.496975</td>\n",
              "      <td>3</td>\n",
              "      <td>2013-03-24</td>\n",
              "      <td>2017-09-21</td>\n",
              "      <td>465</td>\n",
              "      <td>239239</td>\n",
              "      <td>239239</td>\n",
              "      <td>0</td>\n",
              "      <td>1</td>\n",
              "      <td>0</td>\n",
              "      <td>0</td>\n",
              "      <td>0</td>\n",
              "      <td>0</td>\n",
              "      <td>0</td>\n",
              "      <td>0</td>\n",
              "      <td>0</td>\n",
              "      <td>0</td>\n",
              "      <td>0</td>\n",
              "      <td>0</td>\n",
              "      <td>0</td>\n",
              "      <td>0</td>\n",
              "      <td>1</td>\n",
              "      <td>0</td>\n",
              "      <td>0</td>\n",
              "      <td>0</td>\n",
              "      <td>0</td>\n",
              "      <td>0</td>\n",
              "      <td>0</td>\n",
              "      <td>0</td>\n",
              "      <td>0</td>\n",
              "      <td>0</td>\n",
              "      <td>0</td>\n",
              "      <td>1</td>\n",
              "      <td>0</td>\n",
              "      <td>0</td>\n",
              "      <td>0</td>\n",
              "      <td>0</td>\n",
              "      <td>0</td>\n",
              "      <td>0</td>\n",
              "      <td>0</td>\n",
              "      <td>2013</td>\n",
              "      <td>3</td>\n",
              "      <td>24</td>\n",
              "      <td>734859</td>\n",
              "      <td>2017</td>\n",
              "      <td>9</td>\n",
              "      <td>21</td>\n",
              "      <td>736496</td>\n",
              "      <td>1637</td>\n",
              "    </tr>\n",
              "  </tbody>\n",
              "</table>\n",
              "</div>"
            ],
            "text/plain": [
              "       msno   song_id  ...  expiration_date_sec  time_on_service\n",
              "0  0.500200  0.500200  ...               736505              399\n",
              "1  0.500200  0.134524  ...               736526             2712\n",
              "2  0.261866  0.134524  ...               736496             1637\n",
              "3  0.261866  0.500009  ...               736496             1637\n",
              "4  0.261866  0.500200  ...               736496             1637\n",
              "\n",
              "[5 rows x 62 columns]"
            ]
          },
          "metadata": {
            "tags": []
          },
          "execution_count": 50
        }
      ]
    },
    {
      "cell_type": "code",
      "metadata": {
        "id": "1zkpnkepU2rl",
        "colab": {
          "base_uri": "https://localhost:8080/"
        },
        "outputId": "67e01173-82bf-4a55-ca98-da717e1842d5"
      },
      "source": [
        "X = data.drop(columns=['target', 'expiration_date', 'registration_init_time'])\n",
        "y = data['target']\n",
        "\n",
        "skf = StratifiedKFold(n_splits=5, random_state=1, shuffle=True)\n",
        "\n",
        "# model = XGBClassifier(tree_method='gpu_hist', gpu_id=0)\n",
        "# parameters = {'model__max_depth':[3, 5, 10], \n",
        "#               'model__sampling_method':['uniform', 'gradient_based'], \n",
        "#               'model__n_estimators':[25, 50],\n",
        "#               'model__splitter':['best', 'random'],\n",
        "#               'model__criterion':['gini', 'entropy'],\n",
        "#               'model__min_samples_leaf':[1, 5, 10]}\n",
        "# clf = GridSearchCV(model, parameters, scoring='roc_auc', cv=skf, n_jobs=-1)\n",
        "# _ = clf.fit(X, y)\n",
        "\n",
        "# print('XGBClassifier', clf.best_params_)\n",
        "\n",
        "# best_model = XGBClassifier(max_depth=clf.best_params_['model__max_depth'],\n",
        "#                            sampling_method=clf.best_params_['model__sampling_method'],\n",
        "#                            tree_method='gpu_hist', gpu_id=0, \n",
        "#                            n_estimators=clf.best_params_['model__n_estimators'],\n",
        "#                            splitter=clf.best_params_['model__splitter'],\n",
        "#                            criterion=clf.best_params_['model__criterion'],\n",
        "#                            min_samples_leaf=clf.best_params_['model__min_samples_leaf'])\n",
        "best_model = XGBClassifier(tree_method='gpu_hist', gpu_id=0, n_jobs=-1,\n",
        "                           n_estimators=30, max_depth=3)\n",
        "_ = best_model.fit(X, y)\n",
        "score = cross_validate(best_model, X, y, cv=skf, n_jobs=-1, verbose=1)['test_score']\n",
        "\n",
        "print(f'ROC AUC for the best model: {np.mean(score)}')"
      ],
      "execution_count": 51,
      "outputs": [
        {
          "output_type": "stream",
          "text": [
            "[Parallel(n_jobs=-1)]: Using backend LokyBackend with 2 concurrent workers.\n"
          ],
          "name": "stderr"
        },
        {
          "output_type": "stream",
          "text": [
            "ROC AUC for the best model: 0.7807999999999999\n"
          ],
          "name": "stdout"
        },
        {
          "output_type": "stream",
          "text": [
            "[Parallel(n_jobs=-1)]: Done   5 out of   5 | elapsed:    2.6s finished\n"
          ],
          "name": "stderr"
        }
      ]
    },
    {
      "cell_type": "markdown",
      "metadata": {
        "id": "VBhQO0Q1xAiz"
      },
      "source": [
        "### Feature imporatances"
      ]
    },
    {
      "cell_type": "code",
      "metadata": {
        "id": "hKt9nnPwWjJe",
        "colab": {
          "base_uri": "https://localhost:8080/",
          "height": 1000
        },
        "outputId": "bd8d525a-4e25-4f2a-816a-2dcd42db1e04"
      },
      "source": [
        "importances = best_model.feature_importances_\n",
        "\n",
        "indices = np.argsort(importances)[::-1]\n",
        "\n",
        "plt.figure(figsize=(30, 30))\n",
        "\n",
        "plt.title('Feature importances')\n",
        "plt.ylabel('Importance')\n",
        "plt.xlabel('Feature name')\n",
        "\n",
        "plt.bar(range(len(X.columns)), importances[indices])\n",
        "plt.xticks(range(len(X.columns)),X.columns[indices],rotation=90)\n",
        "plt.show()"
      ],
      "execution_count": 52,
      "outputs": [
        {
          "output_type": "display_data",
          "data": {
            "image/png": "[encoded data removed]",
            "text/plain": [
              "<Figure size 2160x2160 with 1 Axes>"
            ]
          },
          "metadata": {
            "tags": [],
            "needs_background": "light"
          }
        }
      ]
    },
    {
      "cell_type": "code",
      "metadata": {
        "id": "Susfoz6Bxh5w",
        "colab": {
          "base_uri": "https://localhost:8080/"
        },
        "outputId": "d95465ff-fde7-419a-ea8c-6323ce17204b"
      },
      "source": [
        "# Drop not important features\n",
        "X = data[['msno', 'song_id', 'source_type', 'source_screen_name', 'artist_name', \n",
        "          'composer', 'source_system_tab', 'registration_init_time_sec', 'registration_day',\n",
        "          'registered_via', 'city_9']]\n",
        "y = data['target']\n",
        "\n",
        "best_model = XGBClassifier(tree_method='gpu_hist', gpu_id=0, n_jobs=-1,\n",
        "                           n_estimators=100, max_depth=3, random_state=1)\n",
        "_ = best_model.fit(X, y)\n",
        "score = cross_validate(best_model, X, y, cv=skf, n_jobs=-1, verbose=1)['test_score']\n",
        "\n",
        "print(f'ROC AUC for the best model: {np.mean(score)}')"
      ],
      "execution_count": 68,
      "outputs": [
        {
          "output_type": "stream",
          "text": [
            "[Parallel(n_jobs=-1)]: Using backend LokyBackend with 2 concurrent workers.\n"
          ],
          "name": "stderr"
        },
        {
          "output_type": "stream",
          "text": [
            "ROC AUC for the best model: 0.7841\n"
          ],
          "name": "stdout"
        },
        {
          "output_type": "stream",
          "text": [
            "[Parallel(n_jobs=-1)]: Done   5 out of   5 | elapsed:    2.3s finished\n"
          ],
          "name": "stderr"
        }
      ]
    },
    {
      "cell_type": "markdown",
      "metadata": {
        "id": "4KMU7_kn0eYO"
      },
      "source": [
        "## Build embeddings"
      ]
    },
    {
      "cell_type": "code",
      "metadata": {
        "id": "9lA2H4Q2DFDr"
      },
      "source": [
        "from tqdm import tqdm\n",
        "from gensim.models import Word2Vec\n",
        "import multiprocessing"
      ],
      "execution_count": 135,
      "outputs": []
    },
    {
      "cell_type": "code",
      "metadata": {
        "id": "Ris2AMCG0khD"
      },
      "source": [
        "emb_data = train.merge(songs.merge(songs_extra, on=['song_id', 'song_id']), on='song_id').sample(100000)"
      ],
      "execution_count": 136,
      "outputs": []
    },
    {
      "cell_type": "code",
      "metadata": {
        "id": "7f8wJm978ZCd"
      },
      "source": [
        "targeted = emb_data.loc[emb_data.target == 1, ['msno']]\n",
        "targeted['song'] = emb_data.apply(lambda x: str(x['artist_name']) + ' | '  \n",
        "                                  + str(x['name']) + ' | ' \n",
        "                                  + str(x['composer']) + ' | ' + \n",
        "                                  str(x['lyricist']), axis=1)"
      ],
      "execution_count": 137,
      "outputs": []
    },
    {
      "cell_type": "code",
      "metadata": {
        "colab": {
          "base_uri": "https://localhost:8080/",
          "height": 204
        },
        "id": "qnWU1667IkX2",
        "outputId": "ff182dbd-149a-4c8e-b934-8b48c12b425d"
      },
      "source": [
        "targeted.head()"
      ],
      "execution_count": 139,
      "outputs": [
        {
          "output_type": "execute_result",
          "data": {
            "text/html": [
              "<div>\n",
              "<style scoped>\n",
              "    .dataframe tbody tr th:only-of-type {\n",
              "        vertical-align: middle;\n",
              "    }\n",
              "\n",
              "    .dataframe tbody tr th {\n",
              "        vertical-align: top;\n",
              "    }\n",
              "\n",
              "    .dataframe thead th {\n",
              "        text-align: right;\n",
              "    }\n",
              "</style>\n",
              "<table border=\"1\" class=\"dataframe\">\n",
              "  <thead>\n",
              "    <tr style=\"text-align: right;\">\n",
              "      <th></th>\n",
              "      <th>msno</th>\n",
              "      <th>song</th>\n",
              "    </tr>\n",
              "  </thead>\n",
              "  <tbody>\n",
              "    <tr>\n",
              "      <th>524782</th>\n",
              "      <td>oF4/dEI3s3hXR+xju7VnDStzgYFCCbueQaw2MFeuGpc=</td>\n",
              "      <td>Carly Rae Jepsen | I Really Like You | Carly R...</td>\n",
              "    </tr>\n",
              "    <tr>\n",
              "      <th>1481758</th>\n",
              "      <td>Bw+PhddPd6uyy6LYG6UrV2uM7LtwijHYJZdOD2BzcgE=</td>\n",
              "      <td>周杰倫 (Jay Chou) | 髮如雪 | 周杰倫 | 方文山</td>\n",
              "    </tr>\n",
              "    <tr>\n",
              "      <th>298680</th>\n",
              "      <td>AvAe2Lp/Ncm+oGOkJpI3EwJz7wyPrfCOwbpsJCF8YJA=</td>\n",
              "      <td>Calvin Harris | This Is What You Came For | Ca...</td>\n",
              "    </tr>\n",
              "    <tr>\n",
              "      <th>66178</th>\n",
              "      <td>WI6ii34ufr52oLNj6LI5U2v15B+UNztuhmyMChbTIOE=</td>\n",
              "      <td>五月天 (Mayday) | 好好 (想把你寫成一首歌) (Song About You) ...</td>\n",
              "    </tr>\n",
              "    <tr>\n",
              "      <th>2309052</th>\n",
              "      <td>iV5B5c2Mnm9J3/MYJhjcvdCGMb54O+ZmYwxzLlkh4HY=</td>\n",
              "      <td>One Direction | Perfect | Harry Styles|Julian ...</td>\n",
              "    </tr>\n",
              "  </tbody>\n",
              "</table>\n",
              "</div>"
            ],
            "text/plain": [
              "                                                 msno                                               song\n",
              "524782   oF4/dEI3s3hXR+xju7VnDStzgYFCCbueQaw2MFeuGpc=  Carly Rae Jepsen | I Really Like You | Carly R...\n",
              "1481758  Bw+PhddPd6uyy6LYG6UrV2uM7LtwijHYJZdOD2BzcgE=                   周杰倫 (Jay Chou) | 髮如雪 | 周杰倫 | 方文山\n",
              "298680   AvAe2Lp/Ncm+oGOkJpI3EwJz7wyPrfCOwbpsJCF8YJA=  Calvin Harris | This Is What You Came For | Ca...\n",
              "66178    WI6ii34ufr52oLNj6LI5U2v15B+UNztuhmyMChbTIOE=  五月天 (Mayday) | 好好 (想把你寫成一首歌) (Song About You) ...\n",
              "2309052  iV5B5c2Mnm9J3/MYJhjcvdCGMb54O+ZmYwxzLlkh4HY=  One Direction | Perfect | Harry Styles|Julian ..."
            ]
          },
          "metadata": {
            "tags": []
          },
          "execution_count": 139
        }
      ]
    },
    {
      "cell_type": "code",
      "metadata": {
        "id": "yuqg5yybPlQk"
      },
      "source": [
        "targeted_numpy = targeted.to_numpy()\n",
        "dictionary = [[str(x[1]) for x in targeted_numpy[targeted_numpy[:, 0] == user]] for user in targeted.msno.unique()]"
      ],
      "execution_count": 138,
      "outputs": []
    },
    {
      "cell_type": "code",
      "metadata": {
        "id": "GWSl7zfmO20N",
        "colab": {
          "base_uri": "https://localhost:8080/"
        },
        "outputId": "bdcd08bc-97cc-4f38-c63f-9e50c3c0fcc3"
      },
      "source": [
        "dictionary[200:250]"
      ],
      "execution_count": 176,
      "outputs": [
        {
          "output_type": "execute_result",
          "data": {
            "text/plain": [
              "[['張宇 (Phil Chang) | 月亮惹的禍 | 張宇 | 十一郎',\n",
              "  '周華健 (Emil Chau) | 風雨無阻 | Other | Other'],\n",
              " ['孫子涵 (Niko Sun) | 晃著晃著就老了 (Grow Old) | 孫子涵 | 孫子涵'],\n",
              " ['田馥甄 (Hebe) | PLAY 我呸 | 倪子岡 | 李格弟',\n",
              "  '五月天 (Mayday) | 知足 | Other | Other',\n",
              "  '李聖傑 (Sam Lee) | 光 | Other | Other',\n",
              "  '周杰倫 (Jay Chou) | 告白氣球 | 周杰倫 | 方文山'],\n",
              " ['Celine Dion | A New Day Has Come | Other | Other',\n",
              "  '施文彬 (Michael Shih) | 再會啦心愛的無緣的人 | Other | Other'],\n",
              " ['林俊傑 (JJ Lin) | 星球 | 林俊傑 | 張思爾',\n",
              "  'G.E.M.鄧紫棋 | 盲點 (Blindspot) | G.E.M. 鄧紫棋 | G.E.M. 鄧紫棋'],\n",
              " ['五月天 (Mayday) | 兄弟 (Brotherhood) | 阿信 | 阿信'],\n",
              " ['劉若英 (Rene Liu) | 幸福不是情歌【三立偶像劇[兩個爸爸]片尾曲】 | 木蘭號AKA陳韋伶 | 木蘭號AKA陳韋伶/黃婷',\n",
              "  'MP魔幻力量 (Magic Power) | 戰神 | MP魔幻力量 廷廷 | MP魔幻力量 廷廷',\n",
              "  'Various Artists | 新不了情 | 鮑比達 | 黃鬱',\n",
              "  '畢書盡 (Bii) | 我們在愛中漫步 | 陳彥允 | 陳彥允'],\n",
              " ['崔健 | 一無所有 | Other | Other',\n",
              "  'Daniel Ho | Pineapple Mango 早餐之歌-鳳梨芒果 | Other | Other',\n",
              "  'aMEI (張惠妹) | The Power Of Love | Gunther Mende Candy De Rouge Jennifer | Gunther Mende Candy De Rouge Jennifer',\n",
              "  '芝麻+龍眼 | 秋蟬 | 李子恆 | 李子恆',\n",
              "  '古箏佛讚 | 大雄寶殿 | 陳大偉 | Other',\n",
              "  'moumoon | Dreaming Driving | Other | Other',\n",
              "  '艾怡良 (Eve Ai) | Never Be the Same | Jessica Mauboy| Anthony Egizii| David Musumeci | Jessica Mauboy| Anthony Egizii| David Musumeci',\n",
              "  \"Meghan Trainor | Like I'm Gonna Lose You | Meghan Trainor| Justin Weaver| Caitlin Smith | Meghan Trainor| Justin Weaver| Caitlin Smith\",\n",
              "  'moumoon | Hello| shooting-star | K.MASAKI | YUKA',\n",
              "  'Jessie J | Price Tag | Jessica Cornish| Lukasz Gottwald| Claude Kelly| Bobby Ray Simmons| Jr. | Other',\n",
              "  '何真真 | 微笑的弧度(Silent love) | 何真真 | Other',\n",
              "  '林俊傑 (JJ Lin) | 小酒窩 | 林俊傑 | 王雅君',\n",
              "  'Richard Clayderman | Rondo Pour Un Tout Petit Enfant(活潑的輪旋曲) | Other | Other',\n",
              "  'Taylor Swift | We Are Never Ever Getting Back Together | Taylor Swift| Max Martin| Shellback | Other'],\n",
              " ['LMFAO | Shots | S.A. Gordy| Stefan Kendal Gordy| J. Smith| E. Delatorre | Other',\n",
              "  '周湯豪 (NICKTHEREAL) | Turn up | 周湯豪 | 周湯豪',\n",
              "  \"Imani Williams | Don't Need No Money | Imani Williams| Bruce Fielder| Patrizia Helander| Jacob Manson| Hampus Lindvall | Imani Williams| Bruce Fielder| Patrizia Helander| Jacob Manson| Hampus Lindvall\",\n",
              "  \"JME | Don't @ Me | Other | Other\",\n",
              "  'WINNER | SENTIMENTAL | TAE HYUN|UK JIN KANG | TAE HYUN|MINO|SEUNG HOON'],\n",
              " ['陳隨意 | 男人 | 石國人 | 石國人',\n",
              "  '劉文正 | 太陽一樣 (tai yang yi yang) | Jun Hong Cao | Other'],\n",
              " ['范逸臣 | 離開悲傷 | Other | Other', 'A-Lin | 給我一個理由忘記 | 游政豪 | 鄔裕康'],\n",
              " ['蕭敬騰 (Jam Hsiao) | 復制人 | Huang Yun Ren | Xiao Han',\n",
              "  'Usher | Moving Mountains | T. Harrell| T. Nash| C. Stewart | T. Harrell| T. Nash| C. Stewart',\n",
              "  'Akon | Sunny Day | Aliaune \"Akon\" Thiam| Nadir Khayat| N.W. Jean | Other',\n",
              "  \"Linkin Park | What I've Done (Album Version)(過去的我) | Other | Other\",\n",
              "  '謝和弦 (R-chord) | 你甘攏袂不甘 (Unwilling) | R-chord| shrimp | R-chord',\n",
              "  'Westlife | Swear It Again (Radio Edit) | Other | Other'],\n",
              " ['黃雅莉 (Yali Huang) | 再見面的時候 | 陳小霞 | 姚若龍',\n",
              "  '聽見幸福 電視劇原聲帶 | 愛不愛都寂寞 | 朱敬然 | 黃婷',\n",
              "  '謝和弦 (R-chord) | 擁抱失敗 (Embrace Failure) | Other | Other',\n",
              "  '張懸 (Deserts Xuan) | 藍天白雲 (Lan Tian Bai Yun) | Deserts | Deserts',\n",
              "  '李其燊 | 哭為你笑為你 | 李其燊 | 李其燊',\n",
              "  'Various Artists | 愛.接招 | 陳徐超 | 張蔚然',\n",
              "  '林志炫 (Terry Lin) | 愛情釀的酒 | Other | Other'],\n",
              " ['輕晨電 (Morning Call) | 法國片 (French Film) | 隋玲/小英/孟書 | 隋玲/小英/孟書',\n",
              "  \"孫盛希 (Shi Shi) | 是他不配 (He Isn't Worth It) | 孫盛希 / Skot Suyama 陶山 | 肆一\",\n",
              "  'toe | Tsuki Kake (feat. ACO) | toe | toe',\n",
              "  '黑錢幫 (G$MOB) | 舉起手 (Hands Up feat. Manchuker) | Chris Wiebe | 于耀智.楊文賓.王濬傑.滿人',\n",
              "  'Michael Giacchino | Try Everything | Mikkel Eriksen|Sia Furler|Tor Erik Hermansen | Other'],\n",
              " ['DJ Snake | Let Me Love You | Justin Bieber| William Grigahcine| Andrew Watt| Ali Tamposi| Louis Bell| austin roser| Lumidee Cedeno| Steven Marsden| Teddy Mendez| Edwin Perez| Brian Lee | Other',\n",
              "  'Eric 周興哲 | 你，好不好？ (How Have You Been?) | Eric Chou | Eric Chou| Yi-Wei Wu',\n",
              "  '光良 (Michael Wong) | 未完成的愛情 (The Unfinished Love) | 木村充利 | 黃婷',\n",
              "  'Avicii | Wake Me Up | Tim Bergling| EGBERT NATHANIEL DAWKINS III| Michael Aaron Einziger | Other'],\n",
              " ['周杰倫 (Jay Chou) | 可愛女人 | 周杰倫 | 徐若瑄',\n",
              "  'Pentatonix | Daft Punk | Thomas Bangalter|Guy-Manuel de Homem-Christo|T. Bangalter|Edwin Birdsong|G.M. De Homen-Christo|Anthony Moore|C. Sosa|G. Duke|Nile Rodgers|Pharrell Williams | Thomas Bangalter|Guy-Manuel de Homem-Christo|T. Bangalter|Edwin Birdsong|G.M. De Homen-Christo|Anthony Moore|C. Sosa|G. Duke|Nile Rodgers|Pharrell Williams',\n",
              "  '孫燕姿 (Yanzi Sun) | 相信 (Believe) | Hsiao Debbie | Wu April'],\n",
              " ['Redfoo | New Thang | Other | Other',\n",
              "  '唐漢霄 | 電影擺渡人主題曲：讓我留在你身邊~原唱作版 | 唐漢霄 | 唐漢霄',\n",
              "  'ONE OK ROCK | We Are | Other | Other',\n",
              "  '林宥嘉 (Yoga Lin) | 傻子 | 鄭楠 | 鄭楠 / 張鵬鵬',\n",
              "  'The Chainsmokers | All We Know | Andrew Taggart| Sara Hejellstrom| Nirob Islam | Andrew Taggart| Sara Hejellstrom| Nirob Islam',\n",
              "  'Justin Timberlake | CAN\\'T STOP THE FEELING! (Original Song from DreamWorks Animation\\'s \"TROLLS\") | Justin Timberlake| Max Martin| Shellback | Justin Timberlake| Max Martin| Shellback'],\n",
              " ['G.E.M.鄧紫棋 | 喜歡你 | 黃家駒 | 黃家駒', '動力火車 (Power Station) | 外套 | Other | Other'],\n",
              " ['楊丞琳 (Rainie Yang) | 掛失的青春 | Yu Heng | Other',\n",
              "  'Various Artists | Cake | Other | Other',\n",
              "  '蕭煌奇 (Ricky Hsiao) | 死心了沒有 (Not Over You) | 蕭煌奇 | 葛大為',\n",
              "  '梁文音 (Rachel Liang) | 我不是你想像那麼勇敢 | Wei Quan Chen | Other'],\n",
              " ['AKB48 | 365nichi no kamihikouki | Aoba hiroki| Kadono toshikazu | Akimoto yasushi',\n",
              "  '2PM | Hands Up (Japanese Ver.) | Other | Other',\n",
              "  'twenty one pilots | Heathens | Other | Other',\n",
              "  'Alan Walker | Spectre | Other | Other'],\n",
              " ['小人 | 安妮安妮醒一醒 | 小人 | 小人',\n",
              "  '陶喆 (David Tao) | 暗戀 | Other | Other',\n",
              "  'Adele | Someone Like You | Other | Other',\n",
              "  '田馥甄 (Hebe) | 葉子 | Other | Other',\n",
              "  '蕭煌奇 (Ricky Hsiao) | 過我的生活 | Hsiao Huang Chi | Lin Xi',\n",
              "  'Green Day | When I Come Around | Green Day | Billie Joe Armstrong',\n",
              "  '周杰倫 (Jay Chou) | 楓 | 周杰倫 | 宋健彰',\n",
              "  '許美靜 (Mavis Hee) | 鐵窗(UNPLUGGED) | Kah Beng Tan | Other',\n",
              "  '張宇 (Phil Chang) | 囚鳥 | Zhang Yu | Shi Yi lang',\n",
              "  '林俊傑 (JJ Lin) | 那些你很冒險的夢 | JJ Lin | Wang Ya Jun',\n",
              "  '薛之謙 | 醜八怪 | 李榮浩 | 甘世佳',\n",
              "  '任賢齊 (Richie Jen) | 對摺 | PAN | Chen Mei',\n",
              "  '陳建年 | 海洋 | 陳建年 | 陳建年',\n",
              "  '庾澄慶 (Harlem Yu) | 海嘯 | 湯小康 | 許常德'],\n",
              " ['周杰倫 (Jay Chou) | 時光機 | 周杰倫 | 方文山',\n",
              "  'Various Artists | 海洋之心 | Lin-Manuel Miranda | Other',\n",
              "  '五月天 (Mayday) | 私奔到月球 | 阿信 | 阿信',\n",
              "  '莊心妍 | 我過的很好 | 鄭建浩 | 鄭建浩',\n",
              "  'aMEI (張惠妹) | 記得 (Remember) | Lin Zun Jie | Kevin Yi Jia Yang',\n",
              "  'Florida Georgia Line | May We All | Rodney Clawson| Jamie Moore | Other',\n",
              "  '五月天 (Mayday) | 一千個世紀【五月天諾亞方舟世界巡迴演唱會LIVE版】 | 石頭 | 阿信',\n",
              "  'Old Dominion | Song for Another Time | Trevor Rosen|Matthew Ramsey|Brad Tursi|Matt Jenkins | Trevor Rosen|Matthew Ramsey|Brad Tursi|Matt Jenkins',\n",
              "  'Eric 周興哲 | 你，好不好？ (How Have You Been?) | Eric Chou | Eric Chou| Yi-Wei Wu',\n",
              "  'Masen Lea | Send My Love (To Your New Lover) [Radio Edit] | Other | Other',\n",
              "  '五月天 (Mayday) | 乾杯 | 阿信 | 阿信',\n",
              "  '孫子涵 (Niko Sun) | 總是那麼傻 (Hard To Forget You) | 蔣蔣 | 蔣蔣',\n",
              "  '小宇-宋念宇 | 唯一的唯一 | 宋念宇 | 黃文萱',\n",
              "  'Calvin Harris | My Way | Calvin Harris | Calvin Harris',\n",
              "  '五月天 (Mayday) | 擁抱 | 阿信 | 阿信',\n",
              "  'Alan Walker | Faded | Alan Walker| Jesper Borgen| Anders Froen| Gunnar Greve | Alan Walker| Jesper Borgen| Anders Froen| Gunnar Greve',\n",
              "  '周杰倫 (Jay Chou) | 超人不會飛 | 周杰倫 | 周杰倫',\n",
              "  '郭靜 (Claire Kuo) | 分開不是誰不好 (After the Love Has Gone) | 阿超 | 阿超',\n",
              "  'FS (Fuying & Sam) | 可不可以你也剛好喜歡我 | 劉永輝 | 肆一',\n",
              "  '周杰倫 (Jay Chou) | 瓦解 | 周杰倫 | 宋健彰'],\n",
              " ['林凡 (Freya Lim) | 愛已經受傷 | Adrian Fu | 李玟萱',\n",
              "  '陳小春 (Jordan Chan) | 0932 (0932) | Zhe Tao | Zhe Tao| Zi-Jie Cao| Zhong-Yong Zheng',\n",
              "  '徐若瑄 (Vivian Hsu) | 好眼淚壞眼淚 | 伍仲衡 | 嚴云農'],\n",
              " ['Massive Attack | The Spoils | Hope Sandoval| Stew Jackson| Grant Marshall | Other',\n",
              "  'G.E.M.鄧紫棋 | 再見 (Goodbye) | G.E.M. 鄧紫棋 | G.E.M. 鄧紫棋',\n",
              "  'Nicki Minaj | Starships | Onika Maraj| Nadir Khayat| Carl Anthony Falk| Rami Yacoub| Hector Wayne | Other',\n",
              "  'Flo Rida | GDFR (feat. Sage The Gemini & Lookas) | Other | Other',\n",
              "  '張智成 (Z-Chen Chang) | 你愛上的我 (The One You Fall For) | 方炯鑌 | 管啓源',\n",
              "  'MAJOR LAZER | Lean On (feat. MØ & DJ Snake) | C. Picard| F. Hall| I. Juber| M. Piccard| O. Riley| Thomas Pentz | Other',\n",
              "  'DJ Snake | Middle | William Grigahcine| Adio Marchant| A. Kleinstub | Other',\n",
              "  'Diddy - Dirty Money | Coming Home | Skylar Grey| Alexander Grant| Shawn Carter| Jermaine Cole | Other',\n",
              "  'G.E.M.鄧紫棋 | 多遠都要在一起 (Long Distance) | G.E.M. 鄧紫棋 | G.E.M. 鄧紫棋',\n",
              "  'aMEI (張惠妹) | 你好不好 | Lin Yi Xin | Hu Ru Hong',\n",
              "  '傅又宣 (Maggie Fu) | 愛.這件事情 | 陶山 | 方文山'],\n",
              " ['aMEI (張惠妹) | 姊妹2016 (Sisters2016) | 張雨生 | 張雨生',\n",
              "  'Ne-Yo | So Sick(受不了) | Other | Other',\n",
              "  'Fall Out Boy | The Phoenix | Other | Other',\n",
              "  '徐若瑄 (Vivian Hsu) | 愛笑的眼睛 | Other | Other',\n",
              "  '張敬軒 (Hins Cheung) | 吻得太逼真 | Vincent Chow@Sense | Other',\n",
              "  '謝和弦 (R-chord) | 每一個玩音樂的人 (feat. 玖壹壹、陳零九) (Music Is Our Dream) | R-chord | R-chord| Chun Feng| KEN G',\n",
              "  '陳零九 (Nine Chen) | 我曾親愛的 | 陳零九 | 陳零九',\n",
              "  'Diddy - Dirty Money | Coming Home | Skylar Grey| Alexander Grant| Shawn Carter| Jermaine Cole | Other',\n",
              "  'Various Artists | Unsteady | Noah Feldshuh| Casey Harris| Sam Harris| A. Grant| Adam Levin | Other'],\n",
              " ['Eric 周興哲 | This is love | Eric Chou | Eric Chou| Xue-Sheng Chen'],\n",
              " ['游鴻明+彭佳慧 | 舊夢 (Jiu Meng) | Zheng-Fan Li| Min Yao | Ji-Kang Peng| Die-Yi Chen| JING SHU',\n",
              "  '薛之謙 | 你還要我怎樣 | 薛之謙 | 薛之謙',\n",
              "  '玖壹壹 | 歪國人 | 春風|KEN G|洋蔥 | 洋蔥',\n",
              "  'Pussycat Dolls | Hush Hush | A Romdhane| J Larossi| I. Wroldsen | Other',\n",
              "  '游鴻明+彭佳慧 | 喜歡兩個人 (Xi Huan Liang Ge Ren) | Guo-Hua Chen | Ruo-Long Yao'],\n",
              " ['五月天 (Mayday) | 後來的我們 (Here| After| Us) | 怪獸 | 阿信'],\n",
              " ['Maroon 5 | Payphone | Adam Levine| Johan Karl Schuster| Benjamin Levin| Ammar Malik| Daniel Thomas Omelio| Cameron Thomaz | Other',\n",
              "  '蘇打綠 (Sodagreen) | 我好想你 (I Miss You So) | 吳青峰 | 吳青峰',\n",
              "  '動力火車 (Power Station) | 除了愛你還能愛誰 | Other | Other',\n",
              "  'Under Lover (地下情人) | 癡情玫瑰花 | 楊琳 | 玖壹壹 洪春風/蕭昱峋',\n",
              "  'DJ Snake & Lil Jon | Turn Down For What | Jonathan Smith|William Grigahcine|Martin Bresso | Jonathan Smith|William Grigahcine|Martin Bresso'],\n",
              " ['兄弟本色G.U.T.S. (姚中仁、張震嶽、頑童MJ116) | 迷途羔羊 | 張震嶽 Ayal Komod\\\\陳昱榕 E-SO\\\\周文傑 KENZY\\\\林睦淵 MUTA | 張震嶽 Ayal Komod\\\\陳昱榕 E-SO\\\\周文傑 KENZY\\\\林睦淵 MUTA',\n",
              "  '周杰倫 (Jay Chou) | 告白氣球 | 周杰倫 | 方文山',\n",
              "  'Usher | Crash | Usher Raymond| Lee Stashenko| Carlos St. John| Corey Latif Williams| Ryon Lovett | Usher Raymond| Lee Stashenko| Carlos St. John| Corey Latif Williams| Ryon Lovett',\n",
              "  \"Various Artists | I'm Still Standing | Elton John| Bernie Taupin | Other\",\n",
              "  '玖壹壹 | 歪國人 | 春風|KEN G|洋蔥 | 洋蔥',\n",
              "  'Maroon 5 | Maps | Ryan Tedder| Noel Zancanella| Adam Levine| Benjamin Levin| Ammar Malik | Other',\n",
              "  '郁可唯 (Yisa Yu) | 好朋友只是朋友 | 徐偉銘 | 黃婷',\n",
              "  'Wiz Khalifa | See You Again | Other | Other',\n",
              "  'The Chainsmokers | Closer | Andrew Taggart| Shaun Frank| Frederic Kennett| Ashley Frangipane| Isaac Slade| Joseph King | Andrew Taggart| Shaun Frank| Frederic Kennett| Ashley Frangipane| Isaac Slade| Joseph King',\n",
              "  '五月天 (Mayday) | 好好 (想把你寫成一首歌) (Song About You) | 阿信/冠佑 | 阿信',\n",
              "  '吳克群 (Kenji Wu) | 因為妳是女人 | 吳克羣 | 吳克羣/徐若瑄',\n",
              "  '小宇-宋念宇 | 沒有很會唱 | 宋念宇 | 黃文萱',\n",
              "  'Nelly | Just A Dream | Frank Romano| Cornell Haynes| Jr.| Richard Butler| James Scheffer| Davis Harris| Damon Sharpe | Other'],\n",
              " ['XIA | How Can I Love You | Ji Hoon | GAEMI | GAEMI',\n",
              "  \"丁噹 (Della) | 原來你都在 (You've Always Been Here) - 中天娛樂戲劇 [因為愛情有奇蹟] 片尾曲 | 黃建為 | 葛大為/陳沒\",\n",
              "  '林俊傑 (JJ Lin) | 曹操 | 林俊傑 | 林秋離',\n",
              "  'Various Artists | You Are My Everything - Gummy | GAEMI | Ji Hoon/Roco of Rocoberry',\n",
              "  '林俊傑 (JJ Lin) | 新地球 (Brave New World) | 林俊傑 | 林秋離',\n",
              "  '張震嶽 | 我家門前有大海 | 張震嶽 | 張震嶽',\n",
              "  '周杰倫 (Jay Chou) | 土耳其冰淇淋 | 周杰倫 | 周杰倫'],\n",
              " ['Zara Larsson | I Would Like | Zara Larsson| James Abrahart| Alexander Izquierdo| Marcus Lomax| Stefan Johnson| Jordan Johnson| Oliver Peterhof| Karen Chin| Anthony Kelly | Zara Larsson| James Abrahart| Alexander Izquierdo| Marcus Lomax| Stefan Johnson| Jordan Johnson| Oliver Peterhof| Karen Chin| Anthony Kelly',\n",
              "  'Ariana Grande | Break Free | Max Martin| Anton Zaslavski| Savan Kotecha | Other',\n",
              "  'Various Artists | See You Again | Other | Other',\n",
              "  '林芯儀 (Shennio Lin) | 道聽塗說 (Remembering you) | 朱國豪 | 李偉傑',\n",
              "  'Stevie Wonder | Someday At Christmas | Ron Miller| Bryan Wells|  | Other',\n",
              "  '張靚穎 (Jane Zhang) | 就這樣好了 | Yang Yang | Other',\n",
              "  'Otto Knows | Not Alone | Other | Other',\n",
              "  '楊凱琳 (Rosie) | 怎麼還不愛 (Why Not Love) | 艾怡良 | 黃祖蔭/余琛懋',\n",
              "  'Armin van Buuren| Garibay | I Need You (feat. Olaf Blackwood) | A. van Buuren| B. De Goeij| F. Garibay| O. Blackwood | Other',\n",
              "  'Emeli\\xa0Sande | Breathing Underwater | Emeli Sandé| Chris Loco | Other',\n",
              "  '郁可唯 (Yisa Yu) | 好朋友只是朋友 | 徐偉銘 | 黃婷',\n",
              "  '4MINUTE | Crazy | Jae-Woo Seo| Tae Ho Kim| Young Jin Son | Other',\n",
              "  '丁噹 (Della) | 親人 | 林邁可 | 陳沒',\n",
              "  'Sigala | Say You Do | Imani Williams| Bruce Fielder| Penny Foster| Daniel Stein| Jason Pebworth| George Astasio| Jon Shave | Imani Williams| Bruce Fielder| Penny Foster| Daniel Stein| Jason Pebworth| George Astasio| Jon Shave',\n",
              "  '林俊傑 (JJ Lin) | 第幾個100天 | 林俊傑 | 姚若龍',\n",
              "  '汪小敏 (Tracy Wang) | 六角菱鏡 (Diamond) | 鄭雨晴 | 于濟彬',\n",
              "  'Beyoncé | If I Were a Boy(如果我是男生) | Other | Other',\n",
              "  'Various Artists | True Colors | Thomas Kelly| William Steinberg | Thomas Kelly| William Steinberg'],\n",
              " ['王力宏 (Leehom Wang) | Forever Love | 王力宏 | 王力宏/十方/何啟宏/於景雯',\n",
              "  '頑童MJ116 | 偷客兄 | 頑童MJ116 | 頑童MJ116',\n",
              "  'The xx | Performance | Jamie Smith| Oliver Sim| Romy Madley Croft | Other',\n",
              "  '張智成 (Z-Chen Chang) | 出界 | Other | Other',\n",
              "  '2PM | Go Crazy | Other | Other',\n",
              "  '蘇打綠 (Sodagreen) | 你被寫在我的歌裡 | 吳青峰 | 吳青峰',\n",
              "  'Demi Lovato | Give Your Heart A Break | Josh Alexander| Billy Steinberg | Other',\n",
              "  'Shawn Mendes | Mercy | Shawn Mendes| Teddy Geiger| Danny Parker| Ilsey Juber | Other',\n",
              "  '李榮浩 | 模特 | 李榮浩 | 周耀輝'],\n",
              " ['t Yoonmirae | You Are My World | Renaud Eugene Lee| Han Jun | Other',\n",
              "  '五月天 (Mayday) | 派對動物 (Party Animal) | 阿信 | 阿信'],\n",
              " ['張洪量 (Chang Hung Liang) | 美麗花蝴蝶 | Other | Other',\n",
              "  '伍佰 & China Blue | 牽掛 | Other | Other',\n",
              "  '吳克群 (Kenji Wu) | 全部都給你 | 吳克羣 | 吳克羣',\n",
              "  '王傑 (Dave Wang) | 向太陽怒吼 | Chen| Chen Zhi Yuan| Zhi-Yen | Chen| Chen Le Rong| Lo-Zon',\n",
              "  '草蜢 (Grasshopper) | 愛過就可以 | Rui Serizawa/Seishirou Kusunose | Rui Serizawa/Seishirou Kusunose SA: 謝明訓',\n",
              "  '周杰倫 (Jay Chou) | 你怎麼連話都說不清楚 | 周杰倫 | 毛毛'],\n",
              " ['五月天 (Mayday) | 將軍令 | 阿信 | 阿信',\n",
              "  'Various Artists | For You | Rocoberry | Goo Ji An| Ji Hoon'],\n",
              " [\"Jason Mraz | I'm Yours | Jason Mraz | Jason Mraz\",\n",
              "  'Avril Lavigne | Wish You Were Here (希望你在身邊) | Other | Other',\n",
              "  'Sia | Unstoppable | Sia Furler | Sia Furler',\n",
              "  'Adele | Set Fire To The Rain | Other | Other',\n",
              "  '楊凱琳 (Rosie) | 怎麼還不愛 (Why Not Love) | 艾怡良 | 黃祖蔭/余琛懋'],\n",
              " ['謝和弦 (R-chord) | 每一個玩音樂的人 (feat. 玖壹壹、陳零九) (Music Is Our Dream) | R-chord | R-chord| Chun Feng| KEN G',\n",
              "  '張晉樵 (Raymond Zhang) | 愛‧有你 | 喬奇 | 喬奇',\n",
              "  '蘇打綠 (Sodagreen) | 頻率 | 史俊威 | 史俊威',\n",
              "  '林憶蓮 (Sandy Lam) | 傷痕 | Other | Other',\n",
              "  '玖壹壹 | 歪國人 | 春風|KEN G|洋蔥 | 洋蔥',\n",
              "  '元衛覺醒 (Awaking) | 夏天的風 | 衛斯理 | 衛斯理'],\n",
              " ['Idris Elba | Make It Bump | Other | Other',\n",
              "  'Redfoo | Juicy Wiggle | Brandon Garcia| Stefan Gordy | Other',\n",
              "  '許富凱 | 愛情敢會當參詳 | 林東松 | 林東松'],\n",
              " ['Britney Spears | ...Baby One More Time(愛的初告白) | Other | Other',\n",
              "  'AMIT | 血腥愛情故事 | Jonnic Lee Thompsett | Other'],\n",
              " ['五月天 (Mayday) | 派對動物 (Party Animal) | 阿信 | 阿信',\n",
              "  'Flo Rida | Low (feat T-Pain) | C. Harris| D. Siegel| Dan Balan| J. Scheffer| J. Smith| K.V. Washington| M. Humphrey| Makeba| T. Dillard| T. Pain | C. Harris| D. Siegel| Dan Balan| J. Scheffer| J. Smith| K.V. Washington| Makeba',\n",
              "  'Pitbull | Timber | Armando C. Perez|Lukasz Gottwald|Henry Walter|Jamie Sanderson|Breyan Stanley Isaac|Priscilla Hamilton|Kesha Sebert|Lee Oskar|Keri Oskar|Greg Errico | Armando C. Perez|Lukasz Gottwald|Henry Walter|Jamie Sanderson|Breyan Stanley Isaac|Priscilla Hamilton|Kesha Sebert|Lee Oskar|Keri Oskar|Greg Errico|Pebe Sebert',\n",
              "  'BIGBANG | WE LIKE 2 PARTY | TEDDY| KUSH| 서원진| G-DRAGON | TEDDY| KUSH| G-DRAGON| T.O.P'],\n",
              " ['陳小春 (Jordan Chan) | 我愛的人 | Other | Other',\n",
              "  '蕭敬騰 (Jam Hsiao) | 夢一場 | Other | Other',\n",
              "  'MP魔幻力量 (Magic Power) | 不按牌理出牌（偶像劇【醉後決定愛上你】片頭曲） | Other | Other',\n",
              "  '吳克群 (Kenji Wu) | 傻瓜 | 吳克群 | 吳克群',\n",
              "  '周杰倫 (Jay Chou) | 妳聽得到 | 周杰倫 | 曾郁婷',\n",
              "  '謝和弦 (R-chord) | 於是長大了以後 | 謝和弦 | 謝和弦'],\n",
              " ['Justin Timberlake | CAN\\'T STOP THE FEELING! (Original Song from DreamWorks Animation\\'s \"TROLLS\") | Justin Timberlake| Max Martin| Shellback | Justin Timberlake| Max Martin| Shellback',\n",
              "  '蕭敬騰 (Jam Hsiao) | 原諒我 | A Qin | A Qin| Chen Tian You| Wu Yi Wei',\n",
              "  '張韶涵 (Angela Chang) | 還記得嗎 | Johnny Chao | 吳易緯@植光土壤',\n",
              "  '徐佳瑩 (Lala Hsu) | 圓舞曲 | 徐佳瑩 | 徐佳瑩',\n",
              "  '董事長樂團 (The Chairman) | 愛我你會死 | 吳永吉 | 吳永吉',\n",
              "  'Various Artists | This Love - DAVICHI | Han Seung Taek/ROZ | Ji Hoon/GAEMI',\n",
              "  'Calvin Harris | This Is What You Came For | Calvin Harris| Taylor Swift | Calvin Harris| Taylor Swift'],\n",
              " ['張學友 (Jacky Cheung) | 我等到花兒也謝了 | Wai Song Lee | Other',\n",
              "  'Michael Jackson | Billie Jean | Other | Other',\n",
              "  '李克勤 (Hacken Lee) | 飛花 | Si Song Li | Other'],\n",
              " ['周杰倫 (Jay Chou) | 愛情廢柴 | 周杰倫 | 周杰倫',\n",
              "  '張芸京 (Jing Chang) | 偏愛 | Chen Wei | Ge Da Wei',\n",
              "  \"CHARLIE PUTH | We Don't Talk Anymore | Other | Other\",\n",
              "  'Olly Murs | Army Of Two | Wayne Hector; Darren Lewis; Olly Murs; Iyiola Babalola | Other'],\n",
              " ['戴愛玲 (Ailing Tai) | 一無所懼 (Yi Wu Suo Ju) | Skot Suyama | Yu-Kang Wu| Hui-Qun Li',\n",
              "  'Imagine Dragons | Demons (電影「跨越世紀的情書」預告曲、美國職棒大聯盟一週好球) | Other | Other'],\n",
              " ['Justin Bieber | What Do You Mean? | Justin Bieber| Jason Boyd| Mason Levy | Other',\n",
              "  '謝和弦 (R-chord) | 謝謝妳愛我 (Thanks For Your Love) | R-chord | R-chord',\n",
              "  'Sia | Chandelier | Sia Furler|Jesse Shatkin | Sia Furler|Jesse Shatkin'],\n",
              " ['兄弟本色G.U.T.S. (姚中仁、張震嶽、頑童MJ116) | FLY OUT | 姚中仁 MC HotDog 陳昱榕 Ｅ-SO 周文傑 KENZY 林睦淵 | 姚中仁 MC HotDog 陳昱榕 Ｅ-SO 周文傑 KENZY 林睦淵',\n",
              "  '周杰倫 (Jay Chou) | 愛情廢柴 | 周杰倫 | 周杰倫',\n",
              "  '八三夭 (The Last Day of Summer 831) | 不關你的事 (Not Your Business) | 八三夭 阿璞 | 八三夭 阿璞',\n",
              "  \"孫盛希 (Shi Shi) | 是他不配 (He Isn't Worth It) | 孫盛希 / Skot Suyama 陶山 | 肆一\",\n",
              "  'TWICE | TT | Rado | Other'],\n",
              " ['艾怡良 (Eve Ai) | 寂寞無害 (Harmless Loneliness) | Jun-Wei Zhang-Jian | Eve Ai| Jun-Wei Zhang-Jian',\n",
              "  \"MP魔幻力量 (Magic Power) | 我無法不愛你 (I Can't Stop Loving You) | MP 魔幻力量 廷廷 | MP 魔幻力量 廷廷\"],\n",
              " ['莊心妍 | 一萬個捨不得 | 祁隆 | 祁隆',\n",
              "  '何潤東 | 黑色翅膀 (BLACK WINGS) | 徹 | 徹',\n",
              "  \"Avril Lavigne | Here's To Never Growing Up | Jacob Kasher Hindlin|Dave Hodges|Chad Kroeger|艾薇兒|Martin Johnson | Jacob Kasher Hindlin|Dave Hodges|Chad Kroeger|艾薇兒|Martin Johnson\",\n",
              "  '梁文音 (Rachel Liang) | 分手後不要做朋友 | Wei-ling Chen | Other',\n",
              "  '任賢齊 (Richie Jen) | 朋友的酒 (Drinking Buddies) | Ji Mu Yu | Ji Mu Yu',\n",
              "  '陳小春 (Jordan Chan) | 獨家記憶 | Chang Ting Tao | Other']]"
            ]
          },
          "metadata": {
            "tags": []
          },
          "execution_count": 176
        }
      ]
    },
    {
      "cell_type": "code",
      "metadata": {
        "id": "TqWnTOqGFP3F",
        "colab": {
          "base_uri": "https://localhost:8080/"
        },
        "outputId": "1e0765ab-7c6e-4936-f18c-57a6d0737a96"
      },
      "source": [
        "model = Word2Vec(workers=multiprocessing.cpu_count())\n",
        "model.build_vocab(dictionary)\n",
        "model.train(dictionary, total_examples=model.corpus_count, epochs=100, report_delay=1)"
      ],
      "execution_count": 170,
      "outputs": [
        {
          "output_type": "execute_result",
          "data": {
            "text/plain": [
              "(2800223, 5067600)"
            ]
          },
          "metadata": {
            "tags": []
          },
          "execution_count": 170
        }
      ]
    },
    {
      "cell_type": "code",
      "metadata": {
        "id": "SKMwK2jENYr7"
      },
      "source": [
        "def get_similar(name):\n",
        "    for item in model.wv.most_similar(name)[:5]:\n",
        "        print(f'score {item[1]} for {item[0]}')"
      ],
      "execution_count": 171,
      "outputs": []
    },
    {
      "cell_type": "code",
      "metadata": {
        "colab": {
          "base_uri": "https://localhost:8080/"
        },
        "id": "lmDFSJzKM9LU",
        "outputId": "6c25f7eb-049c-41d6-e125-6e0b82bab48d"
      },
      "source": [
        "get_similar('OneRepublic | Counting Stars | Ryan Tedder | Other')"
      ],
      "execution_count": 158,
      "outputs": [
        {
          "output_type": "stream",
          "text": [
            "score 0.6837910413742065 for Hardwell | Area51 | Robbert van de Corput| Dallas Koehlke | Robbert van de Corput| Dallas Koehlke \n",
            "score 0.6765733957290649 for Armin van Buuren | Off The Hook | B. De Goeij| R. van de Corput| A. van Buuren | Other \n",
            "score 0.6645190715789795 for Nicki Minaj | The Boys | Jean Baptiste| Jonas Jeberg| Onika Maraj| Anjulie Persaud | Other \n",
            "score 0.6600489616394043 for twenty one pilots | The Judge | Other | Other \n",
            "score 0.6540428400039673 for Calvin Harris | Bounce (Radio Edit) | Calvin Harris | Calvin Harris \n"
          ],
          "name": "stdout"
        }
      ]
    },
    {
      "cell_type": "code",
      "metadata": {
        "colab": {
          "base_uri": "https://localhost:8080/"
        },
        "id": "_YkwiRJv94Z3",
        "outputId": "fa9b3884-e819-4529-f823-26e30b68225f"
      },
      "source": [
        "get_similar('Sia | Chandelier | Sia Furler|Jesse Shatkin | Sia Furler|Jesse Shatkin')"
      ],
      "execution_count": 177,
      "outputs": [
        {
          "output_type": "stream",
          "text": [
            "score 0.5410754680633545 for 林俊傑 (JJ Lin) | 我還想她 | 林俊傑 | 邢增華\n",
            "score 0.5080439448356628 for 周杰倫 (Jay Chou) | 美人魚 | 周杰倫 | 羅宇軒/黃婕熙\n",
            "score 0.497592568397522 for 八三夭 (The Last Day of Summer 831) | 熊麻吉 | 八三夭 阿璞 | 八三夭 阿璞\n",
            "score 0.4923212230205536 for Maroon 5 | Won't Go Home Without You | Adam Levine | Other\n",
            "score 0.4676564931869507 for 張震嶽 | 愛的初體驗 | 張震嶽 | 張震嶽\n"
          ],
          "name": "stdout"
        }
      ]
    },
    {
      "cell_type": "code",
      "metadata": {
        "colab": {
          "base_uri": "https://localhost:8080/"
        },
        "id": "60VQO8DCZ_Ec",
        "outputId": "e047e35e-0149-43d7-cb38-35e56580e038"
      },
      "source": [
        "get_similar('Taylor Swift | Fifteen | Taylor Swift | Other')"
      ],
      "execution_count": 147,
      "outputs": [
        {
          "output_type": "stream",
          "text": [
            "score 0.9245916604995728 for Red Hot Chili Peppers | Can't Stop | Anthony Kiedis| Chad Smith| Flea| John Frusciante | Other \n",
            "score 0.8892691135406494 for 旺福 (Wonfu) | 有星星的晚上 | 姚小民 | 姚小民 \n",
            "score 0.8615117073059082 for 李其燊 | 哭為你笑為你 | 李其燊 | 李其燊 \n",
            "score 0.8614200949668884 for 張懸 (Deserts Xuan) | 藍天白雲 (Lan Tian Bai Yun) | Deserts | Deserts \n",
            "score 0.8555311560630798 for BY2 | Don't Go Away | Miko+Yumi+馮時澤 |  Miko+Yumi+Mr. Mars+馮時澤 \n"
          ],
          "name": "stdout"
        }
      ]
    },
    {
      "cell_type": "code",
      "metadata": {
        "colab": {
          "base_uri": "https://localhost:8080/"
        },
        "id": "0SLi5ob-dlGD",
        "outputId": "a63ea914-9338-4327-b5c5-6d575eea44a2"
      },
      "source": [
        "get_similar('Alan Walker | Alone | Alan Walker| Jesper Borgen| Anders Froen| Gunnar Greve| Jonnali Parmenius | Alan Walker| Jesper Borgen| Anders Froen| Gunnar Greve| Jonnali Parmenius')"
      ],
      "execution_count": 149,
      "outputs": [
        {
          "output_type": "stream",
          "text": [
            "score 0.5239980816841125 for Rihanna | Loveeeeeee Song | Nayvadius Wilburn| Denisea \"Blue June\" Andrews| Robyn Fenty| George S. Jackson| Leshawn S. Rogers| Emmanuel Zaragoza | Other \n",
            "score 0.5213751792907715 for Era | Madona | Eric Lévi | Other \n",
            "score 0.5146851539611816 for Passenger | Beautiful Birds | Michael David Rosenberg | Michael David Rosenberg \n",
            "score 0.5073674321174622 for 張瑋 | 黑白 (Hei Bai) | Eric Chou | Rui-Ye \n",
            "score 0.5067639350891113 for 陳詩妤 | 心口的微光 | 徐偉銘 | 吳易緯 \n"
          ],
          "name": "stdout"
        }
      ]
    },
    {
      "cell_type": "markdown",
      "metadata": {
        "id": "jYQuovarwUZS"
      },
      "source": [
        "### Shap values"
      ]
    },
    {
      "cell_type": "code",
      "metadata": {
        "id": "ggRSQtfvzwtt"
      },
      "source": [
        "# !pip install shap"
      ],
      "execution_count": null,
      "outputs": []
    },
    {
      "cell_type": "code",
      "metadata": {
        "id": "321pkV0QwXEI"
      },
      "source": [
        "# from shap import TreeExplainer"
      ],
      "execution_count": null,
      "outputs": []
    },
    {
      "cell_type": "code",
      "metadata": {
        "id": "_Jn2VVL7wT-g"
      },
      "source": [
        "# shap_values = TreeExplainer(best_model).shap_values(X)\n",
        "# shap.summary_plot(shap_values, X, max_display=X.shape[1])"
      ],
      "execution_count": null,
      "outputs": []
    }
  ]
}