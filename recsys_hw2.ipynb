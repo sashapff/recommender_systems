{
  "nbformat": 4,
  "nbformat_minor": 0,
  "metadata": {
    "accelerator": "GPU",
    "colab": {
      "name": "recsys-hw2.ipynb",
      "provenance": [],
      "collapsed_sections": [
        "LR6QRdFMJ7UH",
        "oPBky5FLJ_vW",
        "rALFEMBqKtUV",
        "HIbJYDkBKxxX",
        "EKdhTefRMK_q",
        "8VOjl6VS1XL1",
        "l89ej15Bwn2N"
      ],
      "include_colab_link": true
    },
    "kernelspec": {
      "display_name": "Python 3",
      "name": "python3"
    },
    "language_info": {
      "name": "python"
    }
  },
  "cells": [
    {
      "cell_type": "markdown",
      "metadata": {
        "id": "view-in-github",
        "colab_type": "text"
      },
      "source": [
        "<a href=\"https://colab.research.google.com/github/sashapff/recommender_systems/blob/main/recsys_hw2.ipynb\" target=\"_parent\"><img src=\"https://colab.research.google.com/assets/colab-badge.svg\" alt=\"Open In Colab\"/></a>"
      ]
    },
    {
      "cell_type": "markdown",
      "metadata": {
        "id": "LR6QRdFMJ7UH"
      },
      "source": [
        "## Download data"
      ]
    },
    {
      "cell_type": "code",
      "metadata": {
        "colab": {
          "base_uri": "https://localhost:8080/"
        },
        "id": "XGDQ4KKn9Mzq",
        "outputId": "c09cbdd0-6a25-4448-aaea-25a4e188afce"
      },
      "source": [
        "!pip install kaggle"
      ],
      "execution_count": 1,
      "outputs": [
        {
          "output_type": "stream",
          "text": [
            "Requirement already satisfied: kaggle in /usr/local/lib/python3.7/dist-packages (1.5.12)\n",
            "Requirement already satisfied: python-dateutil in /usr/local/lib/python3.7/dist-packages (from kaggle) (2.8.1)\n",
            "Requirement already satisfied: requests in /usr/local/lib/python3.7/dist-packages (from kaggle) (2.23.0)\n",
            "Requirement already satisfied: python-slugify in /usr/local/lib/python3.7/dist-packages (from kaggle) (4.0.1)\n",
            "Requirement already satisfied: urllib3 in /usr/local/lib/python3.7/dist-packages (from kaggle) (1.24.3)\n",
            "Requirement already satisfied: certifi in /usr/local/lib/python3.7/dist-packages (from kaggle) (2020.12.5)\n",
            "Requirement already satisfied: six>=1.10 in /usr/local/lib/python3.7/dist-packages (from kaggle) (1.15.0)\n",
            "Requirement already satisfied: tqdm in /usr/local/lib/python3.7/dist-packages (from kaggle) (4.41.1)\n",
            "Requirement already satisfied: idna<3,>=2.5 in /usr/local/lib/python3.7/dist-packages (from requests->kaggle) (2.10)\n",
            "Requirement already satisfied: chardet<4,>=3.0.2 in /usr/local/lib/python3.7/dist-packages (from requests->kaggle) (3.0.4)\n",
            "Requirement already satisfied: text-unidecode>=1.3 in /usr/local/lib/python3.7/dist-packages (from python-slugify->kaggle) (1.3)\n"
          ],
          "name": "stdout"
        }
      ]
    },
    {
      "cell_type": "code",
      "metadata": {
        "id": "oHm3cY-PfsVs"
      },
      "source": [
        "# from google.colab import files\n",
        "# files.upload()"
      ],
      "execution_count": 2,
      "outputs": []
    },
    {
      "cell_type": "code",
      "metadata": {
        "id": "gjlwz97Xfp5G"
      },
      "source": [
        "!mkdir -p ~/.kaggle\n",
        "!cp kaggle.json ~/.kaggle/\n",
        "!chmod 600 ~/.kaggle/kaggle.json"
      ],
      "execution_count": 3,
      "outputs": []
    },
    {
      "cell_type": "code",
      "metadata": {
        "colab": {
          "base_uri": "https://localhost:8080/"
        },
        "id": "2ss0rehr8BUx",
        "outputId": "d6bbbcf2-1d08-48b1-d8bc-5e52c0d66882"
      },
      "source": [
        "!kaggle competitions download -c kkbox-music-recommendation-challenge"
      ],
      "execution_count": 4,
      "outputs": [
        {
          "output_type": "stream",
          "text": [
            "Warning: Looks like you're using an outdated API Version, please consider updating (server 1.5.12 / client 1.5.4)\n",
            "sample_submission.csv.7z: Skipping, found more recently modified local copy (use --force to force download)\n",
            "test.csv.7z: Skipping, found more recently modified local copy (use --force to force download)\n",
            "song_extra_info.csv.7z: Skipping, found more recently modified local copy (use --force to force download)\n",
            "songs.csv.7z: Skipping, found more recently modified local copy (use --force to force download)\n",
            "members.csv.7z: Skipping, found more recently modified local copy (use --force to force download)\n",
            "train.csv.7z: Skipping, found more recently modified local copy (use --force to force download)\n"
          ],
          "name": "stdout"
        }
      ]
    },
    {
      "cell_type": "code",
      "metadata": {
        "id": "VM1oW_Vt-xV1"
      },
      "source": [
        "# !7z e train.csv.7z\n",
        "# !7z e songs.csv.7z\n",
        "# !7z e song_extra_info.csv.7z\n",
        "# !7z e members.csv.7z"
      ],
      "execution_count": 5,
      "outputs": []
    },
    {
      "cell_type": "markdown",
      "metadata": {
        "id": "oPBky5FLJ_vW"
      },
      "source": [
        "## Preprocess data"
      ]
    },
    {
      "cell_type": "code",
      "metadata": {
        "id": "RmcOSd2p-NI_"
      },
      "source": [
        "import pandas as pd\n",
        "import numpy as np\n",
        "import seaborn as sns\n",
        "import matplotlib.pyplot as plt"
      ],
      "execution_count": 6,
      "outputs": []
    },
    {
      "cell_type": "markdown",
      "metadata": {
        "id": "rALFEMBqKtUV"
      },
      "source": [
        "### Download and preprocess train dataset"
      ]
    },
    {
      "cell_type": "code",
      "metadata": {
        "id": "1LjqTyLOAVL8"
      },
      "source": [
        "train_types = {'msno': 'category',\n",
        "               'song_id': 'category',\n",
        "               'source_system_tab': 'category',\n",
        "               'source_screen_name': 'category',\n",
        "               'source_type': 'category',\n",
        "               'target': np.uint8}"
      ],
      "execution_count": 7,
      "outputs": []
    },
    {
      "cell_type": "code",
      "metadata": {
        "id": "m4kwr7V28uxV"
      },
      "source": [
        "train = pd.read_csv('/content/train.csv', dtype=train_types)"
      ],
      "execution_count": 8,
      "outputs": []
    },
    {
      "cell_type": "code",
      "metadata": {
        "colab": {
          "base_uri": "https://localhost:8080/",
          "height": 0
        },
        "id": "5hmUm_cr-6ys",
        "outputId": "5e25137d-df90-4a88-de14-92b08346d11f"
      },
      "source": [
        "train.head()"
      ],
      "execution_count": 9,
      "outputs": [
        {
          "output_type": "execute_result",
          "data": {
            "text/html": [
              "<div>\n",
              "<style scoped>\n",
              "    .dataframe tbody tr th:only-of-type {\n",
              "        vertical-align: middle;\n",
              "    }\n",
              "\n",
              "    .dataframe tbody tr th {\n",
              "        vertical-align: top;\n",
              "    }\n",
              "\n",
              "    .dataframe thead th {\n",
              "        text-align: right;\n",
              "    }\n",
              "</style>\n",
              "<table border=\"1\" class=\"dataframe\">\n",
              "  <thead>\n",
              "    <tr style=\"text-align: right;\">\n",
              "      <th></th>\n",
              "      <th>msno</th>\n",
              "      <th>song_id</th>\n",
              "      <th>source_system_tab</th>\n",
              "      <th>source_screen_name</th>\n",
              "      <th>source_type</th>\n",
              "      <th>target</th>\n",
              "    </tr>\n",
              "  </thead>\n",
              "  <tbody>\n",
              "    <tr>\n",
              "      <th>0</th>\n",
              "      <td>FGtllVqz18RPiwJj/edr2gV78zirAiY/9SmYvia+kCg=</td>\n",
              "      <td>BBzumQNXUHKdEBOB7mAJuzok+IJA1c2Ryg/yzTF6tik=</td>\n",
              "      <td>explore</td>\n",
              "      <td>Explore</td>\n",
              "      <td>online-playlist</td>\n",
              "      <td>1</td>\n",
              "    </tr>\n",
              "    <tr>\n",
              "      <th>1</th>\n",
              "      <td>Xumu+NIjS6QYVxDS4/t3SawvJ7viT9hPKXmf0RtLNx8=</td>\n",
              "      <td>bhp/MpSNoqoxOIB+/l8WPqu6jldth4DIpCm3ayXnJqM=</td>\n",
              "      <td>my library</td>\n",
              "      <td>Local playlist more</td>\n",
              "      <td>local-playlist</td>\n",
              "      <td>1</td>\n",
              "    </tr>\n",
              "    <tr>\n",
              "      <th>2</th>\n",
              "      <td>Xumu+NIjS6QYVxDS4/t3SawvJ7viT9hPKXmf0RtLNx8=</td>\n",
              "      <td>JNWfrrC7zNN7BdMpsISKa4Mw+xVJYNnxXh3/Epw7QgY=</td>\n",
              "      <td>my library</td>\n",
              "      <td>Local playlist more</td>\n",
              "      <td>local-playlist</td>\n",
              "      <td>1</td>\n",
              "    </tr>\n",
              "    <tr>\n",
              "      <th>3</th>\n",
              "      <td>Xumu+NIjS6QYVxDS4/t3SawvJ7viT9hPKXmf0RtLNx8=</td>\n",
              "      <td>2A87tzfnJTSWqD7gIZHisolhe4DMdzkbd6LzO1KHjNs=</td>\n",
              "      <td>my library</td>\n",
              "      <td>Local playlist more</td>\n",
              "      <td>local-playlist</td>\n",
              "      <td>1</td>\n",
              "    </tr>\n",
              "    <tr>\n",
              "      <th>4</th>\n",
              "      <td>FGtllVqz18RPiwJj/edr2gV78zirAiY/9SmYvia+kCg=</td>\n",
              "      <td>3qm6XTZ6MOCU11x8FIVbAGH5l5uMkT3/ZalWG1oo2Gc=</td>\n",
              "      <td>explore</td>\n",
              "      <td>Explore</td>\n",
              "      <td>online-playlist</td>\n",
              "      <td>1</td>\n",
              "    </tr>\n",
              "  </tbody>\n",
              "</table>\n",
              "</div>"
            ],
            "text/plain": [
              "                                           msno  ... target\n",
              "0  FGtllVqz18RPiwJj/edr2gV78zirAiY/9SmYvia+kCg=  ...      1\n",
              "1  Xumu+NIjS6QYVxDS4/t3SawvJ7viT9hPKXmf0RtLNx8=  ...      1\n",
              "2  Xumu+NIjS6QYVxDS4/t3SawvJ7viT9hPKXmf0RtLNx8=  ...      1\n",
              "3  Xumu+NIjS6QYVxDS4/t3SawvJ7viT9hPKXmf0RtLNx8=  ...      1\n",
              "4  FGtllVqz18RPiwJj/edr2gV78zirAiY/9SmYvia+kCg=  ...      1\n",
              "\n",
              "[5 rows x 6 columns]"
            ]
          },
          "metadata": {
            "tags": []
          },
          "execution_count": 9
        }
      ]
    },
    {
      "cell_type": "code",
      "metadata": {
        "colab": {
          "base_uri": "https://localhost:8080/"
        },
        "id": "H6jJPMfJAP_N",
        "outputId": "7a823846-456d-4647-b3f9-70cbb38e737f"
      },
      "source": [
        "train.info(verbose=True, null_counts=True)"
      ],
      "execution_count": 10,
      "outputs": [
        {
          "output_type": "stream",
          "text": [
            "<class 'pandas.core.frame.DataFrame'>\n",
            "RangeIndex: 7377418 entries, 0 to 7377417\n",
            "Data columns (total 6 columns):\n",
            " #   Column              Non-Null Count    Dtype   \n",
            "---  ------              --------------    -----   \n",
            " 0   msno                7377418 non-null  category\n",
            " 1   song_id             7377418 non-null  category\n",
            " 2   source_system_tab   7352569 non-null  category\n",
            " 3   source_screen_name  6962614 non-null  category\n",
            " 4   source_type         7355879 non-null  category\n",
            " 5   target              7377418 non-null  uint8   \n",
            "dtypes: category(5), uint8(1)\n",
            "memory usage: 84.6 MB\n"
          ],
          "name": "stdout"
        }
      ]
    },
    {
      "cell_type": "markdown",
      "metadata": {
        "id": "EeEjllbFKZ7v"
      },
      "source": [
        "Features `source_system_tab`, `source_screen_name` and `source_type` have some NaNs, so drop rows with NaNs."
      ]
    },
    {
      "cell_type": "code",
      "metadata": {
        "colab": {
          "base_uri": "https://localhost:8080/"
        },
        "id": "O0g16rsmBUO-",
        "outputId": "08447aae-85de-438e-af28-78fcd17034e9"
      },
      "source": [
        "print('Train length before drop nans', train.shape)\n",
        "train = train.dropna()\n",
        "print('Train length after drop nans', train.shape)"
      ],
      "execution_count": 11,
      "outputs": [
        {
          "output_type": "stream",
          "text": [
            "Train length before drop nans (7377418, 6)\n",
            "Train length after drop nans (6959297, 6)\n"
          ],
          "name": "stdout"
        }
      ]
    },
    {
      "cell_type": "markdown",
      "metadata": {
        "id": "CKgYj4ArOjBG"
      },
      "source": [
        "The size of the dataset doesn't change significant."
      ]
    },
    {
      "cell_type": "markdown",
      "metadata": {
        "id": "HIbJYDkBKxxX"
      },
      "source": [
        "### Download and preprocess songs dataset"
      ]
    },
    {
      "cell_type": "code",
      "metadata": {
        "id": "ttexP5ofEQeK"
      },
      "source": [
        "songs_types = {'song_id': 'category',\n",
        "               'song_length': np.uint64,\n",
        "               'artist_name': 'category',\n",
        "               'language': np.float64}"
      ],
      "execution_count": 12,
      "outputs": []
    },
    {
      "cell_type": "code",
      "metadata": {
        "id": "nG0nu6VnEq7r"
      },
      "source": [
        "songs = pd.read_csv('/content/songs.csv', dtype=songs_types)"
      ],
      "execution_count": 13,
      "outputs": []
    },
    {
      "cell_type": "code",
      "metadata": {
        "colab": {
          "base_uri": "https://localhost:8080/",
          "height": 0
        },
        "id": "eqtO2JhlFiLG",
        "outputId": "7bac5a25-a8d9-4082-98a0-be61acdad329"
      },
      "source": [
        "songs.head()"
      ],
      "execution_count": 14,
      "outputs": [
        {
          "output_type": "execute_result",
          "data": {
            "text/html": [
              "<div>\n",
              "<style scoped>\n",
              "    .dataframe tbody tr th:only-of-type {\n",
              "        vertical-align: middle;\n",
              "    }\n",
              "\n",
              "    .dataframe tbody tr th {\n",
              "        vertical-align: top;\n",
              "    }\n",
              "\n",
              "    .dataframe thead th {\n",
              "        text-align: right;\n",
              "    }\n",
              "</style>\n",
              "<table border=\"1\" class=\"dataframe\">\n",
              "  <thead>\n",
              "    <tr style=\"text-align: right;\">\n",
              "      <th></th>\n",
              "      <th>song_id</th>\n",
              "      <th>song_length</th>\n",
              "      <th>genre_ids</th>\n",
              "      <th>artist_name</th>\n",
              "      <th>composer</th>\n",
              "      <th>lyricist</th>\n",
              "      <th>language</th>\n",
              "    </tr>\n",
              "  </thead>\n",
              "  <tbody>\n",
              "    <tr>\n",
              "      <th>0</th>\n",
              "      <td>CXoTN1eb7AI+DntdU1vbcwGRV4SCIDxZu+YD8JP8r4E=</td>\n",
              "      <td>247640</td>\n",
              "      <td>465</td>\n",
              "      <td>張信哲 (Jeff Chang)</td>\n",
              "      <td>董貞</td>\n",
              "      <td>何啟弘</td>\n",
              "      <td>3.0</td>\n",
              "    </tr>\n",
              "    <tr>\n",
              "      <th>1</th>\n",
              "      <td>o0kFgae9QtnYgRkVPqLJwa05zIhRlUjfF7O1tDw0ZDU=</td>\n",
              "      <td>197328</td>\n",
              "      <td>444</td>\n",
              "      <td>BLACKPINK</td>\n",
              "      <td>TEDDY|  FUTURE BOUNCE|  Bekuh BOOM</td>\n",
              "      <td>TEDDY</td>\n",
              "      <td>31.0</td>\n",
              "    </tr>\n",
              "    <tr>\n",
              "      <th>2</th>\n",
              "      <td>DwVvVurfpuz+XPuFvucclVQEyPqcpUkHR0ne1RQzPs0=</td>\n",
              "      <td>231781</td>\n",
              "      <td>465</td>\n",
              "      <td>SUPER JUNIOR</td>\n",
              "      <td>NaN</td>\n",
              "      <td>NaN</td>\n",
              "      <td>31.0</td>\n",
              "    </tr>\n",
              "    <tr>\n",
              "      <th>3</th>\n",
              "      <td>dKMBWoZyScdxSkihKG+Vf47nc18N9q4m58+b4e7dSSE=</td>\n",
              "      <td>273554</td>\n",
              "      <td>465</td>\n",
              "      <td>S.H.E</td>\n",
              "      <td>湯小康</td>\n",
              "      <td>徐世珍</td>\n",
              "      <td>3.0</td>\n",
              "    </tr>\n",
              "    <tr>\n",
              "      <th>4</th>\n",
              "      <td>W3bqWd3T+VeHFzHAUfARgW9AvVRaF4N5Yzm4Mr6Eo/o=</td>\n",
              "      <td>140329</td>\n",
              "      <td>726</td>\n",
              "      <td>貴族精選</td>\n",
              "      <td>Traditional</td>\n",
              "      <td>Traditional</td>\n",
              "      <td>52.0</td>\n",
              "    </tr>\n",
              "  </tbody>\n",
              "</table>\n",
              "</div>"
            ],
            "text/plain": [
              "                                        song_id  ...  language\n",
              "0  CXoTN1eb7AI+DntdU1vbcwGRV4SCIDxZu+YD8JP8r4E=  ...       3.0\n",
              "1  o0kFgae9QtnYgRkVPqLJwa05zIhRlUjfF7O1tDw0ZDU=  ...      31.0\n",
              "2  DwVvVurfpuz+XPuFvucclVQEyPqcpUkHR0ne1RQzPs0=  ...      31.0\n",
              "3  dKMBWoZyScdxSkihKG+Vf47nc18N9q4m58+b4e7dSSE=  ...       3.0\n",
              "4  W3bqWd3T+VeHFzHAUfARgW9AvVRaF4N5Yzm4Mr6Eo/o=  ...      52.0\n",
              "\n",
              "[5 rows x 7 columns]"
            ]
          },
          "metadata": {
            "tags": []
          },
          "execution_count": 14
        }
      ]
    },
    {
      "cell_type": "code",
      "metadata": {
        "colab": {
          "base_uri": "https://localhost:8080/"
        },
        "id": "oPTjCC98Hr2S",
        "outputId": "621bc67b-18a2-4b0a-b9cc-f256cb8ba9c3"
      },
      "source": [
        "songs.info(verbose=True, null_counts=True)"
      ],
      "execution_count": 15,
      "outputs": [
        {
          "output_type": "stream",
          "text": [
            "<class 'pandas.core.frame.DataFrame'>\n",
            "RangeIndex: 2296320 entries, 0 to 2296319\n",
            "Data columns (total 7 columns):\n",
            " #   Column       Non-Null Count    Dtype   \n",
            "---  ------       --------------    -----   \n",
            " 0   song_id      2296320 non-null  category\n",
            " 1   song_length  2296320 non-null  uint64  \n",
            " 2   genre_ids    2202204 non-null  object  \n",
            " 3   artist_name  2296320 non-null  category\n",
            " 4   composer     1224966 non-null  object  \n",
            " 5   lyricist     351052 non-null   object  \n",
            " 6   language     2296319 non-null  float64 \n",
            "dtypes: category(2), float64(1), object(3), uint64(1)\n",
            "memory usage: 214.3+ MB\n"
          ],
          "name": "stdout"
        }
      ]
    },
    {
      "cell_type": "markdown",
      "metadata": {
        "id": "erRsHU9lK_YX"
      },
      "source": [
        "Features `composer` and `lyricist` have a lot Nans, so we can drop these columns at all. Features `genre_ids` and `language` has some NaNs, but we won't drop rows with NaNs and fill NaNs with the default value."
      ]
    },
    {
      "cell_type": "code",
      "metadata": {
        "id": "WLegsqGdLazS"
      },
      "source": [
        "songs['lyricist'] = songs['lyricist'].fillna('Other')\n",
        "songs['composer'] = songs['composer'].fillna('Other')"
      ],
      "execution_count": 16,
      "outputs": []
    },
    {
      "cell_type": "markdown",
      "metadata": {
        "id": "YWGji-rZO-Ha"
      },
      "source": [
        "Look at unique values and the histogram of `language` feature."
      ]
    },
    {
      "cell_type": "code",
      "metadata": {
        "colab": {
          "base_uri": "https://localhost:8080/",
          "height": 0
        },
        "id": "kCcemVW-POZi",
        "outputId": "3ff5a851-a959-4304-b4dd-8a1797e6b7e3"
      },
      "source": [
        "plt.hist(songs['language'])"
      ],
      "execution_count": 17,
      "outputs": [
        {
          "output_type": "execute_result",
          "data": {
            "text/plain": [
              "(array([ 745762.,   15482.,       0.,   92518.,   41744.,   39201.,\n",
              "           2385.,   14435., 1336694.,    8098.]),\n",
              " array([-1.,  5., 11., 17., 23., 29., 35., 41., 47., 53., 59.]),\n",
              " <a list of 10 Patch objects>)"
            ]
          },
          "metadata": {
            "tags": []
          },
          "execution_count": 17
        },
        {
          "output_type": "display_data",
          "data": {
            "image/png": "[encoded data removed]",
            "text/plain": [
              "<Figure size 432x288 with 1 Axes>"
            ]
          },
          "metadata": {
            "tags": [],
            "needs_background": "light"
          }
        }
      ]
    },
    {
      "cell_type": "markdown",
      "metadata": {
        "id": "ysDcTI2WPKc_"
      },
      "source": [
        "I think we can change NaN to the most popular `language` (value 53)."
      ]
    },
    {
      "cell_type": "code",
      "metadata": {
        "id": "a2xsL8ZtP0D0"
      },
      "source": [
        "songs['language'] = songs['language'].fillna(53)"
      ],
      "execution_count": 18,
      "outputs": []
    },
    {
      "cell_type": "markdown",
      "metadata": {
        "id": "8PGTRJH-N1l_"
      },
      "source": [
        "Then I will change NaN in the `genre_ids` feature to the new genre with is 239239 value."
      ]
    },
    {
      "cell_type": "code",
      "metadata": {
        "id": "-TDlbZB6SaVZ"
      },
      "source": [
        "songs['genre_ids'] = songs['genre_ids'].fillna('239239')"
      ],
      "execution_count": 19,
      "outputs": []
    },
    {
      "cell_type": "code",
      "metadata": {
        "colab": {
          "base_uri": "https://localhost:8080/"
        },
        "id": "XvAuCtm7P7Ch",
        "outputId": "63002ccb-60f1-4830-f7bc-ec2b6fca55cb"
      },
      "source": [
        "songs.info(verbose=True, null_counts=True)"
      ],
      "execution_count": 20,
      "outputs": [
        {
          "output_type": "stream",
          "text": [
            "<class 'pandas.core.frame.DataFrame'>\n",
            "RangeIndex: 2296320 entries, 0 to 2296319\n",
            "Data columns (total 7 columns):\n",
            " #   Column       Non-Null Count    Dtype   \n",
            "---  ------       --------------    -----   \n",
            " 0   song_id      2296320 non-null  category\n",
            " 1   song_length  2296320 non-null  uint64  \n",
            " 2   genre_ids    2296320 non-null  object  \n",
            " 3   artist_name  2296320 non-null  category\n",
            " 4   composer     2296320 non-null  object  \n",
            " 5   lyricist     2296320 non-null  object  \n",
            " 6   language     2296320 non-null  float64 \n",
            "dtypes: category(2), float64(1), object(3), uint64(1)\n",
            "memory usage: 214.3+ MB\n"
          ],
          "name": "stdout"
        }
      ]
    },
    {
      "cell_type": "markdown",
      "metadata": {
        "id": "EKdhTefRMK_q"
      },
      "source": [
        "### Download and preprocess members dataset"
      ]
    },
    {
      "cell_type": "code",
      "metadata": {
        "id": "3m-njhhcFADu"
      },
      "source": [
        "members_types = {'msno': 'category',\n",
        "                 'city': np.uint64,\n",
        "                 'bd': np.uint64,\n",
        "                 'registered_via': np.uint64}"
      ],
      "execution_count": 21,
      "outputs": []
    },
    {
      "cell_type": "code",
      "metadata": {
        "id": "cX6j3dnKH6wE"
      },
      "source": [
        "members = pd.read_csv('/content/members.csv', dtype=members_types, parse_dates=['registration_init_time', 'expiration_date'])"
      ],
      "execution_count": 22,
      "outputs": []
    },
    {
      "cell_type": "code",
      "metadata": {
        "colab": {
          "base_uri": "https://localhost:8080/",
          "height": 0
        },
        "id": "qx06nETgH_29",
        "outputId": "a2d206fa-88ed-45d4-f7a5-9566f5a1baf5"
      },
      "source": [
        "members.head()"
      ],
      "execution_count": 23,
      "outputs": [
        {
          "output_type": "execute_result",
          "data": {
            "text/html": [
              "<div>\n",
              "<style scoped>\n",
              "    .dataframe tbody tr th:only-of-type {\n",
              "        vertical-align: middle;\n",
              "    }\n",
              "\n",
              "    .dataframe tbody tr th {\n",
              "        vertical-align: top;\n",
              "    }\n",
              "\n",
              "    .dataframe thead th {\n",
              "        text-align: right;\n",
              "    }\n",
              "</style>\n",
              "<table border=\"1\" class=\"dataframe\">\n",
              "  <thead>\n",
              "    <tr style=\"text-align: right;\">\n",
              "      <th></th>\n",
              "      <th>msno</th>\n",
              "      <th>city</th>\n",
              "      <th>bd</th>\n",
              "      <th>gender</th>\n",
              "      <th>registered_via</th>\n",
              "      <th>registration_init_time</th>\n",
              "      <th>expiration_date</th>\n",
              "    </tr>\n",
              "  </thead>\n",
              "  <tbody>\n",
              "    <tr>\n",
              "      <th>0</th>\n",
              "      <td>XQxgAYj3klVKjR3oxPPXYYFp4soD4TuBghkhMTD4oTw=</td>\n",
              "      <td>1</td>\n",
              "      <td>0</td>\n",
              "      <td>NaN</td>\n",
              "      <td>7</td>\n",
              "      <td>2011-08-20</td>\n",
              "      <td>2017-09-20</td>\n",
              "    </tr>\n",
              "    <tr>\n",
              "      <th>1</th>\n",
              "      <td>UizsfmJb9mV54qE9hCYyU07Va97c0lCRLEQX3ae+ztM=</td>\n",
              "      <td>1</td>\n",
              "      <td>0</td>\n",
              "      <td>NaN</td>\n",
              "      <td>7</td>\n",
              "      <td>2015-06-28</td>\n",
              "      <td>2017-06-22</td>\n",
              "    </tr>\n",
              "    <tr>\n",
              "      <th>2</th>\n",
              "      <td>D8nEhsIOBSoE6VthTaqDX8U6lqjJ7dLdr72mOyLya2A=</td>\n",
              "      <td>1</td>\n",
              "      <td>0</td>\n",
              "      <td>NaN</td>\n",
              "      <td>4</td>\n",
              "      <td>2016-04-11</td>\n",
              "      <td>2017-07-12</td>\n",
              "    </tr>\n",
              "    <tr>\n",
              "      <th>3</th>\n",
              "      <td>mCuD+tZ1hERA/o5GPqk38e041J8ZsBaLcu7nGoIIvhI=</td>\n",
              "      <td>1</td>\n",
              "      <td>0</td>\n",
              "      <td>NaN</td>\n",
              "      <td>9</td>\n",
              "      <td>2015-09-06</td>\n",
              "      <td>2015-09-07</td>\n",
              "    </tr>\n",
              "    <tr>\n",
              "      <th>4</th>\n",
              "      <td>q4HRBfVSssAFS9iRfxWrohxuk9kCYMKjHOEagUMV6rQ=</td>\n",
              "      <td>1</td>\n",
              "      <td>0</td>\n",
              "      <td>NaN</td>\n",
              "      <td>4</td>\n",
              "      <td>2017-01-26</td>\n",
              "      <td>2017-06-13</td>\n",
              "    </tr>\n",
              "  </tbody>\n",
              "</table>\n",
              "</div>"
            ],
            "text/plain": [
              "                                           msno  ...  expiration_date\n",
              "0  XQxgAYj3klVKjR3oxPPXYYFp4soD4TuBghkhMTD4oTw=  ...       2017-09-20\n",
              "1  UizsfmJb9mV54qE9hCYyU07Va97c0lCRLEQX3ae+ztM=  ...       2017-06-22\n",
              "2  D8nEhsIOBSoE6VthTaqDX8U6lqjJ7dLdr72mOyLya2A=  ...       2017-07-12\n",
              "3  mCuD+tZ1hERA/o5GPqk38e041J8ZsBaLcu7nGoIIvhI=  ...       2015-09-07\n",
              "4  q4HRBfVSssAFS9iRfxWrohxuk9kCYMKjHOEagUMV6rQ=  ...       2017-06-13\n",
              "\n",
              "[5 rows x 7 columns]"
            ]
          },
          "metadata": {
            "tags": []
          },
          "execution_count": 23
        }
      ]
    },
    {
      "cell_type": "code",
      "metadata": {
        "colab": {
          "base_uri": "https://localhost:8080/"
        },
        "id": "lubni2OHISF9",
        "outputId": "0fb22745-b232-466c-855c-2fd2760f5363"
      },
      "source": [
        "members.info(verbose=True, null_counts=True)"
      ],
      "execution_count": 24,
      "outputs": [
        {
          "output_type": "stream",
          "text": [
            "<class 'pandas.core.frame.DataFrame'>\n",
            "RangeIndex: 34403 entries, 0 to 34402\n",
            "Data columns (total 7 columns):\n",
            " #   Column                  Non-Null Count  Dtype         \n",
            "---  ------                  --------------  -----         \n",
            " 0   msno                    34403 non-null  category      \n",
            " 1   city                    34403 non-null  uint64        \n",
            " 2   bd                      34403 non-null  uint64        \n",
            " 3   gender                  14501 non-null  object        \n",
            " 4   registered_via          34403 non-null  uint64        \n",
            " 5   registration_init_time  34403 non-null  datetime64[ns]\n",
            " 6   expiration_date         34403 non-null  datetime64[ns]\n",
            "dtypes: category(1), datetime64[ns](2), object(1), uint64(3)\n",
            "memory usage: 3.2+ MB\n"
          ],
          "name": "stdout"
        }
      ]
    },
    {
      "cell_type": "markdown",
      "metadata": {
        "id": "IQ5mX6EbMdh5"
      },
      "source": [
        "Features `gender` have a lot Nans, so drop fill NaNs with new category `other`."
      ]
    },
    {
      "cell_type": "code",
      "metadata": {
        "id": "eS8UMfQ4Mj7Q"
      },
      "source": [
        "members['gender'] = members['gender'].fillna('other')"
      ],
      "execution_count": 25,
      "outputs": []
    },
    {
      "cell_type": "code",
      "metadata": {
        "colab": {
          "base_uri": "https://localhost:8080/"
        },
        "id": "qDjH0CBlUfJG",
        "outputId": "4577eb0e-7842-4456-a368-ba43f5df3f45"
      },
      "source": [
        "members.info(verbose=True, null_counts=True)"
      ],
      "execution_count": 26,
      "outputs": [
        {
          "output_type": "stream",
          "text": [
            "<class 'pandas.core.frame.DataFrame'>\n",
            "RangeIndex: 34403 entries, 0 to 34402\n",
            "Data columns (total 7 columns):\n",
            " #   Column                  Non-Null Count  Dtype         \n",
            "---  ------                  --------------  -----         \n",
            " 0   msno                    34403 non-null  category      \n",
            " 1   city                    34403 non-null  uint64        \n",
            " 2   bd                      34403 non-null  uint64        \n",
            " 3   gender                  34403 non-null  object        \n",
            " 4   registered_via          34403 non-null  uint64        \n",
            " 5   registration_init_time  34403 non-null  datetime64[ns]\n",
            " 6   expiration_date         34403 non-null  datetime64[ns]\n",
            "dtypes: category(1), datetime64[ns](2), object(1), uint64(3)\n",
            "memory usage: 3.2+ MB\n"
          ],
          "name": "stdout"
        }
      ]
    },
    {
      "cell_type": "markdown",
      "metadata": {
        "id": "8VOjl6VS1XL1"
      },
      "source": [
        "### Download and preprocess songs extra info dataset"
      ]
    },
    {
      "cell_type": "code",
      "metadata": {
        "id": "KOIs2xQW1dAj"
      },
      "source": [
        "songs_extra = pd.read_csv('/content/song_extra_info.csv')"
      ],
      "execution_count": 27,
      "outputs": []
    },
    {
      "cell_type": "code",
      "metadata": {
        "colab": {
          "base_uri": "https://localhost:8080/",
          "height": 0
        },
        "id": "C1HDHfE_2bYU",
        "outputId": "e16f8422-60ee-4aa9-fc6b-32bc41004b33"
      },
      "source": [
        "songs_extra.head()"
      ],
      "execution_count": 28,
      "outputs": [
        {
          "output_type": "execute_result",
          "data": {
            "text/html": [
              "<div>\n",
              "<style scoped>\n",
              "    .dataframe tbody tr th:only-of-type {\n",
              "        vertical-align: middle;\n",
              "    }\n",
              "\n",
              "    .dataframe tbody tr th {\n",
              "        vertical-align: top;\n",
              "    }\n",
              "\n",
              "    .dataframe thead th {\n",
              "        text-align: right;\n",
              "    }\n",
              "</style>\n",
              "<table border=\"1\" class=\"dataframe\">\n",
              "  <thead>\n",
              "    <tr style=\"text-align: right;\">\n",
              "      <th></th>\n",
              "      <th>song_id</th>\n",
              "      <th>name</th>\n",
              "      <th>isrc</th>\n",
              "    </tr>\n",
              "  </thead>\n",
              "  <tbody>\n",
              "    <tr>\n",
              "      <th>0</th>\n",
              "      <td>LP7pLJoJFBvyuUwvu+oLzjT+bI+UeBPURCecJsX1jjs=</td>\n",
              "      <td>我們</td>\n",
              "      <td>TWUM71200043</td>\n",
              "    </tr>\n",
              "    <tr>\n",
              "      <th>1</th>\n",
              "      <td>ClazTFnk6r0Bnuie44bocdNMM3rdlrq0bCGAsGUWcHE=</td>\n",
              "      <td>Let Me Love You</td>\n",
              "      <td>QMZSY1600015</td>\n",
              "    </tr>\n",
              "    <tr>\n",
              "      <th>2</th>\n",
              "      <td>u2ja/bZE3zhCGxvbbOB3zOoUjx27u40cf5g09UXMoKQ=</td>\n",
              "      <td>原諒我</td>\n",
              "      <td>TWA530887303</td>\n",
              "    </tr>\n",
              "    <tr>\n",
              "      <th>3</th>\n",
              "      <td>92Fqsy0+p6+RHe2EoLKjHahORHR1Kq1TBJoClW9v+Ts=</td>\n",
              "      <td>Classic</td>\n",
              "      <td>USSM11301446</td>\n",
              "    </tr>\n",
              "    <tr>\n",
              "      <th>4</th>\n",
              "      <td>0QFmz/+rJy1Q56C1DuYqT9hKKqi5TUqx0sN0IwvoHrw=</td>\n",
              "      <td>愛投羅網</td>\n",
              "      <td>TWA471306001</td>\n",
              "    </tr>\n",
              "  </tbody>\n",
              "</table>\n",
              "</div>"
            ],
            "text/plain": [
              "                                        song_id             name          isrc\n",
              "0  LP7pLJoJFBvyuUwvu+oLzjT+bI+UeBPURCecJsX1jjs=               我們  TWUM71200043\n",
              "1  ClazTFnk6r0Bnuie44bocdNMM3rdlrq0bCGAsGUWcHE=  Let Me Love You  QMZSY1600015\n",
              "2  u2ja/bZE3zhCGxvbbOB3zOoUjx27u40cf5g09UXMoKQ=              原諒我  TWA530887303\n",
              "3  92Fqsy0+p6+RHe2EoLKjHahORHR1Kq1TBJoClW9v+Ts=          Classic  USSM11301446\n",
              "4  0QFmz/+rJy1Q56C1DuYqT9hKKqi5TUqx0sN0IwvoHrw=             愛投羅網  TWA471306001"
            ]
          },
          "metadata": {
            "tags": []
          },
          "execution_count": 28
        }
      ]
    },
    {
      "cell_type": "code",
      "metadata": {
        "colab": {
          "base_uri": "https://localhost:8080/"
        },
        "id": "HPFB_Mjp2mWP",
        "outputId": "3a3b56c8-d00c-48d0-a389-6d688ff87f3f"
      },
      "source": [
        "songs_extra.info(verbose=True, null_counts=True)"
      ],
      "execution_count": 29,
      "outputs": [
        {
          "output_type": "stream",
          "text": [
            "<class 'pandas.core.frame.DataFrame'>\n",
            "RangeIndex: 2295971 entries, 0 to 2295970\n",
            "Data columns (total 3 columns):\n",
            " #   Column   Non-Null Count    Dtype \n",
            "---  ------   --------------    ----- \n",
            " 0   song_id  2295971 non-null  object\n",
            " 1   name     2295969 non-null  object\n",
            " 2   isrc     2159423 non-null  object\n",
            "dtypes: object(3)\n",
            "memory usage: 52.6+ MB\n"
          ],
          "name": "stdout"
        }
      ]
    },
    {
      "cell_type": "code",
      "metadata": {
        "id": "0wtg1C2n26tT"
      },
      "source": [
        "# Fill NaNs\n",
        "songs_extra['name'] = songs_extra['name'].fillna('!!!!!!!!!!!!!!!!!!')\n",
        "songs_extra['isrc'] = songs_extra['isrc'].fillna('OTHER')"
      ],
      "execution_count": 30,
      "outputs": []
    },
    {
      "cell_type": "code",
      "metadata": {
        "colab": {
          "base_uri": "https://localhost:8080/"
        },
        "id": "d04e04II3Sjy",
        "outputId": "1467a66a-2978-4728-9d51-031144df7e8c"
      },
      "source": [
        "songs_extra.info(verbose=True, null_counts=True)"
      ],
      "execution_count": 31,
      "outputs": [
        {
          "output_type": "stream",
          "text": [
            "<class 'pandas.core.frame.DataFrame'>\n",
            "RangeIndex: 2295971 entries, 0 to 2295970\n",
            "Data columns (total 3 columns):\n",
            " #   Column   Non-Null Count    Dtype \n",
            "---  ------   --------------    ----- \n",
            " 0   song_id  2295971 non-null  object\n",
            " 1   name     2295971 non-null  object\n",
            " 2   isrc     2295971 non-null  object\n",
            "dtypes: object(3)\n",
            "memory usage: 52.6+ MB\n"
          ],
          "name": "stdout"
        }
      ]
    },
    {
      "cell_type": "markdown",
      "metadata": {
        "id": "woLOet6CUuhj"
      },
      "source": [
        "Now all tables are filled."
      ]
    },
    {
      "cell_type": "markdown",
      "metadata": {
        "id": "l89ej15Bwn2N"
      },
      "source": [
        "### Check target distribution"
      ]
    },
    {
      "cell_type": "code",
      "metadata": {
        "colab": {
          "base_uri": "https://localhost:8080/",
          "height": 0
        },
        "id": "3NOjlOvtakns",
        "outputId": "20d0b969-165f-4cba-b5d4-b8530bb30100"
      },
      "source": [
        "plt.hist(train['target'])"
      ],
      "execution_count": 32,
      "outputs": [
        {
          "output_type": "execute_result",
          "data": {
            "text/plain": [
              "(array([3441114.,       0.,       0.,       0.,       0.,       0.,\n",
              "              0.,       0.,       0., 3518183.]),\n",
              " array([0. , 0.1, 0.2, 0.3, 0.4, 0.5, 0.6, 0.7, 0.8, 0.9, 1. ]),\n",
              " <a list of 10 Patch objects>)"
            ]
          },
          "metadata": {
            "tags": []
          },
          "execution_count": 32
        },
        {
          "output_type": "display_data",
          "data": {
            "image/png": "[encoded data removed]",
            "text/plain": [
              "<Figure size 432x288 with 1 Axes>"
            ]
          },
          "metadata": {
            "tags": [],
            "needs_background": "light"
          }
        }
      ]
    },
    {
      "cell_type": "markdown",
      "metadata": {
        "id": "vGjdMOxyat-M"
      },
      "source": [
        "The targets are balanced."
      ]
    },
    {
      "cell_type": "markdown",
      "metadata": {
        "id": "LISWSnKfV6zq"
      },
      "source": [
        "## Feature engineering"
      ]
    },
    {
      "cell_type": "code",
      "metadata": {
        "colab": {
          "base_uri": "https://localhost:8080/"
        },
        "id": "7sdfKIDZzgDl",
        "outputId": "a6a597ed-8e32-4eb9-fb29-ec3e8b5092a0"
      },
      "source": [
        "!pip install category_encoders"
      ],
      "execution_count": 33,
      "outputs": [
        {
          "output_type": "stream",
          "text": [
            "Requirement already satisfied: category_encoders in /usr/local/lib/python3.7/dist-packages (2.2.2)\n",
            "Requirement already satisfied: statsmodels>=0.9.0 in /usr/local/lib/python3.7/dist-packages (from category_encoders) (0.10.2)\n",
            "Requirement already satisfied: scipy>=1.0.0 in /usr/local/lib/python3.7/dist-packages (from category_encoders) (1.4.1)\n",
            "Requirement already satisfied: patsy>=0.5.1 in /usr/local/lib/python3.7/dist-packages (from category_encoders) (0.5.1)\n",
            "Requirement already satisfied: numpy>=1.14.0 in /usr/local/lib/python3.7/dist-packages (from category_encoders) (1.19.5)\n",
            "Requirement already satisfied: scikit-learn>=0.20.0 in /usr/local/lib/python3.7/dist-packages (from category_encoders) (0.22.2.post1)\n",
            "Requirement already satisfied: pandas>=0.21.1 in /usr/local/lib/python3.7/dist-packages (from category_encoders) (1.1.5)\n",
            "Requirement already satisfied: six in /usr/local/lib/python3.7/dist-packages (from patsy>=0.5.1->category_encoders) (1.15.0)\n",
            "Requirement already satisfied: joblib>=0.11 in /usr/local/lib/python3.7/dist-packages (from scikit-learn>=0.20.0->category_encoders) (1.0.1)\n",
            "Requirement already satisfied: pytz>=2017.2 in /usr/local/lib/python3.7/dist-packages (from pandas>=0.21.1->category_encoders) (2018.9)\n",
            "Requirement already satisfied: python-dateutil>=2.7.3 in /usr/local/lib/python3.7/dist-packages (from pandas>=0.21.1->category_encoders) (2.8.1)\n"
          ],
          "name": "stdout"
        }
      ]
    },
    {
      "cell_type": "code",
      "metadata": {
        "colab": {
          "base_uri": "https://localhost:8080/"
        },
        "id": "hSY-qoE1pJqp",
        "outputId": "82f42215-91db-4b30-9ad4-65a1073505a1"
      },
      "source": [
        "from sklearn.preprocessing import LabelEncoder\n",
        "from category_encoders import TargetEncoder\n",
        "from sklearn.preprocessing import minmax_scale"
      ],
      "execution_count": 34,
      "outputs": [
        {
          "output_type": "stream",
          "text": [
            "/usr/local/lib/python3.7/dist-packages/statsmodels/tools/_testing.py:19: FutureWarning: pandas.util.testing is deprecated. Use the functions in the public API at pandas.testing instead.\n",
            "  import pandas.util.testing as tm\n"
          ],
          "name": "stderr"
        }
      ]
    },
    {
      "cell_type": "code",
      "metadata": {
        "id": "xfDvrIITz3Ej"
      },
      "source": [
        "data = train.sample(100_000)"
      ],
      "execution_count": 88,
      "outputs": []
    },
    {
      "cell_type": "code",
      "metadata": {
        "id": "qDVFutDmWDqW"
      },
      "source": [
        "data = data.merge(songs, on='song_id')\n",
        "data = data.merge(members, on='msno')"
      ],
      "execution_count": 89,
      "outputs": []
    },
    {
      "cell_type": "code",
      "metadata": {
        "id": "GpqnPWw5oe3l"
      },
      "source": [
        "def encode(dataset, feature):\n",
        "    encoder = TargetEncoder()\n",
        "    encoder.fit(dataset[feature], dataset.target)\n",
        "    dataset[feature] = encoder.transform(dataset[feature].astype('category'))"
      ],
      "execution_count": 37,
      "outputs": []
    },
    {
      "cell_type": "markdown",
      "metadata": {
        "id": "9kC60Rw8VfRL"
      },
      "source": [
        "Add some new features."
      ]
    },
    {
      "cell_type": "code",
      "metadata": {
        "id": "opcl_AViSnda"
      },
      "source": [
        "data['first_genre'] = [int(str(i).split('|')[0]) for i in data['genre_ids']]\n",
        "encode(data, 'first_genre')\n",
        "# data['second_genre'] = [int(str(i).split('|')[1]) if len(str(i).split('|')) > 1 else 239239 for i in data['genre_ids']]\n",
        "# encode(data, 'second_genre')\n",
        "# data['third_genre'] = [int(str(i).split('|')[2]) if len(str(i).split('|')) > 2 else 239239 for i in data['genre_ids']]\n",
        "# encode(data, 'third_genre')"
      ],
      "execution_count": 90,
      "outputs": []
    },
    {
      "cell_type": "code",
      "metadata": {
        "id": "XaMEKjCWJZAh"
      },
      "source": [
        "member_genre_counts = data.groupby('msno').genre_ids.apply(lambda x: x.value_counts().head(1)).reset_index().rename(columns={'level_1' : 'top_genre_id', 'genre_ids' : 'top_genre_count'})\n",
        "data = data.merge(member_genre_counts, on='msno')"
      ],
      "execution_count": 92,
      "outputs": []
    },
    {
      "cell_type": "code",
      "metadata": {
        "id": "pXqxNN64TQTl"
      },
      "source": [
        "# member_genre_counts = data.groupby('msno').first_genre.apply(lambda x: x.value_counts().head(1)).reset_index().rename(columns={'level_1' : 'top_first_genre_id', 'first_genre' : 'top_first_genre_count'})\n",
        "# data = data.merge(member_genre_counts, on='msno')"
      ],
      "execution_count": 41,
      "outputs": []
    },
    {
      "cell_type": "code",
      "metadata": {
        "id": "JCwgGorPhWuA"
      },
      "source": [
        "# member_genre_counts = data.groupby('msno').second_genre.apply(lambda x: x.value_counts().head(1)).reset_index().rename(columns={'level_1' : 'top_second_genre_id', 'second_genre' : 'top_second_genre_count'})\n",
        "# data = data.merge(member_genre_counts, on='msno')"
      ],
      "execution_count": 42,
      "outputs": []
    },
    {
      "cell_type": "code",
      "metadata": {
        "colab": {
          "base_uri": "https://localhost:8080/"
        },
        "id": "nAeWNkl7ptx3",
        "outputId": "ae635b65-4771-481e-c538-12ca6d41a0ed"
      },
      "source": [
        "# One hot encode for other features\n",
        "# feature_onehot = pd.get_dummies(data.gender)\n",
        "# for name in feature_onehot.columns:\n",
        "#     data['gender_' + name] = feature_onehot[name]\n",
        "encode(data, 'gender')\n",
        "\n",
        "# feature_onehot = pd.get_dummies(data.registered_via)\n",
        "# for name in feature_onehot.columns:\n",
        "#     data['registered_via_' + str(name)] = feature_onehot[name]\n",
        "encode(data, 'registered_via')\n",
        "\n",
        "# feature_onehot = pd.get_dummies(data.city)\n",
        "# for name in feature_onehot.columns:\n",
        "#     data['city_' + str(name)] = feature_onehot[name]\n",
        "encode(data, 'city')\n",
        "\n",
        "# feature_onehot = pd.get_dummies(data.source_type)\n",
        "# for name in feature_onehot.columns:\n",
        "#     data['source_type_' + name] = feature_onehot[name]\n",
        "encode(data, 'source_type')\n",
        "\n",
        "# feature_onehot = pd.get_dummies(data.source_system_tab)\n",
        "# for name in feature_onehot.columns:\n",
        "#     data['source_system_tab_' + name] = feature_onehot[name]\n",
        "encode(data, 'source_system_tab')\n",
        "\n",
        "# feature_onehot = pd.get_dummies(data.language)\n",
        "# for name in feature_onehot.columns:\n",
        "#       data['language_' + str(name)] = feature_onehot[name]\n",
        "encode(data, 'language')\n",
        "\n",
        "# feature_onehot = pd.get_dummies(data.source_screen_name)\n",
        "# for name in feature_onehot.columns:\n",
        "#       data['source_screen_name_' + str(name)] = feature_onehot[name]\n",
        "encode(data, 'source_screen_name')\n",
        "\n",
        "# Split registration_init_time to 3 features\n",
        "data['registration_year'] = data.registration_init_time.dt.year\n",
        "data['registration_month'] = data.registration_init_time.dt.month\n",
        "data['registration_day'] = data.registration_init_time.dt.day\n",
        "data['registration_init_time_sec'] = data.registration_init_time.dt.year * 365 + data.registration_init_time.dt.month * 30 + data.registration_init_time.dt.day\n",
        "# encode(data, 'registration_init_time')\n",
        "\n",
        "\n",
        "# Split expiration_date to 3 features\n",
        "data['expiration_year'] = data.expiration_date.dt.year\n",
        "data['expiration_month'] = data.expiration_date.dt.month\n",
        "data['expiration_day'] = data.expiration_date.dt.day\n",
        "data['expiration_date_sec'] = data.expiration_date.dt.year * 365 + data.expiration_date.dt.month * 30 + data.expiration_date.dt.day\n",
        "# encode(data, 'expiration_date')\n",
        "\n",
        "# Add a new feature\n",
        "data['time_on_service'] = data['expiration_date_sec'] - data['registration_init_time_sec']\n",
        "\n",
        "encode(data, 'artist_name')\n",
        "encode(data, 'lyricist')\n",
        "encode(data, 'composer')\n",
        "\n",
        "data = data.drop(columns=['bd'])\n",
        "\n",
        "encode(data, 'top_genre_id')\n",
        "# encode(data, 'top_first_genre_id')\n",
        "# encode(data, 'top_second_genre_id')\n",
        "encode(data, 'genre_ids')\n",
        "# encode(data, 'msno')\n",
        "# encode(data, 'song_id')"
      ],
      "execution_count": 91,
      "outputs": [
        {
          "output_type": "stream",
          "text": [
            "is_categorical is deprecated and will be removed in a future version.  Use is_categorical_dtype instead\n",
            "is_categorical is deprecated and will be removed in a future version.  Use is_categorical_dtype instead\n",
            "is_categorical is deprecated and will be removed in a future version.  Use is_categorical_dtype instead\n",
            "is_categorical is deprecated and will be removed in a future version.  Use is_categorical_dtype instead\n",
            "is_categorical is deprecated and will be removed in a future version.  Use is_categorical_dtype instead\n",
            "is_categorical is deprecated and will be removed in a future version.  Use is_categorical_dtype instead\n",
            "is_categorical is deprecated and will be removed in a future version.  Use is_categorical_dtype instead\n"
          ],
          "name": "stderr"
        }
      ]
    },
    {
      "cell_type": "code",
      "metadata": {
        "id": "sKGUjCt04yAw",
        "colab": {
          "base_uri": "https://localhost:8080/",
          "height": 224
        },
        "outputId": "2789f2ae-5003-4b8a-ebf9-58193cd2b243"
      },
      "source": [
        "data.head()"
      ],
      "execution_count": 43,
      "outputs": [
        {
          "output_type": "execute_result",
          "data": {
            "text/html": [
              "<div>\n",
              "<style scoped>\n",
              "    .dataframe tbody tr th:only-of-type {\n",
              "        vertical-align: middle;\n",
              "    }\n",
              "\n",
              "    .dataframe tbody tr th {\n",
              "        vertical-align: top;\n",
              "    }\n",
              "\n",
              "    .dataframe thead th {\n",
              "        text-align: right;\n",
              "    }\n",
              "</style>\n",
              "<table border=\"1\" class=\"dataframe\">\n",
              "  <thead>\n",
              "    <tr style=\"text-align: right;\">\n",
              "      <th></th>\n",
              "      <th>msno</th>\n",
              "      <th>song_id</th>\n",
              "      <th>source_system_tab</th>\n",
              "      <th>source_screen_name</th>\n",
              "      <th>source_type</th>\n",
              "      <th>target</th>\n",
              "      <th>song_length</th>\n",
              "      <th>genre_ids</th>\n",
              "      <th>artist_name</th>\n",
              "      <th>composer</th>\n",
              "      <th>lyricist</th>\n",
              "      <th>language</th>\n",
              "      <th>city</th>\n",
              "      <th>gender</th>\n",
              "      <th>registered_via</th>\n",
              "      <th>registration_init_time</th>\n",
              "      <th>expiration_date</th>\n",
              "      <th>first_genre</th>\n",
              "      <th>registration_year</th>\n",
              "      <th>registration_month</th>\n",
              "      <th>registration_day</th>\n",
              "      <th>registration_init_time_sec</th>\n",
              "      <th>expiration_year</th>\n",
              "      <th>expiration_month</th>\n",
              "      <th>expiration_day</th>\n",
              "      <th>expiration_date_sec</th>\n",
              "      <th>time_on_service</th>\n",
              "      <th>top_genre_id</th>\n",
              "      <th>top_genre_count</th>\n",
              "    </tr>\n",
              "  </thead>\n",
              "  <tbody>\n",
              "    <tr>\n",
              "      <th>0</th>\n",
              "      <td>cJ+2hH9XKdiBtzXWyk+UHjv4Hn00fTE4UivWNuPFgt8=</td>\n",
              "      <td>IKgN6SCjrnEiVCv+Ol20JsOYo1pMDsQA67cQGHwDXIk=</td>\n",
              "      <td>0.328892</td>\n",
              "      <td>0.419787</td>\n",
              "      <td>0.423043</td>\n",
              "      <td>0</td>\n",
              "      <td>256417</td>\n",
              "      <td>465</td>\n",
              "      <td>0.487500</td>\n",
              "      <td>0.503704</td>\n",
              "      <td>0.507576</td>\n",
              "      <td>3.0</td>\n",
              "      <td>5</td>\n",
              "      <td>0.517385</td>\n",
              "      <td>9</td>\n",
              "      <td>2007-09-02</td>\n",
              "      <td>2017-10-04</td>\n",
              "      <td>465</td>\n",
              "      <td>2007</td>\n",
              "      <td>9</td>\n",
              "      <td>2</td>\n",
              "      <td>732827</td>\n",
              "      <td>2017</td>\n",
              "      <td>10</td>\n",
              "      <td>4</td>\n",
              "      <td>736509</td>\n",
              "      <td>3682</td>\n",
              "      <td>465</td>\n",
              "      <td>3</td>\n",
              "    </tr>\n",
              "    <tr>\n",
              "      <th>1</th>\n",
              "      <td>cJ+2hH9XKdiBtzXWyk+UHjv4Hn00fTE4UivWNuPFgt8=</td>\n",
              "      <td>h90KlUZE/mlkkPjhbhz3hXY1zvOhqJXuiKBoFWnTDAo=</td>\n",
              "      <td>0.624745</td>\n",
              "      <td>0.638682</td>\n",
              "      <td>0.656352</td>\n",
              "      <td>0</td>\n",
              "      <td>237792</td>\n",
              "      <td>465</td>\n",
              "      <td>0.591954</td>\n",
              "      <td>0.589623</td>\n",
              "      <td>0.554217</td>\n",
              "      <td>52.0</td>\n",
              "      <td>5</td>\n",
              "      <td>0.517385</td>\n",
              "      <td>9</td>\n",
              "      <td>2007-09-02</td>\n",
              "      <td>2017-10-04</td>\n",
              "      <td>465</td>\n",
              "      <td>2007</td>\n",
              "      <td>9</td>\n",
              "      <td>2</td>\n",
              "      <td>732827</td>\n",
              "      <td>2017</td>\n",
              "      <td>10</td>\n",
              "      <td>4</td>\n",
              "      <td>736509</td>\n",
              "      <td>3682</td>\n",
              "      <td>465</td>\n",
              "      <td>3</td>\n",
              "    </tr>\n",
              "    <tr>\n",
              "      <th>2</th>\n",
              "      <td>cJ+2hH9XKdiBtzXWyk+UHjv4Hn00fTE4UivWNuPFgt8=</td>\n",
              "      <td>Wn5ltxI7NsFk4xGFHOFXv2ajWU9HmuEgDF+xs1EJpFo=</td>\n",
              "      <td>0.624745</td>\n",
              "      <td>0.638682</td>\n",
              "      <td>0.656352</td>\n",
              "      <td>1</td>\n",
              "      <td>230138</td>\n",
              "      <td>465</td>\n",
              "      <td>0.515021</td>\n",
              "      <td>0.559322</td>\n",
              "      <td>0.470879</td>\n",
              "      <td>52.0</td>\n",
              "      <td>5</td>\n",
              "      <td>0.517385</td>\n",
              "      <td>9</td>\n",
              "      <td>2007-09-02</td>\n",
              "      <td>2017-10-04</td>\n",
              "      <td>465</td>\n",
              "      <td>2007</td>\n",
              "      <td>9</td>\n",
              "      <td>2</td>\n",
              "      <td>732827</td>\n",
              "      <td>2017</td>\n",
              "      <td>10</td>\n",
              "      <td>4</td>\n",
              "      <td>736509</td>\n",
              "      <td>3682</td>\n",
              "      <td>465</td>\n",
              "      <td>3</td>\n",
              "    </tr>\n",
              "    <tr>\n",
              "      <th>3</th>\n",
              "      <td>nJAg2/7PL+geVKixibYTdtVmC1kx1Etk3NawJczpcKs=</td>\n",
              "      <td>IKgN6SCjrnEiVCv+Ol20JsOYo1pMDsQA67cQGHwDXIk=</td>\n",
              "      <td>0.624745</td>\n",
              "      <td>0.638682</td>\n",
              "      <td>0.633692</td>\n",
              "      <td>1</td>\n",
              "      <td>256417</td>\n",
              "      <td>465</td>\n",
              "      <td>0.487500</td>\n",
              "      <td>0.503704</td>\n",
              "      <td>0.507576</td>\n",
              "      <td>3.0</td>\n",
              "      <td>1</td>\n",
              "      <td>0.506475</td>\n",
              "      <td>7</td>\n",
              "      <td>2014-02-23</td>\n",
              "      <td>2017-09-22</td>\n",
              "      <td>465</td>\n",
              "      <td>2014</td>\n",
              "      <td>2</td>\n",
              "      <td>23</td>\n",
              "      <td>735193</td>\n",
              "      <td>2017</td>\n",
              "      <td>9</td>\n",
              "      <td>22</td>\n",
              "      <td>736497</td>\n",
              "      <td>1304</td>\n",
              "      <td>465</td>\n",
              "      <td>16</td>\n",
              "    </tr>\n",
              "    <tr>\n",
              "      <th>4</th>\n",
              "      <td>nJAg2/7PL+geVKixibYTdtVmC1kx1Etk3NawJczpcKs=</td>\n",
              "      <td>OaEbZ6TJ1NePtNUeEgWsvFLeopkSln9WQu8PBR5B3+A=</td>\n",
              "      <td>0.411242</td>\n",
              "      <td>0.520490</td>\n",
              "      <td>0.423043</td>\n",
              "      <td>1</td>\n",
              "      <td>268016</td>\n",
              "      <td>465</td>\n",
              "      <td>0.627451</td>\n",
              "      <td>0.666667</td>\n",
              "      <td>0.672566</td>\n",
              "      <td>3.0</td>\n",
              "      <td>1</td>\n",
              "      <td>0.506475</td>\n",
              "      <td>7</td>\n",
              "      <td>2014-02-23</td>\n",
              "      <td>2017-09-22</td>\n",
              "      <td>465</td>\n",
              "      <td>2014</td>\n",
              "      <td>2</td>\n",
              "      <td>23</td>\n",
              "      <td>735193</td>\n",
              "      <td>2017</td>\n",
              "      <td>9</td>\n",
              "      <td>22</td>\n",
              "      <td>736497</td>\n",
              "      <td>1304</td>\n",
              "      <td>465</td>\n",
              "      <td>16</td>\n",
              "    </tr>\n",
              "  </tbody>\n",
              "</table>\n",
              "</div>"
            ],
            "text/plain": [
              "                                           msno  ... top_genre_count\n",
              "0  cJ+2hH9XKdiBtzXWyk+UHjv4Hn00fTE4UivWNuPFgt8=  ...               3\n",
              "1  cJ+2hH9XKdiBtzXWyk+UHjv4Hn00fTE4UivWNuPFgt8=  ...               3\n",
              "2  cJ+2hH9XKdiBtzXWyk+UHjv4Hn00fTE4UivWNuPFgt8=  ...               3\n",
              "3  nJAg2/7PL+geVKixibYTdtVmC1kx1Etk3NawJczpcKs=  ...              16\n",
              "4  nJAg2/7PL+geVKixibYTdtVmC1kx1Etk3NawJczpcKs=  ...              16\n",
              "\n",
              "[5 rows x 29 columns]"
            ]
          },
          "metadata": {
            "tags": []
          },
          "execution_count": 43
        }
      ]
    },
    {
      "cell_type": "markdown",
      "metadata": {
        "id": "38Eh0tkMUw9_"
      },
      "source": [
        "## GBDT"
      ]
    },
    {
      "cell_type": "code",
      "metadata": {
        "id": "baWsk8HvVnDE"
      },
      "source": [
        "from sklearn.model_selection import StratifiedKFold, GridSearchCV, cross_validate\n",
        "from xgboost import XGBClassifier\n",
        "from sklearn.metrics import roc_auc_score"
      ],
      "execution_count": 45,
      "outputs": []
    },
    {
      "cell_type": "code",
      "metadata": {
        "id": "86q-2oNLy6CD",
        "colab": {
          "base_uri": "https://localhost:8080/",
          "height": 224
        },
        "outputId": "d65a702f-ca94-47b1-de04-1dc9427e5706"
      },
      "source": [
        "data.head()"
      ],
      "execution_count": 46,
      "outputs": [
        {
          "output_type": "execute_result",
          "data": {
            "text/html": [
              "<div>\n",
              "<style scoped>\n",
              "    .dataframe tbody tr th:only-of-type {\n",
              "        vertical-align: middle;\n",
              "    }\n",
              "\n",
              "    .dataframe tbody tr th {\n",
              "        vertical-align: top;\n",
              "    }\n",
              "\n",
              "    .dataframe thead th {\n",
              "        text-align: right;\n",
              "    }\n",
              "</style>\n",
              "<table border=\"1\" class=\"dataframe\">\n",
              "  <thead>\n",
              "    <tr style=\"text-align: right;\">\n",
              "      <th></th>\n",
              "      <th>msno</th>\n",
              "      <th>song_id</th>\n",
              "      <th>source_system_tab</th>\n",
              "      <th>source_screen_name</th>\n",
              "      <th>source_type</th>\n",
              "      <th>target</th>\n",
              "      <th>song_length</th>\n",
              "      <th>genre_ids</th>\n",
              "      <th>artist_name</th>\n",
              "      <th>composer</th>\n",
              "      <th>lyricist</th>\n",
              "      <th>language</th>\n",
              "      <th>city</th>\n",
              "      <th>gender</th>\n",
              "      <th>registered_via</th>\n",
              "      <th>registration_init_time</th>\n",
              "      <th>expiration_date</th>\n",
              "      <th>first_genre</th>\n",
              "      <th>registration_year</th>\n",
              "      <th>registration_month</th>\n",
              "      <th>registration_day</th>\n",
              "      <th>registration_init_time_sec</th>\n",
              "      <th>expiration_year</th>\n",
              "      <th>expiration_month</th>\n",
              "      <th>expiration_day</th>\n",
              "      <th>expiration_date_sec</th>\n",
              "      <th>time_on_service</th>\n",
              "      <th>top_genre_id</th>\n",
              "      <th>top_genre_count</th>\n",
              "    </tr>\n",
              "  </thead>\n",
              "  <tbody>\n",
              "    <tr>\n",
              "      <th>0</th>\n",
              "      <td>cJ+2hH9XKdiBtzXWyk+UHjv4Hn00fTE4UivWNuPFgt8=</td>\n",
              "      <td>IKgN6SCjrnEiVCv+Ol20JsOYo1pMDsQA67cQGHwDXIk=</td>\n",
              "      <td>0.328892</td>\n",
              "      <td>0.419787</td>\n",
              "      <td>0.423043</td>\n",
              "      <td>0</td>\n",
              "      <td>256417</td>\n",
              "      <td>0.514089</td>\n",
              "      <td>0.487500</td>\n",
              "      <td>0.503704</td>\n",
              "      <td>0.507576</td>\n",
              "      <td>3.0</td>\n",
              "      <td>5</td>\n",
              "      <td>0.517385</td>\n",
              "      <td>9</td>\n",
              "      <td>2007-09-02</td>\n",
              "      <td>2017-10-04</td>\n",
              "      <td>465</td>\n",
              "      <td>2007</td>\n",
              "      <td>9</td>\n",
              "      <td>2</td>\n",
              "      <td>732827</td>\n",
              "      <td>2017</td>\n",
              "      <td>10</td>\n",
              "      <td>4</td>\n",
              "      <td>736509</td>\n",
              "      <td>3682</td>\n",
              "      <td>0.511026</td>\n",
              "      <td>3</td>\n",
              "    </tr>\n",
              "    <tr>\n",
              "      <th>1</th>\n",
              "      <td>cJ+2hH9XKdiBtzXWyk+UHjv4Hn00fTE4UivWNuPFgt8=</td>\n",
              "      <td>h90KlUZE/mlkkPjhbhz3hXY1zvOhqJXuiKBoFWnTDAo=</td>\n",
              "      <td>0.624745</td>\n",
              "      <td>0.638682</td>\n",
              "      <td>0.656352</td>\n",
              "      <td>0</td>\n",
              "      <td>237792</td>\n",
              "      <td>0.514089</td>\n",
              "      <td>0.591954</td>\n",
              "      <td>0.589623</td>\n",
              "      <td>0.554217</td>\n",
              "      <td>52.0</td>\n",
              "      <td>5</td>\n",
              "      <td>0.517385</td>\n",
              "      <td>9</td>\n",
              "      <td>2007-09-02</td>\n",
              "      <td>2017-10-04</td>\n",
              "      <td>465</td>\n",
              "      <td>2007</td>\n",
              "      <td>9</td>\n",
              "      <td>2</td>\n",
              "      <td>732827</td>\n",
              "      <td>2017</td>\n",
              "      <td>10</td>\n",
              "      <td>4</td>\n",
              "      <td>736509</td>\n",
              "      <td>3682</td>\n",
              "      <td>0.511026</td>\n",
              "      <td>3</td>\n",
              "    </tr>\n",
              "    <tr>\n",
              "      <th>2</th>\n",
              "      <td>cJ+2hH9XKdiBtzXWyk+UHjv4Hn00fTE4UivWNuPFgt8=</td>\n",
              "      <td>Wn5ltxI7NsFk4xGFHOFXv2ajWU9HmuEgDF+xs1EJpFo=</td>\n",
              "      <td>0.624745</td>\n",
              "      <td>0.638682</td>\n",
              "      <td>0.656352</td>\n",
              "      <td>1</td>\n",
              "      <td>230138</td>\n",
              "      <td>0.514089</td>\n",
              "      <td>0.515021</td>\n",
              "      <td>0.559322</td>\n",
              "      <td>0.470879</td>\n",
              "      <td>52.0</td>\n",
              "      <td>5</td>\n",
              "      <td>0.517385</td>\n",
              "      <td>9</td>\n",
              "      <td>2007-09-02</td>\n",
              "      <td>2017-10-04</td>\n",
              "      <td>465</td>\n",
              "      <td>2007</td>\n",
              "      <td>9</td>\n",
              "      <td>2</td>\n",
              "      <td>732827</td>\n",
              "      <td>2017</td>\n",
              "      <td>10</td>\n",
              "      <td>4</td>\n",
              "      <td>736509</td>\n",
              "      <td>3682</td>\n",
              "      <td>0.511026</td>\n",
              "      <td>3</td>\n",
              "    </tr>\n",
              "    <tr>\n",
              "      <th>3</th>\n",
              "      <td>nJAg2/7PL+geVKixibYTdtVmC1kx1Etk3NawJczpcKs=</td>\n",
              "      <td>IKgN6SCjrnEiVCv+Ol20JsOYo1pMDsQA67cQGHwDXIk=</td>\n",
              "      <td>0.624745</td>\n",
              "      <td>0.638682</td>\n",
              "      <td>0.633692</td>\n",
              "      <td>1</td>\n",
              "      <td>256417</td>\n",
              "      <td>0.514089</td>\n",
              "      <td>0.487500</td>\n",
              "      <td>0.503704</td>\n",
              "      <td>0.507576</td>\n",
              "      <td>3.0</td>\n",
              "      <td>1</td>\n",
              "      <td>0.506475</td>\n",
              "      <td>7</td>\n",
              "      <td>2014-02-23</td>\n",
              "      <td>2017-09-22</td>\n",
              "      <td>465</td>\n",
              "      <td>2014</td>\n",
              "      <td>2</td>\n",
              "      <td>23</td>\n",
              "      <td>735193</td>\n",
              "      <td>2017</td>\n",
              "      <td>9</td>\n",
              "      <td>22</td>\n",
              "      <td>736497</td>\n",
              "      <td>1304</td>\n",
              "      <td>0.511026</td>\n",
              "      <td>16</td>\n",
              "    </tr>\n",
              "    <tr>\n",
              "      <th>4</th>\n",
              "      <td>nJAg2/7PL+geVKixibYTdtVmC1kx1Etk3NawJczpcKs=</td>\n",
              "      <td>OaEbZ6TJ1NePtNUeEgWsvFLeopkSln9WQu8PBR5B3+A=</td>\n",
              "      <td>0.411242</td>\n",
              "      <td>0.520490</td>\n",
              "      <td>0.423043</td>\n",
              "      <td>1</td>\n",
              "      <td>268016</td>\n",
              "      <td>0.514089</td>\n",
              "      <td>0.627451</td>\n",
              "      <td>0.666667</td>\n",
              "      <td>0.672566</td>\n",
              "      <td>3.0</td>\n",
              "      <td>1</td>\n",
              "      <td>0.506475</td>\n",
              "      <td>7</td>\n",
              "      <td>2014-02-23</td>\n",
              "      <td>2017-09-22</td>\n",
              "      <td>465</td>\n",
              "      <td>2014</td>\n",
              "      <td>2</td>\n",
              "      <td>23</td>\n",
              "      <td>735193</td>\n",
              "      <td>2017</td>\n",
              "      <td>9</td>\n",
              "      <td>22</td>\n",
              "      <td>736497</td>\n",
              "      <td>1304</td>\n",
              "      <td>0.511026</td>\n",
              "      <td>16</td>\n",
              "    </tr>\n",
              "  </tbody>\n",
              "</table>\n",
              "</div>"
            ],
            "text/plain": [
              "                                           msno  ... top_genre_count\n",
              "0  cJ+2hH9XKdiBtzXWyk+UHjv4Hn00fTE4UivWNuPFgt8=  ...               3\n",
              "1  cJ+2hH9XKdiBtzXWyk+UHjv4Hn00fTE4UivWNuPFgt8=  ...               3\n",
              "2  cJ+2hH9XKdiBtzXWyk+UHjv4Hn00fTE4UivWNuPFgt8=  ...               3\n",
              "3  nJAg2/7PL+geVKixibYTdtVmC1kx1Etk3NawJczpcKs=  ...              16\n",
              "4  nJAg2/7PL+geVKixibYTdtVmC1kx1Etk3NawJczpcKs=  ...              16\n",
              "\n",
              "[5 rows x 29 columns]"
            ]
          },
          "metadata": {
            "tags": []
          },
          "execution_count": 46
        }
      ]
    },
    {
      "cell_type": "code",
      "metadata": {
        "id": "lsdWqCMwcrdO"
      },
      "source": [
        "X = data.drop(columns=['target', 'expiration_date', 'registration_init_time', 'msno'])\n",
        "y = data['target']"
      ],
      "execution_count": 47,
      "outputs": []
    },
    {
      "cell_type": "code",
      "metadata": {
        "colab": {
          "base_uri": "https://localhost:8080/"
        },
        "id": "1zkpnkepU2rl",
        "outputId": "e1c9f379-7596-4449-bac9-eed33edb85b8"
      },
      "source": [
        "skf = StratifiedKFold(n_splits=5, random_state=1, shuffle=True)\n",
        "\n",
        "model = XGBClassifier(tree_method='gpu_hist', gpu_id=0)\n",
        "parameters = {'model__max_depth':[3, 5, 10, 15], \n",
        "              'model__sampling_method':['uniform', 'gradient_based'], \n",
        "              'model__n_estimators':[32, 64, 128],\n",
        "              'model__splitter':['best', 'random'],\n",
        "              'model__criterion':['gini', 'entropy'],\n",
        "              'model__min_samples_leaf':[1, 5, 10]}\n",
        "clf = GridSearchCV(model, parameters, scoring='roc_auc', cv=skf, n_jobs=-1)\n",
        "_ = clf.fit(X, y)\n",
        "\n",
        "print('XGBClassifier', clf.best_params_)\n",
        "\n",
        "best_model = XGBClassifier(max_depth=clf.best_params_['model__max_depth'],\n",
        "                           sampling_method=clf.best_params_['model__sampling_method'],\n",
        "                           tree_method='gpu_hist', gpu_id=0, \n",
        "                           n_estimators=clf.best_params_['model__n_estimators'],\n",
        "                           splitter=clf.best_params_['model__splitter'],\n",
        "                           criterion=clf.best_params_['model__criterion'],\n",
        "                           min_samples_leaf=clf.best_params_['model__min_samples_leaf'])\n",
        "# best_model = XGBClassifier(tree_method='gpu_hist', gpu_id=0, n_jobs=-1,\n",
        "                        #    n_estimators=64, max_depth=5)\n",
        "_ = best_model.fit(X, y)\n",
        "score = cross_validate(best_model, X, y, cv=skf, n_jobs=-1, verbose=1, scoring='roc_auc')['test_score']\n",
        "\n",
        "print(f'ROC AUC for the best model: {np.mean(score)}')"
      ],
      "execution_count": null,
      "outputs": [
        {
          "output_type": "stream",
          "text": [
            "XGBClassifier {'model__criterion': 'gini', 'model__max_depth': 3, 'model__min_samples_leaf': 1, 'model__n_estimators': 32, 'model__sampling_method': 'uniform', 'model__splitter': 'best'}\n"
          ],
          "name": "stdout"
        },
        {
          "output_type": "stream",
          "text": [
            "[Parallel(n_jobs=-1)]: Using backend LokyBackend with 2 concurrent workers.\n"
          ],
          "name": "stderr"
        },
        {
          "output_type": "stream",
          "text": [
            "ROC AUC for the best model: 0.768123443377859\n"
          ],
          "name": "stdout"
        },
        {
          "output_type": "stream",
          "text": [
            "[Parallel(n_jobs=-1)]: Done   5 out of   5 | elapsed:    1.9s finished\n"
          ],
          "name": "stderr"
        }
      ]
    },
    {
      "cell_type": "markdown",
      "metadata": {
        "id": "VBhQO0Q1xAiz"
      },
      "source": [
        "### Feature imporatances"
      ]
    },
    {
      "cell_type": "markdown",
      "metadata": {
        "id": "xPaQQEKhMqN3"
      },
      "source": [
        "Shap doensn't work on GPU so I used feature importances from XGBoost."
      ]
    },
    {
      "cell_type": "code",
      "metadata": {
        "colab": {
          "base_uri": "https://localhost:8080/",
          "height": 821
        },
        "id": "hKt9nnPwWjJe",
        "outputId": "aa62d51d-8e3c-4744-9beb-000573de65e9"
      },
      "source": [
        "importances = best_model.feature_importances_\n",
        "\n",
        "indices = np.argsort(importances)[::-1]\n",
        "\n",
        "plt.figure(figsize=(15, 10))\n",
        "\n",
        "plt.title('Feature importances')\n",
        "plt.ylabel('Importance')\n",
        "plt.xlabel('Feature name')\n",
        "\n",
        "plt.bar(range(len(X.columns)), importances[indices])\n",
        "plt.xticks(range(len(X.columns)),X.columns[indices],rotation=90)\n",
        "plt.show()"
      ],
      "execution_count": null,
      "outputs": [
        {
          "output_type": "display_data",
          "data": {
            "image/png": "[encoded data removed]",
            "text/plain": [
              "<Figure size 1080x720 with 1 Axes>"
            ]
          },
          "metadata": {
            "tags": []
          }
        }
      ]
    },
    {
      "cell_type": "code",
      "metadata": {
        "colab": {
          "base_uri": "https://localhost:8080/"
        },
        "id": "hoM3aWWbaKQH",
        "outputId": "212461e1-ff8b-4547-9950-1d64d39c345b"
      },
      "source": [
        "!pip install shap"
      ],
      "execution_count": 48,
      "outputs": [
        {
          "output_type": "stream",
          "text": [
            "Requirement already satisfied: shap in /usr/local/lib/python3.7/dist-packages (0.39.0)\n",
            "Requirement already satisfied: scikit-learn in /usr/local/lib/python3.7/dist-packages (from shap) (0.22.2.post1)\n",
            "Requirement already satisfied: numba in /usr/local/lib/python3.7/dist-packages (from shap) (0.51.2)\n",
            "Requirement already satisfied: numpy in /usr/local/lib/python3.7/dist-packages (from shap) (1.19.5)\n",
            "Requirement already satisfied: cloudpickle in /usr/local/lib/python3.7/dist-packages (from shap) (1.3.0)\n",
            "Requirement already satisfied: tqdm>4.25.0 in /usr/local/lib/python3.7/dist-packages (from shap) (4.41.1)\n",
            "Requirement already satisfied: pandas in /usr/local/lib/python3.7/dist-packages (from shap) (1.1.5)\n",
            "Requirement already satisfied: scipy in /usr/local/lib/python3.7/dist-packages (from shap) (1.4.1)\n",
            "Requirement already satisfied: slicer==0.0.7 in /usr/local/lib/python3.7/dist-packages (from shap) (0.0.7)\n",
            "Requirement already satisfied: joblib>=0.11 in /usr/local/lib/python3.7/dist-packages (from scikit-learn->shap) (1.0.1)\n",
            "Requirement already satisfied: setuptools in /usr/local/lib/python3.7/dist-packages (from numba->shap) (56.0.0)\n",
            "Requirement already satisfied: llvmlite<0.35,>=0.34.0.dev0 in /usr/local/lib/python3.7/dist-packages (from numba->shap) (0.34.0)\n",
            "Requirement already satisfied: python-dateutil>=2.7.3 in /usr/local/lib/python3.7/dist-packages (from pandas->shap) (2.8.1)\n",
            "Requirement already satisfied: pytz>=2017.2 in /usr/local/lib/python3.7/dist-packages (from pandas->shap) (2018.9)\n",
            "Requirement already satisfied: six>=1.5 in /usr/local/lib/python3.7/dist-packages (from python-dateutil>=2.7.3->pandas->shap) (1.15.0)\n"
          ],
          "name": "stdout"
        }
      ]
    },
    {
      "cell_type": "code",
      "metadata": {
        "id": "aLpyMOPXTbdn"
      },
      "source": [
        "from shap import TreeExplainer\n",
        "import shap\n",
        "from sklearn.model_selection import train_test_split"
      ],
      "execution_count": 49,
      "outputs": []
    },
    {
      "cell_type": "code",
      "metadata": {
        "colab": {
          "base_uri": "https://localhost:8080/",
          "height": 986
        },
        "id": "uCHwgUzyrHCZ",
        "outputId": "9fa37437-8349-43d8-9bc1-301285986da3"
      },
      "source": [
        "X_train, X_test, y_train, y_test = train_test_split(X, y)\n",
        "\n",
        "model = XGBClassifier(n_estimators=64, max_depth=5)\n",
        "model.fit(X_train, y_train)\n",
        "\n",
        "explainer = shap.Explainer(model)\n",
        "shap_values = explainer(X_test)\n",
        "shap.plots.bar(shap_values)\n",
        "shap.summary_plot(shap_values, X_test)"
      ],
      "execution_count": null,
      "outputs": [
        {
          "output_type": "display_data",
          "data": {
            "image/png": "[encoded data removed]",
            "text/plain": [
              "<Figure size 576x468 with 1 Axes>"
            ]
          },
          "metadata": {
            "tags": []
          }
        },
        {
          "output_type": "display_data",
          "data": {
            "image/png": "[encoded data removed]",
            "text/plain": [
              "<Figure size 576x684 with 2 Axes>"
            ]
          },
          "metadata": {
            "tags": []
          }
        }
      ]
    },
    {
      "cell_type": "markdown",
      "metadata": {
        "id": "4KMU7_kn0eYO"
      },
      "source": [
        "## Build embeddings"
      ]
    },
    {
      "cell_type": "code",
      "metadata": {
        "id": "9lA2H4Q2DFDr"
      },
      "source": [
        "from tqdm import tqdm\n",
        "from gensim.models import Word2Vec\n",
        "import multiprocessing\n",
        "from sklearn.metrics.pairwise import cosine_similarity\n",
        "from sklearn.metrics import roc_auc_score"
      ],
      "execution_count": 48,
      "outputs": []
    },
    {
      "cell_type": "code",
      "metadata": {
        "id": "96pTtT-a6llY"
      },
      "source": [
        "emb_data = data.merge(songs_extra, on='song_id')"
      ],
      "execution_count": 94,
      "outputs": []
    },
    {
      "cell_type": "markdown",
      "metadata": {
        "id": "9tAnCStasRPp"
      },
      "source": [
        "Build dictionary for Word2Vec based on song's names, artists, composers and lyricists. The words in the sentences are so hard because we want to interpretate the similars."
      ]
    },
    {
      "cell_type": "code",
      "metadata": {
        "id": "7f8wJm978ZCd"
      },
      "source": [
        "targeted = emb_data.loc[emb_data.target == 1, ['msno']]\n",
        "targeted['song'] = emb_data.apply(lambda x: \n",
        "                                  str(x['artist_name']) + ' | '  \n",
        "                                  + \n",
        "                                  str(x['name']) \n",
        "                                  + ' | ' \n",
        "                                  + str(x['composer']) + ' | ' + \n",
        "                                  str(x['lyricist'])\n",
        "                                , axis=1)"
      ],
      "execution_count": 95,
      "outputs": []
    },
    {
      "cell_type": "code",
      "metadata": {
        "colab": {
          "base_uri": "https://localhost:8080/",
          "height": 204
        },
        "id": "qnWU1667IkX2",
        "outputId": "59e08a06-8adb-4a94-9ac5-b60e2932423d"
      },
      "source": [
        "targeted.head()"
      ],
      "execution_count": null,
      "outputs": [
        {
          "output_type": "execute_result",
          "data": {
            "text/html": [
              "<div>\n",
              "<style scoped>\n",
              "    .dataframe tbody tr th:only-of-type {\n",
              "        vertical-align: middle;\n",
              "    }\n",
              "\n",
              "    .dataframe tbody tr th {\n",
              "        vertical-align: top;\n",
              "    }\n",
              "\n",
              "    .dataframe thead th {\n",
              "        text-align: right;\n",
              "    }\n",
              "</style>\n",
              "<table border=\"1\" class=\"dataframe\">\n",
              "  <thead>\n",
              "    <tr style=\"text-align: right;\">\n",
              "      <th></th>\n",
              "      <th>msno</th>\n",
              "      <th>song</th>\n",
              "    </tr>\n",
              "  </thead>\n",
              "  <tbody>\n",
              "    <tr>\n",
              "      <th>2513175</th>\n",
              "      <td>lO+aqcXqoddiIeyGRMib1syQz49lKoWw3r/rpWXd1VI=</td>\n",
              "      <td>BANGTAN BOYS | Burning Up (FIRE) | Pdogg| \"hit...</td>\n",
              "    </tr>\n",
              "    <tr>\n",
              "      <th>595389</th>\n",
              "      <td>gRoIzb7mNqxkbvTnwYTIUOwu876QMsybux9zA2xVibg=</td>\n",
              "      <td>Bii畢書盡+陳勢安+陳彥允+李玉璽 | Love More - 三立、東森偶像劇&lt;料理高校...</td>\n",
              "    </tr>\n",
              "    <tr>\n",
              "      <th>5619602</th>\n",
              "      <td>DgEJg7TwYediP2BflkGBc9doc5KaYoCXU3me0BUicTs=</td>\n",
              "      <td>Francois Couture| Denis Veilleux | Les brises ...</td>\n",
              "    </tr>\n",
              "    <tr>\n",
              "      <th>4650367</th>\n",
              "      <td>NSBR1BrOO3XDapGQCMi19nRidHD4qzoEXbGGnBap/e0=</td>\n",
              "      <td>林俊傑 (JJ Lin) | 會讀書 | 林俊傑 | 張思爾</td>\n",
              "    </tr>\n",
              "    <tr>\n",
              "      <th>6179108</th>\n",
              "      <td>eBI/hC7oKMUr6pKnPurBw/FJwk1jE8RQua+X31U08gU=</td>\n",
              "      <td>孫盛希 (Shi Shi) | 微笑帶過 (Passing Smile) | 孫盛希 | M...</td>\n",
              "    </tr>\n",
              "  </tbody>\n",
              "</table>\n",
              "</div>"
            ],
            "text/plain": [
              "                                                 msno                                               song\n",
              "2513175  lO+aqcXqoddiIeyGRMib1syQz49lKoWw3r/rpWXd1VI=  BANGTAN BOYS | Burning Up (FIRE) | Pdogg| \"hit...\n",
              "595389   gRoIzb7mNqxkbvTnwYTIUOwu876QMsybux9zA2xVibg=  Bii畢書盡+陳勢安+陳彥允+李玉璽 | Love More - 三立、東森偶像劇<料理高校...\n",
              "5619602  DgEJg7TwYediP2BflkGBc9doc5KaYoCXU3me0BUicTs=  Francois Couture| Denis Veilleux | Les brises ...\n",
              "4650367  NSBR1BrOO3XDapGQCMi19nRidHD4qzoEXbGGnBap/e0=                     林俊傑 (JJ Lin) | 會讀書 | 林俊傑 | 張思爾\n",
              "6179108  eBI/hC7oKMUr6pKnPurBw/FJwk1jE8RQua+X31U08gU=  孫盛希 (Shi Shi) | 微笑帶過 (Passing Smile) | 孫盛希 | M..."
            ]
          },
          "metadata": {
            "tags": []
          },
          "execution_count": 51
        }
      ]
    },
    {
      "cell_type": "code",
      "metadata": {
        "id": "yuqg5yybPlQk"
      },
      "source": [
        "targeted_numpy = targeted.to_numpy()\n",
        "dictionary = [[str(x[1]) for x in targeted_numpy[targeted_numpy[:, 0] == user]] for user in targeted.msno.unique()]"
      ],
      "execution_count": 96,
      "outputs": []
    },
    {
      "cell_type": "markdown",
      "metadata": {
        "id": "iNfQDP-0XSoF"
      },
      "source": [
        "Then we can train Word2Vec model and look at similars for some songs."
      ]
    },
    {
      "cell_type": "code",
      "metadata": {
        "colab": {
          "base_uri": "https://localhost:8080/"
        },
        "id": "SbrP7LgoisAp",
        "outputId": "dd5b62b9-fd4c-497a-ed59-3304d1ab4de1"
      },
      "source": [
        "model = Word2Vec(dictionary, window=20, size=50, negative=20, min_count=1, workers = multiprocessing.cpu_count())\n",
        "\n",
        "model.train(dictionary, total_examples=model.corpus_count, epochs=10, report_delay=1)"
      ],
      "execution_count": 97,
      "outputs": [
        {
          "output_type": "execute_result",
          "data": {
            "text/plain": [
              "(506960, 507330)"
            ]
          },
          "metadata": {
            "tags": []
          },
          "execution_count": 97
        }
      ]
    },
    {
      "cell_type": "code",
      "metadata": {
        "id": "SKMwK2jENYr7"
      },
      "source": [
        "def get_similar(name):\n",
        "    for item in model.wv.most_similar(name, topn=5):\n",
        "        print(f'score {item[1]} for {item[0]}')"
      ],
      "execution_count": 54,
      "outputs": []
    },
    {
      "cell_type": "code",
      "metadata": {
        "id": "CZjUCVoqy4BR"
      },
      "source": [
        "dictionary[30:50]"
      ],
      "execution_count": null,
      "outputs": []
    },
    {
      "cell_type": "code",
      "metadata": {
        "colab": {
          "base_uri": "https://localhost:8080/"
        },
        "id": "5kAIA4CSyv3B",
        "outputId": "761dc518-e742-4ff0-bf2c-985ccdec1b6b"
      },
      "source": [
        "get_similar('Maroon 5 | Wipe Your Eyes | Adam Levine| Jonathan Rotem| Ross Golan| Sanjeet Singh Kang | Other')"
      ],
      "execution_count": null,
      "outputs": [
        {
          "output_type": "stream",
          "text": [
            "score 0.9983172416687012 for One Direction | End of the Day | Ed Drewett|John Ryan|Julian Bunetta|Liam Payne|Louis Tomlinson|Jacob Kasher|Gamal Lewis|Wayne Hector | Ed Drewett|John Ryan|Julian Bunetta|Liam Payne|Louis Tomlinson|Jacob Kasher|Gamal Lewis|Wayne Hector\n",
            "score 0.9981319308280945 for Air Supply | Young Love | Graham Russell | Graham Russell\n",
            "score 0.9975491762161255 for The Wanted | Satellite | Ryan Tedder|Noel Zancanella|Evan Bogart | Other\n",
            "score 0.9969307780265808 for 游學志 | Warm | 人工衛星 | 李焯雄\n",
            "score 0.8406094908714294 for John Legend | All Of Me (Album Version) | John Stephens|Toby Gad | John Stephens|Toby Gad\n"
          ],
          "name": "stdout"
        }
      ]
    },
    {
      "cell_type": "code",
      "metadata": {
        "colab": {
          "base_uri": "https://localhost:8080/"
        },
        "id": "z2mJDbBhzRBO",
        "outputId": "42ec72c2-c9f3-4715-c7eb-fea27558b0a0"
      },
      "source": [
        "get_similar('One Direction | End of the Day | Ed Drewett|John Ryan|Julian Bunetta|Liam Payne|Louis Tomlinson|Jacob Kasher|Gamal Lewis|Wayne Hector | Ed Drewett|John Ryan|Julian Bunetta|Liam Payne|Louis Tomlinson|Jacob Kasher|Gamal Lewis|Wayne Hector')"
      ],
      "execution_count": null,
      "outputs": [
        {
          "output_type": "stream",
          "text": [
            "score 0.9991381168365479 for The Wanted | Satellite | Ryan Tedder|Noel Zancanella|Evan Bogart | Other\n",
            "score 0.9988506436347961 for 游學志 | Warm | 人工衛星 | 李焯雄\n",
            "score 0.9983172416687012 for Maroon 5 | Wipe Your Eyes | Adam Levine| Jonathan Rotem| Ross Golan| Sanjeet Singh Kang | Other\n",
            "score 0.997550904750824 for Air Supply | Young Love | Graham Russell | Graham Russell\n",
            "score 0.8443043231964111 for Train | Hey| Soul Sister | Other | Other\n"
          ],
          "name": "stdout"
        }
      ]
    },
    {
      "cell_type": "code",
      "metadata": {
        "colab": {
          "base_uri": "https://localhost:8080/"
        },
        "id": "lmDFSJzKM9LU",
        "outputId": "a45fd260-7950-4f14-e514-3326e56f9cd9"
      },
      "source": [
        "get_similar('Bring Me The Horizon | Shadow Moses | Other | Other')"
      ],
      "execution_count": null,
      "outputs": [
        {
          "output_type": "stream",
          "text": [
            "score 0.9749314188957214 for Danger Danger | Hearts On The Highway | Other | Other\n",
            "score 0.9553470611572266 for Halestorm | Here's To Us | Other | Other\n",
            "score 0.9414724111557007 for Fastway | Don't Stop The Fight | Other | Other\n",
            "score 0.9125471115112305 for KIX | Cold Blood | Other | Other\n",
            "score 0.9015350341796875 for Three Days Grace | Animal I Have Become | 寬限三日樂團|Barry Stock|G. Brown | 寬限三日樂團|Barry Stock|G. Brown\n"
          ],
          "name": "stdout"
        }
      ]
    },
    {
      "cell_type": "code",
      "metadata": {
        "colab": {
          "base_uri": "https://localhost:8080/"
        },
        "id": "_YkwiRJv94Z3",
        "outputId": "ce4ca9de-734f-4d17-d685-d3690e2ae3c0"
      },
      "source": [
        "get_similar('Three Days Grace | Animal I Have Become | 寬限三日樂團|Barry Stock|G. Brown | 寬限三日樂團|Barry Stock|G. Brown')"
      ],
      "execution_count": null,
      "outputs": [
        {
          "output_type": "stream",
          "text": [
            "score 0.901535153388977 for Bring Me The Horizon | Shadow Moses | Other | Other\n",
            "score 0.8848183155059814 for Mr. Big | Wild World | Other | Other\n",
            "score 0.8232430219650269 for Danger Danger | Hearts On The Highway | Other | Other\n",
            "score 0.8137735724449158 for Halestorm | Here's To Us | Other | Other\n",
            "score 0.8115438222885132 for 獅子合唱團 (Lion) | 為你 (For You) | Jam Hsiao | Jam Hsiao\n"
          ],
          "name": "stdout"
        }
      ]
    },
    {
      "cell_type": "markdown",
      "metadata": {
        "id": "H_jqJ_rtXgJO"
      },
      "source": [
        "Now we want to create and add as the new feature a column with the scalar product of average word2vec representation for a user and the word2vec representation for a song at each row. "
      ]
    },
    {
      "cell_type": "code",
      "metadata": {
        "id": "p3YTAf4oxS71"
      },
      "source": [
        "user_w2v = {user: np.array([model.wv[word] for word in dictionary[i]]).mean(axis=0) for (i, user) in enumerate(targeted.msno.unique())}\n",
        "user_song = emb_data[['msno', 'target']].merge(targeted, on='msno')\n",
        "user_song['cos'] = user_song.apply(lambda x: cosine_similarity([user_w2v[x['msno']]], [model.wv[x['song']]]), axis=1).apply(lambda x: x[0][0])"
      ],
      "execution_count": 98,
      "outputs": []
    },
    {
      "cell_type": "markdown",
      "metadata": {
        "id": "zeYsRRhRYLgH"
      },
      "source": [
        "Then we look at roc auc score for predictions only on normalized scalar product. We got the value more than 0.5, so this embedding coulb be used."
      ]
    },
    {
      "cell_type": "code",
      "metadata": {
        "colab": {
          "base_uri": "https://localhost:8080/"
        },
        "id": "ONuGxXWYf15V",
        "outputId": "21d4619a-b50e-44f3-ccdb-0a4462ece5f9"
      },
      "source": [
        "roc_auc_score(user_song['target'], user_song['cos'])"
      ],
      "execution_count": 107,
      "outputs": [
        {
          "output_type": "execute_result",
          "data": {
            "text/plain": [
              "0.501143664754616"
            ]
          },
          "metadata": {
            "tags": []
          },
          "execution_count": 107
        }
      ]
    },
    {
      "cell_type": "markdown",
      "metadata": {
        "id": "OLx5eSKaYhim"
      },
      "source": [
        "Compare score and the shap values for subsample of 1000 elements (because whole dataset is quite large and shap values are crashed) for data before adding embedding with scalar product and with it (column `cos`)."
      ]
    },
    {
      "cell_type": "code",
      "metadata": {
        "id": "aazHgSsRLrB9"
      },
      "source": [
        "data = data.merge(user_song[['cos', 'msno']], on='msno')"
      ],
      "execution_count": 100,
      "outputs": []
    },
    {
      "cell_type": "code",
      "metadata": {
        "id": "1FUv1k18VQtt"
      },
      "source": [
        "data = data.sample(1000)"
      ],
      "execution_count": 70,
      "outputs": []
    },
    {
      "cell_type": "code",
      "metadata": {
        "id": "9iXlzo8p2cOO"
      },
      "source": [
        "X = data.drop(columns=['cos', 'target', 'msno', 'registration_init_time', 'expiration_date', 'song_id'])\n",
        "y = data['target']"
      ],
      "execution_count": 104,
      "outputs": []
    },
    {
      "cell_type": "code",
      "metadata": {
        "colab": {
          "base_uri": "https://localhost:8080/"
        },
        "id": "8b_D7nF22Frk",
        "outputId": "028addbe-fae9-49c6-d92d-e30c40234a28"
      },
      "source": [
        "skf = StratifiedKFold(n_splits=5, random_state=1, shuffle=True)\n",
        "\n",
        "best_model = XGBClassifier(tree_method='gpu_hist', gpu_id=0, n_jobs=-1,\n",
        "                           n_estimators=64, max_depth=5)\n",
        "_ = best_model.fit(X, y)\n",
        "score = cross_validate(best_model, X, y, cv=skf, n_jobs=-1, verbose=1, scoring='roc_auc')['test_score']\n",
        "\n",
        "print(f'ROC AUC for the best model: {np.mean(score)}')"
      ],
      "execution_count": 74,
      "outputs": [
        {
          "output_type": "stream",
          "text": [
            "[Parallel(n_jobs=-1)]: Using backend LokyBackend with 2 concurrent workers.\n"
          ],
          "name": "stderr"
        },
        {
          "output_type": "stream",
          "text": [
            "ROC AUC for the best model: 0.7264038958992677\n"
          ],
          "name": "stdout"
        },
        {
          "output_type": "stream",
          "text": [
            "[Parallel(n_jobs=-1)]: Done   5 out of   5 | elapsed:    2.2s finished\n"
          ],
          "name": "stderr"
        }
      ]
    },
    {
      "cell_type": "code",
      "metadata": {
        "colab": {
          "base_uri": "https://localhost:8080/",
          "height": 986
        },
        "id": "y2ZZN2frAAae",
        "outputId": "e7a204f6-38cc-4cbd-ddbb-f7ef0e680f99"
      },
      "source": [
        "X_train, X_test, y_train, y_test = train_test_split(X, y)\n",
        "\n",
        "model = XGBClassifier(n_estimators=64, max_depth=5)\n",
        "model.fit(X_train, y_train)\n",
        "\n",
        "explainer = shap.Explainer(model)\n",
        "shap_values = explainer(X_test)\n",
        "shap.plots.bar(shap_values)\n",
        "shap.summary_plot(shap_values, X_test)"
      ],
      "execution_count": 75,
      "outputs": [
        {
          "output_type": "display_data",
          "data": {
            "image/png": "[encoded data removed]",
            "text/plain": [
              "<Figure size 576x468 with 1 Axes>"
            ]
          },
          "metadata": {
            "tags": []
          }
        },
        {
          "output_type": "display_data",
          "data": {
            "image/png": "[encoded data removed]",
            "text/plain": [
              "<Figure size 576x684 with 2 Axes>"
            ]
          },
          "metadata": {
            "tags": [],
            "needs_background": "light"
          }
        }
      ]
    },
    {
      "cell_type": "code",
      "metadata": {
        "id": "PJT69xCe1_Mg"
      },
      "source": [
        "X = data.drop(columns=['target', 'msno', 'registration_init_time', 'expiration_date', 'song_id'])\n",
        "y = data['target']"
      ],
      "execution_count": 86,
      "outputs": []
    },
    {
      "cell_type": "code",
      "metadata": {
        "colab": {
          "base_uri": "https://localhost:8080/"
        },
        "id": "W3YAdy5S2oSD",
        "outputId": "dfd564be-ebfb-4e92-d587-27bc54c99868"
      },
      "source": [
        "skf = StratifiedKFold(n_splits=5, random_state=1, shuffle=True)\n",
        "\n",
        "best_model = XGBClassifier(tree_method='gpu_hist', gpu_id=0, n_jobs=-1,\n",
        "                           n_estimators=64, max_depth=5)\n",
        "_ = best_model.fit(X, y)\n",
        "score = cross_validate(best_model, X, y, cv=skf, n_jobs=-1, verbose=1, scoring='roc_auc')['test_score']\n",
        "\n",
        "print(f'ROC AUC for the best model: {np.mean(score)}')"
      ],
      "execution_count": 84,
      "outputs": [
        {
          "output_type": "stream",
          "text": [
            "[Parallel(n_jobs=-1)]: Using backend LokyBackend with 2 concurrent workers.\n"
          ],
          "name": "stderr"
        },
        {
          "output_type": "stream",
          "text": [
            "ROC AUC for the best model: 0.7728916074758357\n"
          ],
          "name": "stdout"
        },
        {
          "output_type": "stream",
          "text": [
            "[Parallel(n_jobs=-1)]: Done   5 out of   5 | elapsed:    1.5s finished\n"
          ],
          "name": "stderr"
        }
      ]
    },
    {
      "cell_type": "code",
      "metadata": {
        "colab": {
          "base_uri": "https://localhost:8080/",
          "height": 986
        },
        "id": "9UJavdF_-ATN",
        "outputId": "6fc296bd-b7b1-439f-f3d5-30bfa3e9d78c"
      },
      "source": [
        "X_train, X_test, y_train, y_test = train_test_split(X, y)\n",
        "\n",
        "model = XGBClassifier(n_estimators=64, max_depth=5)\n",
        "model.fit(X_train, y_train)\n",
        "\n",
        "explainer = shap.Explainer(model)\n",
        "shap_values = explainer(X_test)\n",
        "shap.plots.bar(shap_values)\n",
        "shap.summary_plot(shap_values, X_test)"
      ],
      "execution_count": 87,
      "outputs": [
        {
          "output_type": "display_data",
          "data": {
            "image/png": "[encoded data removed]",
            "text/plain": [
              "<Figure size 576x468 with 1 Axes>"
            ]
          },
          "metadata": {
            "tags": []
          }
        },
        {
          "output_type": "display_data",
          "data": {
            "image/png": "[encoded data removed]",
            "text/plain": [
              "<Figure size 576x684 with 2 Axes>"
            ]
          },
          "metadata": {
            "tags": [],
            "needs_background": "light"
          }
        }
      ]
    },
    {
      "cell_type": "markdown",
      "metadata": {
        "id": "F81gLi1F9n5n"
      },
      "source": [
        "The score with embedding is a little more. We can see that `cos` has a quite significant importance. So it's better to use it for this task. I think if I would test on the entire dataset the scores will be higher but the colab doesn't give me that much RAM."
      ]
    }
  ]
}